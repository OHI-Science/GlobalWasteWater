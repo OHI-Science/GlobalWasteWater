{
 "cells": [
  {
   "cell_type": "markdown",
   "metadata": {},
   "source": [
    "# Pour Points Subset\n",
    "\n",
    "The goal of this notebook is to subset some pour points to see if we can get grass working\n",
    "\n",
    "Cascade Tuholske 2020.01.17"
   ]
  },
  {
   "cell_type": "code",
   "execution_count": 2,
   "metadata": {},
   "outputs": [],
   "source": [
    "DATA_OUT = '/Users/cascade/Github/wastewater_ohi/scratch/cascade/pour_points_test/'\n",
    "FN_OUT = 'pour_points_test.shp'\n",
    "\n",
    "DATA_IN = '/Users/cascade/Github/wastewater_ohi/pilot_data/intermediate_files/'\n",
    "FN_IN = 'pour_points_1.shp'\n"
   ]
  },
  {
   "cell_type": "code",
   "execution_count": 3,
   "metadata": {},
   "outputs": [],
   "source": [
    "import pandas as pd\n",
    "import geopandas as gpd"
   ]
  },
  {
   "cell_type": "code",
   "execution_count": 4,
   "metadata": {},
   "outputs": [],
   "source": [
    "data_in = gpd.read_file(DATA_IN+FN_IN)"
   ]
  },
  {
   "cell_type": "code",
   "execution_count": 5,
   "metadata": {},
   "outputs": [
    {
     "data": {
      "text/html": [
       "<div>\n",
       "<style scoped>\n",
       "    .dataframe tbody tr th:only-of-type {\n",
       "        vertical-align: middle;\n",
       "    }\n",
       "\n",
       "    .dataframe tbody tr th {\n",
       "        vertical-align: top;\n",
       "    }\n",
       "\n",
       "    .dataframe thead th {\n",
       "        text-align: right;\n",
       "    }\n",
       "</style>\n",
       "<table border=\"1\" class=\"dataframe\">\n",
       "  <thead>\n",
       "    <tr style=\"text-align: right;\">\n",
       "      <th></th>\n",
       "      <th>basin_id</th>\n",
       "      <th>effluent</th>\n",
       "      <th>count</th>\n",
       "      <th>area</th>\n",
       "      <th>geometry</th>\n",
       "    </tr>\n",
       "  </thead>\n",
       "  <tbody>\n",
       "    <tr>\n",
       "      <th>0</th>\n",
       "      <td>au_09801</td>\n",
       "      <td>0.322460</td>\n",
       "      <td>24.0</td>\n",
       "      <td>15.699186</td>\n",
       "      <td>POINT (146.8219651444376 -43.60949863547439)</td>\n",
       "    </tr>\n",
       "    <tr>\n",
       "      <th>1</th>\n",
       "      <td>au_09800</td>\n",
       "      <td>0.639000</td>\n",
       "      <td>97.0</td>\n",
       "      <td>59.491653</td>\n",
       "      <td>POINT (146.7864204720527 -43.59475206279834)</td>\n",
       "    </tr>\n",
       "    <tr>\n",
       "      <th>2</th>\n",
       "      <td>au_09799</td>\n",
       "      <td>0.013952</td>\n",
       "      <td>32.0</td>\n",
       "      <td>19.004278</td>\n",
       "      <td>POINT (146.6760535297358 -43.5929654521181)</td>\n",
       "    </tr>\n",
       "    <tr>\n",
       "      <th>3</th>\n",
       "      <td>au_09802</td>\n",
       "      <td>8.462283</td>\n",
       "      <td>50.0</td>\n",
       "      <td>32.224645</td>\n",
       "      <td>POINT (146.8939241562096 -43.5797443764525)</td>\n",
       "    </tr>\n",
       "    <tr>\n",
       "      <th>4</th>\n",
       "      <td>au_09796</td>\n",
       "      <td>0.018312</td>\n",
       "      <td>42.0</td>\n",
       "      <td>26.440735</td>\n",
       "      <td>POINT (146.6514452448183 -43.57753726756984)</td>\n",
       "    </tr>\n",
       "  </tbody>\n",
       "</table>\n",
       "</div>"
      ],
      "text/plain": [
       "   basin_id  effluent  count       area  \\\n",
       "0  au_09801  0.322460   24.0  15.699186   \n",
       "1  au_09800  0.639000   97.0  59.491653   \n",
       "2  au_09799  0.013952   32.0  19.004278   \n",
       "3  au_09802  8.462283   50.0  32.224645   \n",
       "4  au_09796  0.018312   42.0  26.440735   \n",
       "\n",
       "                                       geometry  \n",
       "0  POINT (146.8219651444376 -43.60949863547439)  \n",
       "1  POINT (146.7864204720527 -43.59475206279834)  \n",
       "2   POINT (146.6760535297358 -43.5929654521181)  \n",
       "3   POINT (146.8939241562096 -43.5797443764525)  \n",
       "4  POINT (146.6514452448183 -43.57753726756984)  "
      ]
     },
     "execution_count": 5,
     "metadata": {},
     "output_type": "execute_result"
    }
   ],
   "source": [
    "data_in.head()"
   ]
  },
  {
   "cell_type": "code",
   "execution_count": 4,
   "metadata": {},
   "outputs": [],
   "source": [
    "data_out = data_in.loc[:200]"
   ]
  },
  {
   "cell_type": "code",
   "execution_count": 5,
   "metadata": {},
   "outputs": [],
   "source": [
    "data_out.to_file(DATA_OUT+FN_OUT)"
   ]
  },
  {
   "cell_type": "code",
   "execution_count": 6,
   "metadata": {},
   "outputs": [
    {
     "data": {
      "text/plain": [
       "201"
      ]
     },
     "execution_count": 6,
     "metadata": {},
     "output_type": "execute_result"
    }
   ],
   "source": [
    "len(data_out)"
   ]
  }
 ],
 "metadata": {
  "kernelspec": {
   "display_name": "Python 3",
   "language": "python",
   "name": "python3"
  },
  "language_info": {
   "codemirror_mode": {
    "name": "ipython",
    "version": 3
   },
   "file_extension": ".py",
   "mimetype": "text/x-python",
   "name": "python",
   "nbconvert_exporter": "python",
   "pygments_lexer": "ipython3",
   "version": "3.7.3"
  }
 },
 "nbformat": 4,
 "nbformat_minor": 2
}
