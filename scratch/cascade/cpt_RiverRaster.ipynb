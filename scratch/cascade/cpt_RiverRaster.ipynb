{
 "cells": [
  {
   "cell_type": "markdown",
   "metadata": {},
   "source": [
    "# River Raster\n",
    "\n",
    "The goal of this note book is to take river network from [Yan 2019](https://doi.org/10.1038/s41597-019-0243-y) vector files, join it with coastline files from the ocean_mask.tif and make a 1-km binary raster. Also using [Hydrosheds] 30s product. (https://www.hydrosheds.org/)\n",
    "\n",
    "Note that the isloated 'coastline' from the GHS-SMOD also includes inland lakes. \n",
    "\n",
    "**Steps**\n",
    "\n",
    "*To do once complete: Add file names and data descriptions to project*"
   ]
  },
  {
   "cell_type": "markdown",
   "metadata": {},
   "source": [
    "### Dependencies"
   ]
  },
  {
   "cell_type": "code",
   "execution_count": 23,
   "metadata": {},
   "outputs": [],
   "source": [
    "import rasterio \n",
    "import numpy as np\n",
    "import pandas as pd\n",
    "import geopandas as gpd\n",
    "from rasterio import features\n",
    "import os\n",
    "from glob import glob"
   ]
  },
  {
   "cell_type": "markdown",
   "metadata": {},
   "source": [
    "### Files Paths"
   ]
  },
  {
   "cell_type": "code",
   "execution_count": 39,
   "metadata": {},
   "outputs": [],
   "source": [
    "# DATA_IN = '/Users/cascade/Desktop/Yan2019_Rivers/river_and_wrz/Global_River_L1_to_L4/' #YAN2019\n",
    "DATA_IN = '/Users/cascade/Github/wastewater_ohi/data/raw/Hydrosheds/RIV_30s/'\n",
    "DATA_OUT = '/Users/cascade/Desktop/Hydro_river_files/'"
   ]
  },
  {
   "cell_type": "markdown",
   "metadata": {},
   "source": [
    "### Loop through rivers and merge them"
   ]
  },
  {
   "cell_type": "code",
   "execution_count": 40,
   "metadata": {},
   "outputs": [],
   "source": [
    "dir_list = glob(DATA_IN)"
   ]
  },
  {
   "cell_type": "code",
   "execution_count": 41,
   "metadata": {
    "scrolled": false
   },
   "outputs": [
    {
     "data": {
      "text/plain": [
       "['/Users/cascade/Github/wastewater_ohi/data/raw/Hydrosheds/RIV_30s/na_riv_30s/',\n",
       " '/Users/cascade/Github/wastewater_ohi/data/raw/Hydrosheds/RIV_30s/eu_riv_30s/',\n",
       " '/Users/cascade/Github/wastewater_ohi/data/raw/Hydrosheds/RIV_30s/af_riv_30s/',\n",
       " '/Users/cascade/Github/wastewater_ohi/data/raw/Hydrosheds/RIV_30s/as_riv_30s/',\n",
       " '/Users/cascade/Github/wastewater_ohi/data/raw/Hydrosheds/RIV_30s/ca_riv_30s/',\n",
       " '/Users/cascade/Github/wastewater_ohi/data/raw/Hydrosheds/RIV_30s/sa_riv_30s/',\n",
       " '/Users/cascade/Github/wastewater_ohi/data/raw/Hydrosheds/RIV_30s/au_riv_30s/']"
      ]
     },
     "execution_count": 41,
     "metadata": {},
     "output_type": "execute_result"
    }
   ],
   "source": [
    "dir_list= glob(DATA_IN+'*/')\n",
    "dir_list"
   ]
  },
  {
   "cell_type": "code",
   "execution_count": 48,
   "metadata": {
    "scrolled": true
   },
   "outputs": [
    {
     "name": "stdout",
     "output_type": "stream",
     "text": [
      "(432538, 3)\n",
      "(896714, 3)\n",
      "(1613576, 3)\n",
      "(2483432, 3)\n",
      "(2560117, 3)\n",
      "(2999273, 3)\n",
      "(3199865, 3)\n"
     ]
    },
    {
     "ename": "KeyboardInterrupt",
     "evalue": "",
     "output_type": "error",
     "traceback": [
      "\u001b[0;31m---------------------------------------------------------------------------\u001b[0m",
      "\u001b[0;31mKeyboardInterrupt\u001b[0m                         Traceback (most recent call last)",
      "\u001b[0;32m<ipython-input-48-8da7e850d452>\u001b[0m in \u001b[0;36m<module>\u001b[0;34m\u001b[0m\n\u001b[1;32m     12\u001b[0m \u001b[0;34m\u001b[0m\u001b[0m\n\u001b[1;32m     13\u001b[0m \u001b[0;31m# write out to file\u001b[0m\u001b[0;34m\u001b[0m\u001b[0;34m\u001b[0m\u001b[0;34m\u001b[0m\u001b[0m\n\u001b[0;32m---> 14\u001b[0;31m \u001b[0mgpd_out\u001b[0m\u001b[0;34m.\u001b[0m\u001b[0mto_file\u001b[0m\u001b[0;34m(\u001b[0m\u001b[0mDATA_OUT\u001b[0m\u001b[0;34m+\u001b[0m\u001b[0;34m'Hydro30s_rivers_stacked.shp'\u001b[0m\u001b[0;34m)\u001b[0m\u001b[0;34m\u001b[0m\u001b[0;34m\u001b[0m\u001b[0m\n\u001b[0m",
      "\u001b[0;32m~/miniconda3/envs/geo37/lib/python3.7/site-packages/geopandas/geodataframe.py\u001b[0m in \u001b[0;36mto_file\u001b[0;34m(self, filename, driver, schema, **kwargs)\u001b[0m\n\u001b[1;32m    411\u001b[0m         \"\"\"\n\u001b[1;32m    412\u001b[0m         \u001b[0;32mfrom\u001b[0m \u001b[0mgeopandas\u001b[0m\u001b[0;34m.\u001b[0m\u001b[0mio\u001b[0m\u001b[0;34m.\u001b[0m\u001b[0mfile\u001b[0m \u001b[0;32mimport\u001b[0m \u001b[0mto_file\u001b[0m\u001b[0;34m\u001b[0m\u001b[0;34m\u001b[0m\u001b[0m\n\u001b[0;32m--> 413\u001b[0;31m         \u001b[0mto_file\u001b[0m\u001b[0;34m(\u001b[0m\u001b[0mself\u001b[0m\u001b[0;34m,\u001b[0m \u001b[0mfilename\u001b[0m\u001b[0;34m,\u001b[0m \u001b[0mdriver\u001b[0m\u001b[0;34m,\u001b[0m \u001b[0mschema\u001b[0m\u001b[0;34m,\u001b[0m \u001b[0;34m**\u001b[0m\u001b[0mkwargs\u001b[0m\u001b[0;34m)\u001b[0m\u001b[0;34m\u001b[0m\u001b[0;34m\u001b[0m\u001b[0m\n\u001b[0m\u001b[1;32m    414\u001b[0m \u001b[0;34m\u001b[0m\u001b[0m\n\u001b[1;32m    415\u001b[0m     \u001b[0;32mdef\u001b[0m \u001b[0mto_crs\u001b[0m\u001b[0;34m(\u001b[0m\u001b[0mself\u001b[0m\u001b[0;34m,\u001b[0m \u001b[0mcrs\u001b[0m\u001b[0;34m=\u001b[0m\u001b[0;32mNone\u001b[0m\u001b[0;34m,\u001b[0m \u001b[0mepsg\u001b[0m\u001b[0;34m=\u001b[0m\u001b[0;32mNone\u001b[0m\u001b[0;34m,\u001b[0m \u001b[0minplace\u001b[0m\u001b[0;34m=\u001b[0m\u001b[0;32mFalse\u001b[0m\u001b[0;34m)\u001b[0m\u001b[0;34m:\u001b[0m\u001b[0;34m\u001b[0m\u001b[0;34m\u001b[0m\u001b[0m\n",
      "\u001b[0;32m~/miniconda3/envs/geo37/lib/python3.7/site-packages/geopandas/io/file.py\u001b[0m in \u001b[0;36mto_file\u001b[0;34m(df, filename, driver, schema, **kwargs)\u001b[0m\n\u001b[1;32m    115\u001b[0m         with fiona.open(filename, 'w', driver=driver, crs=df.crs,\n\u001b[1;32m    116\u001b[0m                         schema=schema, **kwargs) as colxn:\n\u001b[0;32m--> 117\u001b[0;31m             \u001b[0mcolxn\u001b[0m\u001b[0;34m.\u001b[0m\u001b[0mwriterecords\u001b[0m\u001b[0;34m(\u001b[0m\u001b[0mdf\u001b[0m\u001b[0;34m.\u001b[0m\u001b[0miterfeatures\u001b[0m\u001b[0;34m(\u001b[0m\u001b[0;34m)\u001b[0m\u001b[0;34m)\u001b[0m\u001b[0;34m\u001b[0m\u001b[0;34m\u001b[0m\u001b[0m\n\u001b[0m\u001b[1;32m    118\u001b[0m \u001b[0;34m\u001b[0m\u001b[0m\n\u001b[1;32m    119\u001b[0m \u001b[0;34m\u001b[0m\u001b[0m\n",
      "\u001b[0;32m~/miniconda3/envs/geo37/lib/python3.7/site-packages/fiona/collection.py\u001b[0m in \u001b[0;36mwriterecords\u001b[0;34m(self, records)\u001b[0m\n\u001b[1;32m    347\u001b[0m         \u001b[0;32mif\u001b[0m \u001b[0mself\u001b[0m\u001b[0;34m.\u001b[0m\u001b[0mmode\u001b[0m \u001b[0;32mnot\u001b[0m \u001b[0;32min\u001b[0m \u001b[0;34m(\u001b[0m\u001b[0;34m'a'\u001b[0m\u001b[0;34m,\u001b[0m \u001b[0;34m'w'\u001b[0m\u001b[0;34m)\u001b[0m\u001b[0;34m:\u001b[0m\u001b[0;34m\u001b[0m\u001b[0;34m\u001b[0m\u001b[0m\n\u001b[1;32m    348\u001b[0m             \u001b[0;32mraise\u001b[0m \u001b[0mIOError\u001b[0m\u001b[0;34m(\u001b[0m\u001b[0;34m\"collection not open for writing\"\u001b[0m\u001b[0;34m)\u001b[0m\u001b[0;34m\u001b[0m\u001b[0;34m\u001b[0m\u001b[0m\n\u001b[0;32m--> 349\u001b[0;31m         \u001b[0mself\u001b[0m\u001b[0;34m.\u001b[0m\u001b[0msession\u001b[0m\u001b[0;34m.\u001b[0m\u001b[0mwriterecs\u001b[0m\u001b[0;34m(\u001b[0m\u001b[0mrecords\u001b[0m\u001b[0;34m,\u001b[0m \u001b[0mself\u001b[0m\u001b[0;34m)\u001b[0m\u001b[0;34m\u001b[0m\u001b[0;34m\u001b[0m\u001b[0m\n\u001b[0m\u001b[1;32m    350\u001b[0m         \u001b[0mself\u001b[0m\u001b[0;34m.\u001b[0m\u001b[0m_len\u001b[0m \u001b[0;34m=\u001b[0m \u001b[0mself\u001b[0m\u001b[0;34m.\u001b[0m\u001b[0msession\u001b[0m\u001b[0;34m.\u001b[0m\u001b[0mget_length\u001b[0m\u001b[0;34m(\u001b[0m\u001b[0;34m)\u001b[0m\u001b[0;34m\u001b[0m\u001b[0;34m\u001b[0m\u001b[0m\n\u001b[1;32m    351\u001b[0m         \u001b[0mself\u001b[0m\u001b[0;34m.\u001b[0m\u001b[0m_bounds\u001b[0m \u001b[0;34m=\u001b[0m \u001b[0mself\u001b[0m\u001b[0;34m.\u001b[0m\u001b[0msession\u001b[0m\u001b[0;34m.\u001b[0m\u001b[0mget_extent\u001b[0m\u001b[0;34m(\u001b[0m\u001b[0;34m)\u001b[0m\u001b[0;34m\u001b[0m\u001b[0;34m\u001b[0m\u001b[0m\n",
      "\u001b[0;32mfiona/ogrext.pyx\u001b[0m in \u001b[0;36mfiona.ogrext.WritingSession.writerecs\u001b[0;34m()\u001b[0m\n",
      "\u001b[0;32m~/miniconda3/envs/geo37/lib/python3.7/site-packages/geopandas/geodataframe.py\u001b[0m in \u001b[0;36miterfeatures\u001b[0;34m(self, na, show_bbox)\u001b[0m\n\u001b[1;32m    352\u001b[0m         \u001b[0mf\u001b[0m \u001b[0;34m=\u001b[0m \u001b[0mna_methods\u001b[0m\u001b[0;34m[\u001b[0m\u001b[0mna\u001b[0m\u001b[0;34m]\u001b[0m\u001b[0;34m\u001b[0m\u001b[0;34m\u001b[0m\u001b[0m\n\u001b[1;32m    353\u001b[0m \u001b[0;34m\u001b[0m\u001b[0m\n\u001b[0;32m--> 354\u001b[0;31m         \u001b[0;32mfor\u001b[0m \u001b[0mname\u001b[0m\u001b[0;34m,\u001b[0m \u001b[0mrow\u001b[0m \u001b[0;32min\u001b[0m \u001b[0mself\u001b[0m\u001b[0;34m.\u001b[0m\u001b[0miterrows\u001b[0m\u001b[0;34m(\u001b[0m\u001b[0;34m)\u001b[0m\u001b[0;34m:\u001b[0m\u001b[0;34m\u001b[0m\u001b[0;34m\u001b[0m\u001b[0m\n\u001b[0m\u001b[1;32m    355\u001b[0m             \u001b[0mproperties\u001b[0m \u001b[0;34m=\u001b[0m \u001b[0mf\u001b[0m\u001b[0;34m(\u001b[0m\u001b[0mrow\u001b[0m\u001b[0;34m)\u001b[0m\u001b[0;34m\u001b[0m\u001b[0;34m\u001b[0m\u001b[0m\n\u001b[1;32m    356\u001b[0m             \u001b[0;32mdel\u001b[0m \u001b[0mproperties\u001b[0m\u001b[0;34m[\u001b[0m\u001b[0mself\u001b[0m\u001b[0;34m.\u001b[0m\u001b[0m_geometry_column_name\u001b[0m\u001b[0;34m]\u001b[0m\u001b[0;34m\u001b[0m\u001b[0;34m\u001b[0m\u001b[0m\n",
      "\u001b[0;32m~/miniconda3/envs/geo37/lib/python3.7/site-packages/pandas/core/frame.py\u001b[0m in \u001b[0;36miterrows\u001b[0;34m(self)\u001b[0m\n\u001b[1;32m    887\u001b[0m         \u001b[0mklass\u001b[0m \u001b[0;34m=\u001b[0m \u001b[0mself\u001b[0m\u001b[0;34m.\u001b[0m\u001b[0m_constructor_sliced\u001b[0m\u001b[0;34m\u001b[0m\u001b[0;34m\u001b[0m\u001b[0m\n\u001b[1;32m    888\u001b[0m         \u001b[0;32mfor\u001b[0m \u001b[0mk\u001b[0m\u001b[0;34m,\u001b[0m \u001b[0mv\u001b[0m \u001b[0;32min\u001b[0m \u001b[0mzip\u001b[0m\u001b[0;34m(\u001b[0m\u001b[0mself\u001b[0m\u001b[0;34m.\u001b[0m\u001b[0mindex\u001b[0m\u001b[0;34m,\u001b[0m \u001b[0mself\u001b[0m\u001b[0;34m.\u001b[0m\u001b[0mvalues\u001b[0m\u001b[0;34m)\u001b[0m\u001b[0;34m:\u001b[0m\u001b[0;34m\u001b[0m\u001b[0;34m\u001b[0m\u001b[0m\n\u001b[0;32m--> 889\u001b[0;31m             \u001b[0ms\u001b[0m \u001b[0;34m=\u001b[0m \u001b[0mklass\u001b[0m\u001b[0;34m(\u001b[0m\u001b[0mv\u001b[0m\u001b[0;34m,\u001b[0m \u001b[0mindex\u001b[0m\u001b[0;34m=\u001b[0m\u001b[0mcolumns\u001b[0m\u001b[0;34m,\u001b[0m \u001b[0mname\u001b[0m\u001b[0;34m=\u001b[0m\u001b[0mk\u001b[0m\u001b[0;34m)\u001b[0m\u001b[0;34m\u001b[0m\u001b[0;34m\u001b[0m\u001b[0m\n\u001b[0m\u001b[1;32m    890\u001b[0m             \u001b[0;32myield\u001b[0m \u001b[0mk\u001b[0m\u001b[0;34m,\u001b[0m \u001b[0ms\u001b[0m\u001b[0;34m\u001b[0m\u001b[0;34m\u001b[0m\u001b[0m\n\u001b[1;32m    891\u001b[0m \u001b[0;34m\u001b[0m\u001b[0m\n",
      "\u001b[0;32m~/miniconda3/envs/geo37/lib/python3.7/site-packages/pandas/core/series.py\u001b[0m in \u001b[0;36m__init__\u001b[0;34m(self, data, index, dtype, name, copy, fastpath)\u001b[0m\n\u001b[1;32m    309\u001b[0m                     \u001b[0mdata\u001b[0m \u001b[0;34m=\u001b[0m \u001b[0mdata\u001b[0m\u001b[0;34m.\u001b[0m\u001b[0mcopy\u001b[0m\u001b[0;34m(\u001b[0m\u001b[0;34m)\u001b[0m\u001b[0;34m\u001b[0m\u001b[0;34m\u001b[0m\u001b[0m\n\u001b[1;32m    310\u001b[0m             \u001b[0;32melse\u001b[0m\u001b[0;34m:\u001b[0m\u001b[0;34m\u001b[0m\u001b[0;34m\u001b[0m\u001b[0m\n\u001b[0;32m--> 311\u001b[0;31m                 \u001b[0mdata\u001b[0m \u001b[0;34m=\u001b[0m \u001b[0msanitize_array\u001b[0m\u001b[0;34m(\u001b[0m\u001b[0mdata\u001b[0m\u001b[0;34m,\u001b[0m \u001b[0mindex\u001b[0m\u001b[0;34m,\u001b[0m \u001b[0mdtype\u001b[0m\u001b[0;34m,\u001b[0m \u001b[0mcopy\u001b[0m\u001b[0;34m,\u001b[0m \u001b[0mraise_cast_failure\u001b[0m\u001b[0;34m=\u001b[0m\u001b[0;32mTrue\u001b[0m\u001b[0;34m)\u001b[0m\u001b[0;34m\u001b[0m\u001b[0;34m\u001b[0m\u001b[0m\n\u001b[0m\u001b[1;32m    312\u001b[0m \u001b[0;34m\u001b[0m\u001b[0m\n\u001b[1;32m    313\u001b[0m                 \u001b[0mdata\u001b[0m \u001b[0;34m=\u001b[0m \u001b[0mSingleBlockManager\u001b[0m\u001b[0;34m(\u001b[0m\u001b[0mdata\u001b[0m\u001b[0;34m,\u001b[0m \u001b[0mindex\u001b[0m\u001b[0;34m,\u001b[0m \u001b[0mfastpath\u001b[0m\u001b[0;34m=\u001b[0m\u001b[0;32mTrue\u001b[0m\u001b[0;34m)\u001b[0m\u001b[0;34m\u001b[0m\u001b[0;34m\u001b[0m\u001b[0m\n",
      "\u001b[0;31mKeyboardInterrupt\u001b[0m: "
     ]
    }
   ],
   "source": [
    "# build loop\n",
    "\n",
    "# gpd_out = gpd.GeoDataFrame()\n",
    "\n",
    "# # for hydro, for Yan2019 drop dir loop\n",
    "# for dir_nm in dir_list:\n",
    "#     for fn in os.listdir(dir_nm):\n",
    "#         if fn.endswith('.shp'): \n",
    "#             river = gpd.read_file(dir_nm+fn) # open shape file\n",
    "#             gpd_out = gpd_out.append(river) # merge to gpd_out\n",
    "#             print(gpd_out.shape)\n",
    "\n",
    "# # write out to file            \n",
    "# gpd_out.to_file(DATA_OUT+'Hydro30s_rivers_stacked.shp')"
   ]
  },
  {
   "cell_type": "markdown",
   "metadata": {},
   "source": [
    "### Write rivers to bianary raster\n",
    "- add coastlines later"
   ]
  },
  {
   "cell_type": "code",
   "execution_count": 10,
   "metadata": {},
   "outputs": [],
   "source": [
    "# Load raster\n",
    "RAW_IN = '/Users/cascade/Github/wastewater_ohi/data/raw/'\n",
    "pop2015_fn = 'GHS_POP_E2015_GLOBE_R2019A_54009_1K_V1_0/GHS_POP_E2015_GLOBE_R2019A_54009_1K_V1_0.tif'\n",
    "DATA_OUT = '/Users/cascade/Desktop/river_files/'\n",
    "rst = rasterio.open(RAW_IN+pop2015_fn)"
   ]
  },
  {
   "cell_type": "code",
   "execution_count": 11,
   "metadata": {},
   "outputs": [],
   "source": [
    "def poly_to_raster (rst, polys, value, touched, out_fn, fill_value):\n",
    "    \"\"\"Function makes a raster from a list of polygons\n",
    "    \n",
    "    Args:   rst = input raster already read in as a rasterio object to act as a template\n",
    "            polys = input polygons already read in as a gpd dataframe\n",
    "            value = col with value to burn into raster\n",
    "            touched = bool, if True all pixels touched (not centers) are burned into raster\n",
    "            out_fn = out file name \n",
    "            fill_value = value to revalue input raster before burning in polygons \n",
    "    \n",
    "    \"\"\"\n",
    "\n",
    "    meta = rst.meta.copy() # copy meta data from rst\n",
    "    out_arr = rst.read(1) # get an array to burn shapes\n",
    "    out_arr.fill(fill_value) # revalue rst to an Nan Value before burning in polygons\n",
    "    \n",
    "    # extract geom and values to burn\n",
    "    shapes = ((geom,value) for geom, value in zip(polys['geometry'], polys[value])) \n",
    "    \n",
    "    # burn shapes intp an array\n",
    "    burned = features.rasterize(shapes=shapes, fill=0, out=out_arr, transform=rst.transform, all_touched=touched)\n",
    "    \n",
    "    # write our raster to disk\n",
    "    with rasterio.open(out_fn, 'w', **meta) as out:\n",
    "        out.write_band(1, burned)"
   ]
  },
  {
   "cell_type": "code",
   "execution_count": 12,
   "metadata": {},
   "outputs": [],
   "source": [
    "# Load rivers\n",
    "#rivers = gpd.read_file(DATA_OUT+'Yan2019_rivers_stacked.shp') #yan2019\n",
    "rivers = gpd.read_file(DATA_OUT+'Hydro30s_rivers_stacked.shp')"
   ]
  },
  {
   "cell_type": "code",
   "execution_count": 13,
   "metadata": {
    "scrolled": false
   },
   "outputs": [
    {
     "data": {
      "text/html": [
       "<div>\n",
       "<style scoped>\n",
       "    .dataframe tbody tr th:only-of-type {\n",
       "        vertical-align: middle;\n",
       "    }\n",
       "\n",
       "    .dataframe tbody tr th {\n",
       "        vertical-align: top;\n",
       "    }\n",
       "\n",
       "    .dataframe thead th {\n",
       "        text-align: right;\n",
       "    }\n",
       "</style>\n",
       "<table border=\"1\" class=\"dataframe\">\n",
       "  <thead>\n",
       "    <tr style=\"text-align: right;\">\n",
       "      <th></th>\n",
       "      <th>R_ID</th>\n",
       "      <th>R_level</th>\n",
       "      <th>Length</th>\n",
       "      <th>geometry</th>\n",
       "    </tr>\n",
       "  </thead>\n",
       "  <tbody>\n",
       "    <tr>\n",
       "      <th>0</th>\n",
       "      <td>6.010101e+10</td>\n",
       "      <td>4</td>\n",
       "      <td>90328.717472</td>\n",
       "      <td>LINESTRING (118.2444971291418 -34.228773852898...</td>\n",
       "    </tr>\n",
       "    <tr>\n",
       "      <th>1</th>\n",
       "      <td>6.010101e+10</td>\n",
       "      <td>4</td>\n",
       "      <td>20712.337649</td>\n",
       "      <td>LINESTRING (118.1846008990577 -34.099170876814...</td>\n",
       "    </tr>\n",
       "    <tr>\n",
       "      <th>2</th>\n",
       "      <td>6.010101e+10</td>\n",
       "      <td>4</td>\n",
       "      <td>11548.006486</td>\n",
       "      <td>LINESTRING (118.0960340697835 -34.064426320294...</td>\n",
       "    </tr>\n",
       "    <tr>\n",
       "      <th>3</th>\n",
       "      <td>6.010101e+10</td>\n",
       "      <td>4</td>\n",
       "      <td>75171.665530</td>\n",
       "      <td>LINESTRING (117.877462213175 -34.5236290553232...</td>\n",
       "    </tr>\n",
       "    <tr>\n",
       "      <th>4</th>\n",
       "      <td>6.010101e+10</td>\n",
       "      <td>4</td>\n",
       "      <td>18002.743494</td>\n",
       "      <td>LINESTRING (117.538478763331 -34.8584626724751...</td>\n",
       "    </tr>\n",
       "  </tbody>\n",
       "</table>\n",
       "</div>"
      ],
      "text/plain": [
       "           R_ID  R_level        Length  \\\n",
       "0  6.010101e+10        4  90328.717472   \n",
       "1  6.010101e+10        4  20712.337649   \n",
       "2  6.010101e+10        4  11548.006486   \n",
       "3  6.010101e+10        4  75171.665530   \n",
       "4  6.010101e+10        4  18002.743494   \n",
       "\n",
       "                                            geometry  \n",
       "0  LINESTRING (118.2444971291418 -34.228773852898...  \n",
       "1  LINESTRING (118.1846008990577 -34.099170876814...  \n",
       "2  LINESTRING (118.0960340697835 -34.064426320294...  \n",
       "3  LINESTRING (117.877462213175 -34.5236290553232...  \n",
       "4  LINESTRING (117.538478763331 -34.8584626724751...  "
      ]
     },
     "execution_count": 13,
     "metadata": {},
     "output_type": "execute_result"
    }
   ],
   "source": [
    "rivers.head()"
   ]
  },
  {
   "cell_type": "code",
   "execution_count": 15,
   "metadata": {
    "scrolled": true
   },
   "outputs": [
    {
     "name": "stdout",
     "output_type": "stream",
     "text": [
      "{'init': 'epsg:4326'}\n",
      "PROJCS[\"World_Mollweide\",GEOGCS[\"GCS_WGS_1984\",DATUM[\"D_WGS_1984\",SPHEROID[\"WGS_1984\",6378137.0,298.257223563]],PRIMEM[\"Greenwich\",0.0],UNIT[\"Degree\",0.017453292519943295]],PROJECTION[\"Mollweide\"],PARAMETER[\"False_Easting\",0.0],PARAMETER[\"False_Northing\",0.0],PARAMETER[\"Central_Meridian\",0.0],UNIT[\"Meter\",1.0]]\n"
     ]
    },
    {
     "data": {
      "text/html": [
       "<div>\n",
       "<style scoped>\n",
       "    .dataframe tbody tr th:only-of-type {\n",
       "        vertical-align: middle;\n",
       "    }\n",
       "\n",
       "    .dataframe tbody tr th {\n",
       "        vertical-align: top;\n",
       "    }\n",
       "\n",
       "    .dataframe thead th {\n",
       "        text-align: right;\n",
       "    }\n",
       "</style>\n",
       "<table border=\"1\" class=\"dataframe\">\n",
       "  <thead>\n",
       "    <tr style=\"text-align: right;\">\n",
       "      <th></th>\n",
       "      <th>R_ID</th>\n",
       "      <th>R_level</th>\n",
       "      <th>Length</th>\n",
       "      <th>geometry</th>\n",
       "    </tr>\n",
       "  </thead>\n",
       "  <tbody>\n",
       "    <tr>\n",
       "      <th>0</th>\n",
       "      <td>6.010101e+10</td>\n",
       "      <td>4</td>\n",
       "      <td>90328.717472</td>\n",
       "      <td>LINESTRING (10532425.24887448 -4134666.1291585...</td>\n",
       "    </tr>\n",
       "    <tr>\n",
       "      <th>1</th>\n",
       "      <td>6.010101e+10</td>\n",
       "      <td>4</td>\n",
       "      <td>20712.337649</td>\n",
       "      <td>LINESTRING (10537166.65721238 -4119754.1537796...</td>\n",
       "    </tr>\n",
       "    <tr>\n",
       "      <th>2</th>\n",
       "      <td>6.010101e+10</td>\n",
       "      <td>4</td>\n",
       "      <td>11548.006486</td>\n",
       "      <td>LINESTRING (10531962.68409732 -4115755.0188741...</td>\n",
       "    </tr>\n",
       "    <tr>\n",
       "      <th>3</th>\n",
       "      <td>6.010101e+10</td>\n",
       "      <td>4</td>\n",
       "      <td>75171.665530</td>\n",
       "      <td>LINESTRING (10476717.44246639 -4168559.5852571...</td>\n",
       "    </tr>\n",
       "    <tr>\n",
       "      <th>4</th>\n",
       "      <td>6.010101e+10</td>\n",
       "      <td>4</td>\n",
       "      <td>18002.743494</td>\n",
       "      <td>LINESTRING (10420277.5602347 -4206993.75550851...</td>\n",
       "    </tr>\n",
       "  </tbody>\n",
       "</table>\n",
       "</div>"
      ],
      "text/plain": [
       "           R_ID  R_level        Length  \\\n",
       "0  6.010101e+10        4  90328.717472   \n",
       "1  6.010101e+10        4  20712.337649   \n",
       "2  6.010101e+10        4  11548.006486   \n",
       "3  6.010101e+10        4  75171.665530   \n",
       "4  6.010101e+10        4  18002.743494   \n",
       "\n",
       "                                            geometry  \n",
       "0  LINESTRING (10532425.24887448 -4134666.1291585...  \n",
       "1  LINESTRING (10537166.65721238 -4119754.1537796...  \n",
       "2  LINESTRING (10531962.68409732 -4115755.0188741...  \n",
       "3  LINESTRING (10476717.44246639 -4168559.5852571...  \n",
       "4  LINESTRING (10420277.5602347 -4206993.75550851...  "
      ]
     },
     "execution_count": 15,
     "metadata": {},
     "output_type": "execute_result"
    }
   ],
   "source": [
    "# try transforming the crs\n",
    "print(rivers.crs)\n",
    "new_crs = rst.crs\n",
    "print(new_crs)\n",
    "rivers = rivers.to_crs(new_crs)\n",
    "rivers.head()"
   ]
  },
  {
   "cell_type": "code",
   "execution_count": 17,
   "metadata": {},
   "outputs": [
    {
     "data": {
      "text/html": [
       "<div>\n",
       "<style scoped>\n",
       "    .dataframe tbody tr th:only-of-type {\n",
       "        vertical-align: middle;\n",
       "    }\n",
       "\n",
       "    .dataframe tbody tr th {\n",
       "        vertical-align: top;\n",
       "    }\n",
       "\n",
       "    .dataframe thead th {\n",
       "        text-align: right;\n",
       "    }\n",
       "</style>\n",
       "<table border=\"1\" class=\"dataframe\">\n",
       "  <thead>\n",
       "    <tr style=\"text-align: right;\">\n",
       "      <th></th>\n",
       "      <th>R_ID</th>\n",
       "      <th>R_level</th>\n",
       "      <th>Length</th>\n",
       "      <th>geometry</th>\n",
       "      <th>true</th>\n",
       "    </tr>\n",
       "  </thead>\n",
       "  <tbody>\n",
       "    <tr>\n",
       "      <th>0</th>\n",
       "      <td>6.010101e+10</td>\n",
       "      <td>4</td>\n",
       "      <td>90328.717472</td>\n",
       "      <td>LINESTRING (10532425.24887448 -4134666.1291585...</td>\n",
       "      <td>1</td>\n",
       "    </tr>\n",
       "    <tr>\n",
       "      <th>1</th>\n",
       "      <td>6.010101e+10</td>\n",
       "      <td>4</td>\n",
       "      <td>20712.337649</td>\n",
       "      <td>LINESTRING (10537166.65721238 -4119754.1537796...</td>\n",
       "      <td>1</td>\n",
       "    </tr>\n",
       "    <tr>\n",
       "      <th>2</th>\n",
       "      <td>6.010101e+10</td>\n",
       "      <td>4</td>\n",
       "      <td>11548.006486</td>\n",
       "      <td>LINESTRING (10531962.68409732 -4115755.0188741...</td>\n",
       "      <td>1</td>\n",
       "    </tr>\n",
       "    <tr>\n",
       "      <th>3</th>\n",
       "      <td>6.010101e+10</td>\n",
       "      <td>4</td>\n",
       "      <td>75171.665530</td>\n",
       "      <td>LINESTRING (10476717.44246639 -4168559.5852571...</td>\n",
       "      <td>1</td>\n",
       "    </tr>\n",
       "    <tr>\n",
       "      <th>4</th>\n",
       "      <td>6.010101e+10</td>\n",
       "      <td>4</td>\n",
       "      <td>18002.743494</td>\n",
       "      <td>LINESTRING (10420277.5602347 -4206993.75550851...</td>\n",
       "      <td>1</td>\n",
       "    </tr>\n",
       "  </tbody>\n",
       "</table>\n",
       "</div>"
      ],
      "text/plain": [
       "           R_ID  R_level        Length  \\\n",
       "0  6.010101e+10        4  90328.717472   \n",
       "1  6.010101e+10        4  20712.337649   \n",
       "2  6.010101e+10        4  11548.006486   \n",
       "3  6.010101e+10        4  75171.665530   \n",
       "4  6.010101e+10        4  18002.743494   \n",
       "\n",
       "                                            geometry  true  \n",
       "0  LINESTRING (10532425.24887448 -4134666.1291585...     1  \n",
       "1  LINESTRING (10537166.65721238 -4119754.1537796...     1  \n",
       "2  LINESTRING (10531962.68409732 -4115755.0188741...     1  \n",
       "3  LINESTRING (10476717.44246639 -4168559.5852571...     1  \n",
       "4  LINESTRING (10420277.5602347 -4206993.75550851...     1  "
      ]
     },
     "execution_count": 17,
     "metadata": {},
     "output_type": "execute_result"
    }
   ],
   "source": [
    "# make a bianary column to burn into the raster\n",
    "rivers['true'] = 1\n",
    "rivers.head()"
   ]
  },
  {
   "cell_type": "code",
   "execution_count": 18,
   "metadata": {},
   "outputs": [],
   "source": [
    "# Try to make a raster\n",
    "\n",
    "meta = rst.meta.copy() # copy meta data from rst\n",
    "out_arr = rst.read(1) # get an array to burn shapes\n",
    "out_arr.fill(0) # revalue rst to an Nan Value before burning in polygons\n",
    "\n",
    "# extract geom and values to burn\n",
    "shapes = ((geom,value) for geom, value in zip(rivers['geometry'], rivers['true'])) "
   ]
  },
  {
   "cell_type": "code",
   "execution_count": 19,
   "metadata": {},
   "outputs": [],
   "source": [
    "# burn shapes intp an array\n",
    "burned = features.rasterize(shapes=shapes, fill=0, out=out_arr, transform=rst.transform, all_touched=True)"
   ]
  },
  {
   "cell_type": "code",
   "execution_count": 20,
   "metadata": {},
   "outputs": [
    {
     "data": {
      "text/plain": [
       "{0.0: 645092767, 1.0: 4383233}"
      ]
     },
     "execution_count": 20,
     "metadata": {},
     "output_type": "execute_result"
    }
   ],
   "source": [
    "# Check Uniques\n",
    "\n",
    "unique, counts = np.unique(burned, return_counts=True)\n",
    "dict(zip(unique, counts))"
   ]
  },
  {
   "cell_type": "code",
   "execution_count": 21,
   "metadata": {},
   "outputs": [],
   "source": [
    "# Write raster\n",
    "fn_out = 'Yan2019_rivers_raster.tif'\n",
    "\n",
    "# write our raster to disk\n",
    "with rasterio.open(DATA_OUT+fn_out, 'w', **meta) as out:\n",
    "    out.write_band(1, burned)"
   ]
  },
  {
   "cell_type": "markdown",
   "metadata": {},
   "source": [
    "# Add coastlines to river raster\n",
    "\n",
    "Because the ocean_mask is in EPSG:4326, we cannot use it to match with the rivers projected into ESPG:54009 (used by the GHS-Pop). So intead we are going to isolate coastlines using our rural_urban.tif.\n",
    "\n",
    "This is actually better because the GHS-Pop isolates major rivers and lakes"
   ]
  },
  {
   "cell_type": "markdown",
   "metadata": {},
   "source": [
    "## First need to isolate coastlines from GHS-SMOD Urban/Rural raster"
   ]
  },
  {
   "cell_type": "code",
   "execution_count": 33,
   "metadata": {},
   "outputs": [],
   "source": [
    "rural_urban_path = '/Users/cascade/Github/wastewater_ohi/data/interim/rural_urban.tif'"
   ]
  },
  {
   "cell_type": "code",
   "execution_count": 34,
   "metadata": {},
   "outputs": [],
   "source": [
    "rural_urban_rst = rasterio.open(rural_urban_path)"
   ]
  },
  {
   "cell_type": "code",
   "execution_count": 35,
   "metadata": {},
   "outputs": [
    {
     "data": {
      "text/plain": [
       "array([-200.,   10.,  111.,  222.], dtype=float32)"
      ]
     },
     "execution_count": 35,
     "metadata": {},
     "output_type": "execute_result"
    }
   ],
   "source": [
    "# check unique values\n",
    "np.unique(rural_urban_rst.read(1))"
   ]
  },
  {
   "cell_type": "code",
   "execution_count": 36,
   "metadata": {},
   "outputs": [],
   "source": [
    "# Mask ocean as 0 and land as 1\n",
    "# check unique values\n",
    "mask = rural_urban_rst.read(1)\n",
    "mask[mask < 11] = 0\n",
    "mask[mask > 0] = 1"
   ]
  },
  {
   "cell_type": "code",
   "execution_count": 39,
   "metadata": {},
   "outputs": [],
   "source": [
    "# write to out land/ocean mask <------------------ LOOKS GOOD NO NEED TO CHECK CPT 2020.01.21\n",
    "# meta.update({'dtype' : 'float32'}) # update d-type\n",
    "\n",
    "# with rasterio.open('/Users/cascade/Desktop/ocean_land.tif', 'w', **meta) as out:\n",
    "#     out.write_band(1, mask)"
   ]
  },
  {
   "cell_type": "code",
   "execution_count": 40,
   "metadata": {},
   "outputs": [],
   "source": [
    "from skimage.morphology import erosion"
   ]
  },
  {
   "cell_type": "code",
   "execution_count": 41,
   "metadata": {},
   "outputs": [],
   "source": [
    "a = mask # get land values set to 1"
   ]
  },
  {
   "cell_type": "code",
   "execution_count": 42,
   "metadata": {},
   "outputs": [],
   "source": [
    "b = erosion(mask) # erode land in-ward by 1-km"
   ]
  },
  {
   "cell_type": "code",
   "execution_count": 51,
   "metadata": {},
   "outputs": [],
   "source": [
    "# write it out to check it <------------------ LOOKS GOOD NO NEED TO CHECK CPT 2020.01.21\n",
    "\n",
    "meta.update({'dtype' : 'float32'}) # update d-type\n",
    "\n",
    "file_out = '/Users/cascade/Desktop/ocean_land1_erosion1.tif'\n",
    "with rasterio.open(file_out, 'w', **meta) as dst:\n",
    "    dst.write_band(1, b)"
   ]
  },
  {
   "cell_type": "code",
   "execution_count": 45,
   "metadata": {},
   "outputs": [],
   "source": [
    "# Isolate coastline values\n",
    "\n",
    "a[a == 1] = 2 # up the values and then subtract\n",
    "c = a - b"
   ]
  },
  {
   "cell_type": "code",
   "execution_count": 46,
   "metadata": {},
   "outputs": [
    {
     "data": {
      "text/plain": [
       "array([0., 1., 2.], dtype=float32)"
      ]
     },
     "execution_count": 46,
     "metadata": {},
     "output_type": "execute_result"
    }
   ],
   "source": [
    "np.unique(c)"
   ]
  },
  {
   "cell_type": "code",
   "execution_count": 47,
   "metadata": {},
   "outputs": [],
   "source": [
    "# We want to keep 2 as the coastline\n",
    "c[c == 1] = 0"
   ]
  },
  {
   "cell_type": "code",
   "execution_count": 48,
   "metadata": {},
   "outputs": [
    {
     "data": {
      "text/plain": [
       "array([0., 2.], dtype=float32)"
      ]
     },
     "execution_count": 48,
     "metadata": {},
     "output_type": "execute_result"
    }
   ],
   "source": [
    "np.unique(c)"
   ]
  },
  {
   "cell_type": "code",
   "execution_count": 50,
   "metadata": {},
   "outputs": [],
   "source": [
    "# write it out to check it\n",
    "\n",
    "meta.update({'dtype' : 'float32'}) # update d-type\n",
    "\n",
    "file_out = '/Users/cascade/Desktop/ocean_land_coastline.tif'\n",
    "with rasterio.open(file_out, 'w', **meta) as dst:\n",
    "    dst.write_band(1, c)"
   ]
  },
  {
   "cell_type": "markdown",
   "metadata": {},
   "source": [
    "## Combine Coastline and rivers into one raster"
   ]
  },
  {
   "cell_type": "code",
   "execution_count": 54,
   "metadata": {},
   "outputs": [],
   "source": [
    "river_rst = rasterio.open(DATA_OUT+'riv_30s.tif')\n",
    "coast_rst = rasterio.open('/Users/cascade/Desktop/Yan2019_river_files/ocean_land_coastline.tif')"
   ]
  },
  {
   "cell_type": "code",
   "execution_count": 56,
   "metadata": {},
   "outputs": [
    {
     "name": "stdout",
     "output_type": "stream",
     "text": [
      "[0. 1.]\n",
      "[0. 2.]\n"
     ]
    }
   ],
   "source": [
    "# check values\n",
    "print(np.unique(river_rst.read(1)))\n",
    "print(np.unique(coast_rst.read(1)))"
   ]
  },
  {
   "cell_type": "code",
   "execution_count": 57,
   "metadata": {},
   "outputs": [],
   "source": [
    "river_coast = river_rst.read(1) + coast_rst.read(1)"
   ]
  },
  {
   "cell_type": "code",
   "execution_count": 58,
   "metadata": {},
   "outputs": [
    {
     "data": {
      "text/plain": [
       "array([0., 1., 2., 3.])"
      ]
     },
     "execution_count": 58,
     "metadata": {},
     "output_type": "execute_result"
    }
   ],
   "source": [
    "np.unique(river_coast) # ocean = 0, 1 = river, 2 = coastline and lakes, 3 = river-coast agreement "
   ]
  },
  {
   "cell_type": "code",
   "execution_count": 59,
   "metadata": {},
   "outputs": [
    {
     "data": {
      "text/plain": [
       "array([0., 1.])"
      ]
     },
     "execution_count": 59,
     "metadata": {},
     "output_type": "execute_result"
    }
   ],
   "source": [
    "# set to bianry <<<-- CPT can mask out inland lakes if needed by setting remaining 2 values to 2\n",
    "\n",
    "out = river_coast\n",
    "out[out > 0] = 1\n",
    "np.unique(out)"
   ]
  },
  {
   "cell_type": "code",
   "execution_count": 62,
   "metadata": {},
   "outputs": [],
   "source": [
    "meta = coast_rst.meta.copy() # copy meta data from rst\n",
    "\n",
    "meta.update({'dtype' : 'float64'}) # update d-type\n",
    "\n",
    "file_out = '/Users/cascade/Desktop/riv_30s_coastlines.tif'\n",
    "with rasterio.open(file_out, 'w', **meta) as dst:\n",
    "    dst.write_band(1, out)"
   ]
  }
 ],
 "metadata": {
  "kernelspec": {
   "display_name": "Python [default]",
   "language": "python",
   "name": "python3"
  },
  "language_info": {
   "codemirror_mode": {
    "name": "ipython",
    "version": 3
   },
   "file_extension": ".py",
   "mimetype": "text/x-python",
   "name": "python",
   "nbconvert_exporter": "python",
   "pygments_lexer": "ipython3",
   "version": "3.6.8"
  }
 },
 "nbformat": 4,
 "nbformat_minor": 2
}
