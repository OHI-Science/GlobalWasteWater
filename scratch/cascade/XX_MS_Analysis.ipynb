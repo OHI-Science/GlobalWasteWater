{
 "cells": [
  {
   "cell_type": "markdown",
   "metadata": {},
   "source": [
    "# MS Analysis\n",
    "By Cascade Tuholske June 2020\n",
    "\n",
    "Notebook is to calculate statistics and information for the waste water MS. This will remain a notebook, not a .py file because it allows for easier documentation.\n",
    "\n",
    "For global stats, we will be using the gdam boundaries, not the watersheds data, because the gdam boiundaries are used to produce the effluent rasters."
   ]
  },
  {
   "cell_type": "code",
   "execution_count": 1,
   "metadata": {},
   "outputs": [],
   "source": [
    "#### Dependencies\n",
    "import numpy as np\n",
    "import pandas as pd\n",
    "import geopandas as gpd\n",
    "import matplotlib.pyplot as plt"
   ]
  },
  {
   "cell_type": "code",
   "execution_count": 4,
   "metadata": {},
   "outputs": [],
   "source": [
    "#### File Paths\n",
    "DATA_IN = '../../data/'"
   ]
  },
  {
   "cell_type": "code",
   "execution_count": 5,
   "metadata": {},
   "outputs": [],
   "source": [
    "#### Load Files\n",
    "# countries_fn = 'processed/N_effluent_output/effluent_N_countries_all.shp' # has EEZs\n",
    "watersheds_fn = 'processed/N_effluent_output/effluent_N_watersheds_all.shp'\n",
    "countries_gdam_fn = 'processed/N_effluent_output/effluent_N_countries_gdam_all.shp'\n",
    "\n",
    "# countries = gpd.read_file(DATA_IN+countries_fn)\n",
    "watersheds = gpd.read_file (DATA_IN+watersheds_fn)\n",
    "countries_gdam = gpd.read_file(DATA_IN+countries_gdam_fn)"
   ]
  },
  {
   "cell_type": "code",
   "execution_count": 6,
   "metadata": {},
   "outputs": [
    {
     "data": {
      "text/html": [
       "<div>\n",
       "<style scoped>\n",
       "    .dataframe tbody tr th:only-of-type {\n",
       "        vertical-align: middle;\n",
       "    }\n",
       "\n",
       "    .dataframe tbody tr th {\n",
       "        vertical-align: top;\n",
       "    }\n",
       "\n",
       "    .dataframe thead th {\n",
       "        text-align: right;\n",
       "    }\n",
       "</style>\n",
       "<table border=\"1\" class=\"dataframe\">\n",
       "  <thead>\n",
       "    <tr style=\"text-align: right;\">\n",
       "      <th></th>\n",
       "      <th>poly_id</th>\n",
       "      <th>ISO3</th>\n",
       "      <th>open_N</th>\n",
       "      <th>treated_N</th>\n",
       "      <th>septic_N</th>\n",
       "      <th>tot_N</th>\n",
       "      <th>open_N_pct</th>\n",
       "      <th>septic_N_p</th>\n",
       "      <th>treated_N_</th>\n",
       "      <th>tot_pct</th>\n",
       "      <th>geometry</th>\n",
       "    </tr>\n",
       "  </thead>\n",
       "  <tbody>\n",
       "    <tr>\n",
       "      <td>0</td>\n",
       "      <td>0</td>\n",
       "      <td>ABW</td>\n",
       "      <td>5.645098e+05</td>\n",
       "      <td>6.047072e+07</td>\n",
       "      <td>2.269944e+06</td>\n",
       "      <td>6.330517e+07</td>\n",
       "      <td>0.891728</td>\n",
       "      <td>3.585716</td>\n",
       "      <td>95.522561</td>\n",
       "      <td>100.000005</td>\n",
       "      <td>POLYGON ((-6910816.274421509 1537164.105192429...</td>\n",
       "    </tr>\n",
       "    <tr>\n",
       "      <td>1</td>\n",
       "      <td>1</td>\n",
       "      <td>AFG</td>\n",
       "      <td>1.187462e+10</td>\n",
       "      <td>1.107149e+08</td>\n",
       "      <td>4.202876e+07</td>\n",
       "      <td>1.202737e+10</td>\n",
       "      <td>98.729978</td>\n",
       "      <td>0.349443</td>\n",
       "      <td>0.920524</td>\n",
       "      <td>99.999945</td>\n",
       "      <td>POLYGON ((6211413.408736277 3848509.713654268,...</td>\n",
       "    </tr>\n",
       "    <tr>\n",
       "      <td>2</td>\n",
       "      <td>2</td>\n",
       "      <td>AGO</td>\n",
       "      <td>7.808749e+09</td>\n",
       "      <td>3.011200e+08</td>\n",
       "      <td>4.079657e+08</td>\n",
       "      <td>8.517835e+09</td>\n",
       "      <td>91.675286</td>\n",
       "      <td>4.789547</td>\n",
       "      <td>3.535171</td>\n",
       "      <td>100.000004</td>\n",
       "      <td>(POLYGON ((1159542.671178129 -2115445.01835647...</td>\n",
       "    </tr>\n",
       "    <tr>\n",
       "      <td>3</td>\n",
       "      <td>3</td>\n",
       "      <td>AIA</td>\n",
       "      <td>7.772354e+05</td>\n",
       "      <td>6.268219e+06</td>\n",
       "      <td>2.440849e+06</td>\n",
       "      <td>9.486304e+06</td>\n",
       "      <td>8.193238</td>\n",
       "      <td>25.730242</td>\n",
       "      <td>66.076520</td>\n",
       "      <td>99.999999</td>\n",
       "      <td>(POLYGON ((-6134902.918835666 2230758.12862136...</td>\n",
       "    </tr>\n",
       "    <tr>\n",
       "      <td>4</td>\n",
       "      <td>4</td>\n",
       "      <td>ALA</td>\n",
       "      <td>2.419805e+06</td>\n",
       "      <td>3.523753e+07</td>\n",
       "      <td>1.077302e+05</td>\n",
       "      <td>3.776506e+07</td>\n",
       "      <td>6.407524</td>\n",
       "      <td>0.285264</td>\n",
       "      <td>93.307213</td>\n",
       "      <td>100.000001</td>\n",
       "      <td>(POLYGON ((1389515.950805801 6852829.269928327...</td>\n",
       "    </tr>\n",
       "  </tbody>\n",
       "</table>\n",
       "</div>"
      ],
      "text/plain": [
       "   poly_id ISO3        open_N     treated_N      septic_N         tot_N  \\\n",
       "0        0  ABW  5.645098e+05  6.047072e+07  2.269944e+06  6.330517e+07   \n",
       "1        1  AFG  1.187462e+10  1.107149e+08  4.202876e+07  1.202737e+10   \n",
       "2        2  AGO  7.808749e+09  3.011200e+08  4.079657e+08  8.517835e+09   \n",
       "3        3  AIA  7.772354e+05  6.268219e+06  2.440849e+06  9.486304e+06   \n",
       "4        4  ALA  2.419805e+06  3.523753e+07  1.077302e+05  3.776506e+07   \n",
       "\n",
       "   open_N_pct  septic_N_p  treated_N_     tot_pct  \\\n",
       "0    0.891728    3.585716   95.522561  100.000005   \n",
       "1   98.729978    0.349443    0.920524   99.999945   \n",
       "2   91.675286    4.789547    3.535171  100.000004   \n",
       "3    8.193238   25.730242   66.076520   99.999999   \n",
       "4    6.407524    0.285264   93.307213  100.000001   \n",
       "\n",
       "                                            geometry  \n",
       "0  POLYGON ((-6910816.274421509 1537164.105192429...  \n",
       "1  POLYGON ((6211413.408736277 3848509.713654268,...  \n",
       "2  (POLYGON ((1159542.671178129 -2115445.01835647...  \n",
       "3  (POLYGON ((-6134902.918835666 2230758.12862136...  \n",
       "4  (POLYGON ((1389515.950805801 6852829.269928327...  "
      ]
     },
     "execution_count": 6,
     "metadata": {},
     "output_type": "execute_result"
    }
   ],
   "source": [
    "countries_gdam.head()"
   ]
  },
  {
   "cell_type": "code",
   "execution_count": 7,
   "metadata": {},
   "outputs": [
    {
     "name": "stdout",
     "output_type": "stream",
     "text": [
      "There are 134846 watersheds\n"
     ]
    }
   ],
   "source": [
    "print('There are', len(watersheds), 'watersheds')"
   ]
  },
  {
   "cell_type": "code",
   "execution_count": 9,
   "metadata": {},
   "outputs": [
    {
     "name": "stdout",
     "output_type": "stream",
     "text": [
      "There are 66309 watersheds w/ more than 1 g N\n"
     ]
    }
   ],
   "source": [
    "print('There are', len(watersheds[watersheds['tot_N'] > 1]), 'watersheds w/ more than 1 g N')"
   ]
  },
  {
   "cell_type": "markdown",
   "metadata": {},
   "source": [
    "# Check the data"
   ]
  },
  {
   "cell_type": "code",
   "execution_count": null,
   "metadata": {},
   "outputs": [],
   "source": [
    "countries_gdam['open_N'].sum() / 10**12"
   ]
  },
  {
   "cell_type": "code",
   "execution_count": null,
   "metadata": {},
   "outputs": [],
   "source": [
    "countries_gdam['treated_N'].sum() / 10**12"
   ]
  },
  {
   "cell_type": "code",
   "execution_count": null,
   "metadata": {},
   "outputs": [],
   "source": [
    "countries_gdam['septic_N'].sum() / 10**12"
   ]
  },
  {
   "cell_type": "code",
   "execution_count": null,
   "metadata": {},
   "outputs": [],
   "source": [
    "open_n = countries_gdam['open_N'].sum() /10**12\n",
    "septic_n = countries_gdam['treated_N'].sum() /10**12\n",
    "treated_n = countries_gdam['septic_N'].sum()/10**12\n",
    "tot_n = countries_gdam['tot_N'].sum() /10**12\n",
    "(open_n + septic_n + treated_n) / tot_n"
   ]
  },
  {
   "cell_type": "markdown",
   "metadata": {},
   "source": [
    "# How much N is there total?\n",
    "We are going to use the gdam totals.\n",
    "\n",
    "**How does this compare to Total N into the ocean from other studies?**\n",
    "Let's average the available global estiamtes\n",
    "1. Global riverine N and P transport to ocean increased during the 20th century despite increased retention along the aquatic continuum (Beusen 2016): 37 Tg/yr in 2000\n",
    "2. Global river nutrient export: A scenario analysis of past and future trends (Seitzinger 2010): 43.2 Tg/yr in 2000\n",
    "3. Sources and delivery of carbon, nitrogen, and phosphorus to the coastal zone: An overview of Global Nutrient Export from Watersheds (NEWS) models and their application (Seitzinger 2005): 66 Tg/yr in mid 1990s\n",
    "4. Riverine nitrogen export from the continents to the coasts (Boyer 2006): 48 Tg/yr circa 2000\n",
    "5. Global modeling of the fate of nitrogen from point and nonpoint sources in soils, groundwater and surface water (Van Drecht 2003): 54 Tg / yr (2000)\n",
    "6. Pre-industrial and contemporary fluxes of nitrogen through rivers: a global assessment based on typology (Green 2004): 40 Tg/year \n",
    "7. Exploring changes in river nitrogen export to the world's oceans (Bouwman 2006): 46 Tg / yr "
   ]
  },
  {
   "cell_type": "code",
   "execution_count": null,
   "metadata": {},
   "outputs": [],
   "source": [
    "#print('countries Total N is: ', countries['tot_N'].sum()/10**12, 'TG')\n",
    "print('watersheds Total N is: ', watersheds['tot_N'].sum()/10**12, 'TG')\n",
    "print('countries_gdam Total N is: ', countries_gdam['tot_N'].sum()/10**12, 'TG')\n",
    "tot_n = countries_gdam['tot_N'].sum()/10**12"
   ]
  },
  {
   "cell_type": "code",
   "execution_count": null,
   "metadata": {},
   "outputs": [],
   "source": [
    "print('N from waste water is', tot_n / 36.5 * 100, 'of total (Beusen 2016)')\n",
    "print('N from waste water is', tot_n / 43.2 * 100, 'of total (Seitzinger 2010)')\n",
    "print('N from waste water is', tot_n / 43.2 * 100, 'of total (Mayorga 2010)')"
   ]
  },
  {
   "cell_type": "code",
   "execution_count": null,
   "metadata": {},
   "outputs": [],
   "source": [
    "global_avgN = (37+43.2+66+48+54+40+46)/7\n",
    "print('Pct from Sewage of Total', tot_n/global_avgN*100, \"using avg N from all main studies\") "
   ]
  },
  {
   "cell_type": "markdown",
   "metadata": {},
   "source": [
    "# How much WW N compared to Ag N?\n",
    "\n",
    "From Beusen 2016 for land inputs to surface water: \"From 1900 to 2000 its contribution rose from 6 (19 % of total) to 33TgNyr−1 (51% of total)\" and total N into oceans was 37Tg / yr, so 51% * 47 Tg = 23.97 TG."
   ]
  },
  {
   "cell_type": "code",
   "execution_count": null,
   "metadata": {},
   "outputs": [],
   "source": [
    "print('Waste Water N vs. Ag =', tot_n / (36.5 * .51) * 100, 'using Buesen 2016 Ag numbers')"
   ]
  },
  {
   "cell_type": "markdown",
   "metadata": {},
   "source": [
    "# How much WW N by treatment type?"
   ]
  },
  {
   "cell_type": "code",
   "execution_count": null,
   "metadata": {},
   "outputs": [],
   "source": [
    "treated_n = countries_gdam['treated_N'].sum()/10**12\n",
    "septic_n = countries_gdam['septic_N'].sum()/10**12\n",
    "open_n = countries_gdam['open_N'].sum()/10**12"
   ]
  },
  {
   "cell_type": "code",
   "execution_count": null,
   "metadata": {},
   "outputs": [],
   "source": [
    "print('Treated', treated_n, 'Tg N,', treated_n/tot_n * 100, 'pct')\n",
    "print('Septic', septic_n, 'Tg N,', septic_n/tot_n * 100, 'pct')\n",
    "print('Open', open_n, 'Tg N,', open_n/tot_n * 100, 'pct')"
   ]
  },
  {
   "cell_type": "code",
   "execution_count": null,
   "metadata": {},
   "outputs": [],
   "source": [
    "print('Treated', countries_gdam['treated_N'].sum()/10**12,'N,', countries_gdam['treated_N'].sum()/10**12 / tot_n * 100,'Pct')"
   ]
  },
  {
   "cell_type": "markdown",
   "metadata": {},
   "source": [
    "# Which countries are the top producers of N?"
   ]
  },
  {
   "cell_type": "code",
   "execution_count": null,
   "metadata": {},
   "outputs": [],
   "source": [
    "# Total N\n",
    "countries_gdam.sort_values('tot_N', ascending = False).head(25)"
   ]
  },
  {
   "cell_type": "code",
   "execution_count": null,
   "metadata": {},
   "outputs": [],
   "source": [
    "# Treated N\n",
    "countries_gdam.sort_values('treated_N', ascending = False).head(25)"
   ]
  },
  {
   "cell_type": "code",
   "execution_count": null,
   "metadata": {
    "scrolled": true
   },
   "outputs": [],
   "source": [
    "# Treated N\n",
    "countries_gdam.sort_values('treated_N', ascending = False).head(25)"
   ]
  },
  {
   "cell_type": "code",
   "execution_count": null,
   "metadata": {
    "scrolled": true
   },
   "outputs": [],
   "source": [
    "# Septic N\n",
    "countries_gdam.sort_values('septic_N', ascending = False).head(25)"
   ]
  },
  {
   "cell_type": "code",
   "execution_count": null,
   "metadata": {},
   "outputs": [],
   "source": [
    "countries_gdam.columns"
   ]
  }
 ],
 "metadata": {
  "kernelspec": {
   "display_name": "geo",
   "language": "python",
   "name": "geo"
  },
  "language_info": {
   "codemirror_mode": {
    "name": "ipython",
    "version": 3
   },
   "file_extension": ".py",
   "mimetype": "text/x-python",
   "name": "python",
   "nbconvert_exporter": "python",
   "pygments_lexer": "ipython3",
   "version": "3.6.7"
  }
 },
 "nbformat": 4,
 "nbformat_minor": 2
}
