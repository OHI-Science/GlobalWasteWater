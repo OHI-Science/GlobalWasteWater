{
 "cells": [
  {
   "cell_type": "markdown",
   "metadata": {},
   "source": [
    "# Compare FIO and N rasters w/ Septic sent to zero\n",
    "\n",
    "- Septic removal is .3 for FIO and .5 for N right now\n",
    "- Goal is to calc pixel level diference if septic removal is set to 100% (e.g. ignoring septics)"
   ]
  },
  {
   "cell_type": "code",
   "execution_count": 14,
   "metadata": {},
   "outputs": [],
   "source": [
    "import pandas as pd\n",
    "import rasterio \n",
    "import numpy as np\n",
    "import geopandas as gpd\n",
    "import matplotlib.pyplot as py"
   ]
  },
  {
   "cell_type": "markdown",
   "metadata": {},
   "source": [
    "# Pour Points"
   ]
  },
  {
   "cell_type": "code",
   "execution_count": 6,
   "metadata": {},
   "outputs": [],
   "source": [
    "data_in = '/Users/cascade/Github/wastewater_ohi/data/interim/effluent_output/'\n",
    "\n",
    "FIO = gpd.read_file(data_in+'FIO_pour_point_totals_all.shp')\n",
    "FIO_s0 = gpd.read_file(data_in+'FIO_sep0_pour_point_totals_all.shp')"
   ]
  },
  {
   "cell_type": "code",
   "execution_count": 7,
   "metadata": {},
   "outputs": [
    {
     "data": {
      "text/html": [
       "<div>\n",
       "<style scoped>\n",
       "    .dataframe tbody tr th:only-of-type {\n",
       "        vertical-align: middle;\n",
       "    }\n",
       "\n",
       "    .dataframe tbody tr th {\n",
       "        vertical-align: top;\n",
       "    }\n",
       "\n",
       "    .dataframe thead th {\n",
       "        text-align: right;\n",
       "    }\n",
       "</style>\n",
       "<table border=\"1\" class=\"dataframe\">\n",
       "  <thead>\n",
       "    <tr style=\"text-align: right;\">\n",
       "      <th></th>\n",
       "      <th>basin_id</th>\n",
       "      <th>area</th>\n",
       "      <th>FIO</th>\n",
       "      <th>SUM_FERTC</th>\n",
       "      <th>SUM_PESTC</th>\n",
       "      <th>SUM_IMPV</th>\n",
       "      <th>geometry</th>\n",
       "    </tr>\n",
       "  </thead>\n",
       "  <tbody>\n",
       "    <tr>\n",
       "      <th>0</th>\n",
       "      <td>pa_00001</td>\n",
       "      <td>32.224645</td>\n",
       "      <td>0.0</td>\n",
       "      <td>0.0</td>\n",
       "      <td>0.0</td>\n",
       "      <td>0.0</td>\n",
       "      <td>POINT (-11131367.53169552 2257717.418009712)</td>\n",
       "    </tr>\n",
       "    <tr>\n",
       "      <th>1</th>\n",
       "      <td>pa_00002</td>\n",
       "      <td>4.131365</td>\n",
       "      <td>0.0</td>\n",
       "      <td>0.0</td>\n",
       "      <td>0.0</td>\n",
       "      <td>0.0</td>\n",
       "      <td>POINT (16597098.37149552 1802943.992258685)</td>\n",
       "    </tr>\n",
       "    <tr>\n",
       "      <th>2</th>\n",
       "      <td>pa_00003</td>\n",
       "      <td>0.826273</td>\n",
       "      <td>0.0</td>\n",
       "      <td>0.0</td>\n",
       "      <td>0.0</td>\n",
       "      <td>0.0</td>\n",
       "      <td>POINT (16598814.51067837 1798864.385129204)</td>\n",
       "    </tr>\n",
       "    <tr>\n",
       "      <th>3</th>\n",
       "      <td>pa_00004</td>\n",
       "      <td>0.826273</td>\n",
       "      <td>0.0</td>\n",
       "      <td>0.0</td>\n",
       "      <td>0.0</td>\n",
       "      <td>0.0</td>\n",
       "      <td>POINT (16598407.2527051 1797893.783110829)</td>\n",
       "    </tr>\n",
       "    <tr>\n",
       "      <th>4</th>\n",
       "      <td>pa_00005</td>\n",
       "      <td>0.826273</td>\n",
       "      <td>0.0</td>\n",
       "      <td>0.0</td>\n",
       "      <td>0.0</td>\n",
       "      <td>0.0</td>\n",
       "      <td>POINT (16597999.71633073 1796923.230176016)</td>\n",
       "    </tr>\n",
       "  </tbody>\n",
       "</table>\n",
       "</div>"
      ],
      "text/plain": [
       "   basin_id       area  FIO  SUM_FERTC  SUM_PESTC  SUM_IMPV  \\\n",
       "0  pa_00001  32.224645  0.0        0.0        0.0       0.0   \n",
       "1  pa_00002   4.131365  0.0        0.0        0.0       0.0   \n",
       "2  pa_00003   0.826273  0.0        0.0        0.0       0.0   \n",
       "3  pa_00004   0.826273  0.0        0.0        0.0       0.0   \n",
       "4  pa_00005   0.826273  0.0        0.0        0.0       0.0   \n",
       "\n",
       "                                       geometry  \n",
       "0  POINT (-11131367.53169552 2257717.418009712)  \n",
       "1   POINT (16597098.37149552 1802943.992258685)  \n",
       "2   POINT (16598814.51067837 1798864.385129204)  \n",
       "3    POINT (16598407.2527051 1797893.783110829)  \n",
       "4   POINT (16597999.71633073 1796923.230176016)  "
      ]
     },
     "execution_count": 7,
     "metadata": {},
     "output_type": "execute_result"
    }
   ],
   "source": [
    "FIO.head()"
   ]
  },
  {
   "cell_type": "code",
   "execution_count": 12,
   "metadata": {},
   "outputs": [],
   "source": [
    "FIO_sorted = FIO['FIO'].sort_values(ascending=False)\n",
    "FIO_s0_sorted = FIO_s0['FIO'].sort_values(ascending=False)"
   ]
  },
  {
   "cell_type": "code",
   "execution_count": 15,
   "metadata": {},
   "outputs": [
    {
     "data": {
      "text/plain": [
       "[<matplotlib.lines.Line2D at 0x120a12cc0>]"
      ]
     },
     "execution_count": 15,
     "metadata": {},
     "output_type": "execute_result"
    },
    {
     "data": {
      "image/png": "[encoded data removed]",
      "text/plain": [
       "<Figure size 432x288 with 1 Axes>"
      ]
     },
     "metadata": {
      "needs_background": "light"
     },
     "output_type": "display_data"
    }
   ],
   "source": [
    "py.plot(FIO_sorted, FIO_s0_sorted)"
   ]
  },
  {
   "cell_type": "markdown",
   "metadata": {},
   "source": [
    "# Pixel-level"
   ]
  },
  {
   "cell_type": "code",
   "execution_count": 2,
   "metadata": {},
   "outputs": [],
   "source": [
    "FIO = rasterio.open('/Users/cascade/Github/wastewater_ohi/data/interim/effluent_FIO.tif')\n",
    "N = rasterio.open('/Users/cascade/Github/wastewater_ohi/data/interim/effluent_N.tif')\n",
    "FIO_s0 = rasterio.open('/Users/cascade/Github/wastewater_ohi/data/interim/effluent_FIO_sept0.tif')\n",
    "N_s0 = rasterio.open('/Users/cascade/Github/wastewater_ohi/data/interim/effluent_N_sept0.tif')"
   ]
  },
  {
   "cell_type": "markdown",
   "metadata": {},
   "source": [
    "# FIO"
   ]
  },
  {
   "cell_type": "code",
   "execution_count": 3,
   "metadata": {},
   "outputs": [],
   "source": [
    "# Get the band\n",
    "FIO_arr = FIO.read(1)\n",
    "FIO_arr_s0 = FIO_s0.read(1)"
   ]
  },
  {
   "cell_type": "code",
   "execution_count": 4,
   "metadata": {
    "scrolled": true
   },
   "outputs": [
    {
     "data": {
      "text/plain": [
       "array([[nan, nan, nan, ..., nan, nan, nan],\n",
       "       [nan, nan, nan, ..., nan, nan, nan],\n",
       "       [nan, nan, nan, ..., nan, nan, nan],\n",
       "       ...,\n",
       "       [nan, nan, nan, ..., nan, nan, nan],\n",
       "       [nan, nan, nan, ..., nan, nan, nan],\n",
       "       [nan, nan, nan, ..., nan, nan, nan]], dtype=float32)"
      ]
     },
     "execution_count": 4,
     "metadata": {},
     "output_type": "execute_result"
    }
   ],
   "source": [
    "# Set to NA\n",
    "FIO_arr[FIO_arr < 0] = np.nan\n",
    "FIO_arr\n",
    "\n",
    "# Set to NA\n",
    "FIO_arr_s0[FIO_arr_s0 < 0] = np.nan\n",
    "FIO_arr_s0"
   ]
  },
  {
   "cell_type": "code",
   "execution_count": 5,
   "metadata": {},
   "outputs": [],
   "source": [
    "# get difference \n",
    "FIO_dif = FIO_arr_s0 - FIO_arr"
   ]
  },
  {
   "cell_type": "code",
   "execution_count": null,
   "metadata": {},
   "outputs": [],
   "source": [
    "# make pct\n",
    "FIO_dif = np.divide(FIO_dif, FIO_arr, out=np.zeros_like(a), where=FIO_arr!=0)"
   ]
  },
  {
   "cell_type": "code",
   "execution_count": null,
   "metadata": {},
   "outputs": [],
   "source": [
    "FIO"
   ]
  },
  {
   "cell_type": "code",
   "execution_count": null,
   "metadata": {},
   "outputs": [],
   "source": [
    "# write them out\n",
    "meta = FIO.meta\n",
    "with rasterio.open('/Users/cascade/Desktop/sept0/FIO_dif.tif', 'w', **meta) as out:\n",
    "    out.write_band(1, FIO_dif*100)"
   ]
  }
 ],
 "metadata": {
  "kernelspec": {
   "display_name": "Python 3",
   "language": "python",
   "name": "python3"
  },
  "language_info": {
   "codemirror_mode": {
    "name": "ipython",
    "version": 3
   },
   "file_extension": ".py",
   "mimetype": "text/x-python",
   "name": "python",
   "nbconvert_exporter": "python",
   "pygments_lexer": "ipython3",
   "version": "3.7.3"
  }
 },
 "nbformat": 4,
 "nbformat_minor": 2
}
