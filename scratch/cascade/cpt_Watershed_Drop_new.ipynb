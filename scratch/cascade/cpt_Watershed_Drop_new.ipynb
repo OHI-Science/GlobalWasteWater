{
 "cells": [
  {
   "cell_type": "markdown",
   "metadata": {},
   "source": [
    "# Watershed Drop\n",
    "\n",
    "By Cascade Tuholske 2020.05.21\n",
    "\n",
    "The goal of this notebook is to drop watersheds that are inland and never reach the ocean. Next I will make a raster with these watersheds to mask out pixels when we calculate zonal stats. \n",
    "\n",
    "I am going to find the spatial intersection between EEZs and pour points first.\n",
    "\n",
    "**Files needed**\n",
    "- pour points\n",
    "- inland points\n",
    "- watersheds \n",
    "- eezs\n",
    "\n",
    "**File to Make** \n",
    "- inland watersheds shape file\n",
    "- coastal watersheds shape file\n",
    "- inland watersheds raster"
   ]
  },
  {
   "cell_type": "code",
   "execution_count": 1,
   "metadata": {},
   "outputs": [],
   "source": [
    "#### Dependencies \n",
    "import geopandas as gpd\n",
    "import numpy as np\n",
    "import pandas as pd\n",
    "import rasterio \n",
    "import matplotlib.pyplot as plt\n",
    "from shapely.geometry import Point\n",
    "from multiprocessing import Pool, Queue, Process\n",
    "import time \n",
    "import os\n",
    "import multiprocessing as mp\n",
    "from rasterio import features\n",
    "from glob import glob\n",
    "from shapely.geometry.multipolygon import MultiPolygon"
   ]
  },
  {
   "cell_type": "code",
   "execution_count": 2,
   "metadata": {},
   "outputs": [],
   "source": [
    "#### Name out put\n",
    "DATA_IN = '/home/cascade/projects/wastewater/data/'\n",
    "PP_FN = 'raw/pour_points/global_plume_2007_2010.shp'\n",
    "EEZ_FN = 'raw/World_EEZ_v10_20180221/eez_v10.shp'\n"
   ]
  },
  {
   "cell_type": "code",
   "execution_count": 3,
   "metadata": {},
   "outputs": [],
   "source": [
    "#### load files\n",
    "PP = gpd.read_file(DATA_IN+PP_FN)\n",
    "EEZ = gpd.read_file(DATA_IN+EEZ_FN) # are in epsg: 54009\n"
   ]
  },
  {
   "cell_type": "code",
   "execution_count": 4,
   "metadata": {},
   "outputs": [
    {
     "data": {
      "text/plain": [
       "142652"
      ]
     },
     "execution_count": 4,
     "metadata": {},
     "output_type": "execute_result"
    }
   ],
   "source": [
    "len(PP)"
   ]
  },
  {
   "cell_type": "markdown",
   "metadata": {},
   "source": [
    "## Plot them to check them"
   ]
  },
  {
   "cell_type": "code",
   "execution_count": 5,
   "metadata": {},
   "outputs": [
    {
     "name": "stdout",
     "output_type": "stream",
     "text": [
      "{'init': 'epsg:4326'}\n",
      "{'proj': 'moll', 'lon_0': 0, 'x_0': 0, 'y_0': 0, 'datum': 'WGS84', 'units': 'm', 'no_defs': True}\n"
     ]
    }
   ],
   "source": [
    "print(EEZ.crs)\n",
    "print(PP.crs)"
   ]
  },
  {
   "cell_type": "code",
   "execution_count": 6,
   "metadata": {},
   "outputs": [
    {
     "data": {
      "text/html": [
       "<div>\n",
       "<style scoped>\n",
       "    .dataframe tbody tr th:only-of-type {\n",
       "        vertical-align: middle;\n",
       "    }\n",
       "\n",
       "    .dataframe tbody tr th {\n",
       "        vertical-align: top;\n",
       "    }\n",
       "\n",
       "    .dataframe thead th {\n",
       "        text-align: right;\n",
       "    }\n",
       "</style>\n",
       "<table border=\"1\" class=\"dataframe\">\n",
       "  <thead>\n",
       "    <tr style=\"text-align: right;\">\n",
       "      <th></th>\n",
       "      <th>basin_id</th>\n",
       "      <th>geometry</th>\n",
       "    </tr>\n",
       "  </thead>\n",
       "  <tbody>\n",
       "    <tr>\n",
       "      <td>0</td>\n",
       "      <td>au_09807</td>\n",
       "      <td>POINT (158.913015963685 -54.64636307400065)</td>\n",
       "    </tr>\n",
       "    <tr>\n",
       "      <td>1</td>\n",
       "      <td>au_09806</td>\n",
       "      <td>POINT (158.9214017251773 -54.61009196102273)</td>\n",
       "    </tr>\n",
       "    <tr>\n",
       "      <td>2</td>\n",
       "      <td>au_09805</td>\n",
       "      <td>POINT (158.8775040159086 -54.55366988325454)</td>\n",
       "    </tr>\n",
       "    <tr>\n",
       "      <td>3</td>\n",
       "      <td>au_09804</td>\n",
       "      <td>POINT (77.53563120865223 -38.71234259192368)</td>\n",
       "    </tr>\n",
       "    <tr>\n",
       "      <td>4</td>\n",
       "      <td>au_09803</td>\n",
       "      <td>POINT (77.5536642440721 -37.78617552055444)</td>\n",
       "    </tr>\n",
       "  </tbody>\n",
       "</table>\n",
       "</div>"
      ],
      "text/plain": [
       "   basin_id                                      geometry\n",
       "0  au_09807   POINT (158.913015963685 -54.64636307400065)\n",
       "1  au_09806  POINT (158.9214017251773 -54.61009196102273)\n",
       "2  au_09805  POINT (158.8775040159086 -54.55366988325454)\n",
       "3  au_09804  POINT (77.53563120865223 -38.71234259192368)\n",
       "4  au_09803   POINT (77.5536642440721 -37.78617552055444)"
      ]
     },
     "execution_count": 6,
     "metadata": {},
     "output_type": "execute_result"
    }
   ],
   "source": [
    "### reproject PP ... have to load twice. Do not know why\n",
    "PP = PP.to_crs({'init': 'epsg:4326'}) # switch crs\n",
    "PP.drop(['SUM_FERTC','SUM_PESTC', 'SUM_IMPV'], axis= 1, inplace = True)\n",
    "PP.head()"
   ]
  },
  {
   "cell_type": "markdown",
   "metadata": {},
   "source": [
    "## Buffer and Drop"
   ]
  },
  {
   "cell_type": "code",
   "execution_count": 7,
   "metadata": {},
   "outputs": [],
   "source": [
    "def point_buffer(gpd_df, radius):\n",
    "    \"\"\"Function to make a shapely polygon buffer around a point. Be sure to check crs to enter radius correctly\n",
    "    \n",
    "    Args: gpd_df = geopandas df\n",
    "          raduis = radius to dialate points\n",
    "    \"\"\"\n",
    "\n",
    "    gpd_df.rename(columns={'geometry':'old_geom'}, inplace=True)\n",
    "    \n",
    "    arr = []\n",
    "    \n",
    "    for point in gpd_df['old_geom']:\n",
    "        buffer = point.buffer(radius)\n",
    "        arr.append((buffer))\n",
    "    \n",
    "    gpd_df['geometry'] = arr\n",
    "    \n",
    "    return gpd_df"
   ]
  },
  {
   "cell_type": "code",
   "execution_count": 8,
   "metadata": {},
   "outputs": [],
   "source": [
    "#### Find intersection\n",
    "def intersect(point_buffer, polys):\n",
    "    \n",
    "    \"finds intersection of buffered points and polys, returns point buffer geom and ids\"\n",
    "    \n",
    "    basin_id_list = []\n",
    "    geom_list = []\n",
    "    \n",
    "    for index_pt, point in point_buffer.iterrows():\n",
    "        for index_poly, poly, in polys.iterrows():\n",
    "            if point['geometry'].intersects(poly['geometry']):\n",
    "\n",
    "                # get ID and geom for pour point that is in EEZ\n",
    "                basin_id = point['basin_id']\n",
    "                geom = point['geometry']\n",
    "\n",
    "                # write to list\n",
    "                basin_id_list.append(basin_id)\n",
    "                geom_list.append(geom)\n",
    "                \n",
    "    # return a data frame \n",
    "    df = pd.DataFrame()\n",
    "    df['basin_id'] = basin_id_list\n",
    "    df['geometry'] = geom_list\n",
    "    \n",
    "    return df\n",
    "\n",
    "    "
   ]
  },
  {
   "cell_type": "code",
   "execution_count": 9,
   "metadata": {},
   "outputs": [],
   "source": [
    "def run_intersect(do_list):\n",
    "    \n",
    "    \"\"\" Runs the intersect function above for a single dataframe against EEZ boundaries\n",
    "    and saves it out\"\"\"\n",
    "    \n",
    "    print(mp.current_process())\n",
    "    \n",
    "    # Open EEZS\n",
    "    DATA_IN = '/home/cascade/projects/wastewater/data/'\n",
    "    DATA_OUT = 'interim/coastalpoints/'\n",
    "    EEZ_FN = 'raw/World_EEZ_v10_20180221/eez_v10.shp'\n",
    "    FN_OUT = 'pp_coastal_'+str(do_list[1])+'.csv'\n",
    "\n",
    "    EEZ = gpd.read_file(DATA_IN+EEZ_FN)\n",
    "    EEZ_drop = gpd.GeoDataFrame(EEZ[['MRGID', 'geometry']])\n",
    "    \n",
    "    PP = do_list[0] ## pour point data frame from list\n",
    "    \n",
    "    print('start!')\n",
    "    df_out = intersect(PP, EEZ_drop)\n",
    "    \n",
    "    df_out.to_csv(DATA_IN+DATA_OUT+FN_OUT) # save it out\n",
    "    print(\"done\", do_list[1])"
   ]
  },
  {
   "cell_type": "code",
   "execution_count": 10,
   "metadata": {},
   "outputs": [],
   "source": [
    "def parallel_loop(function, job_list, cpu_num):\n",
    "    \"\"\"Run the temp-ghs routine in parallel\n",
    "    Args: \n",
    "        function = function to apply in parallel\n",
    "        dir_list = list of dir to loop through \n",
    "        cpu_num = numper of cpus to fire  \n",
    "    \"\"\" \n",
    "    start = time.time()\n",
    "    pool = Pool(processes = cpu_num)\n",
    "    pool.map(function, job_list)\n",
    "    # pool.map_async(function, dir_list)\n",
    "    pool.close()\n",
    "\n",
    "    end = time.time()\n",
    "    print(end-start)"
   ]
  },
  {
   "cell_type": "code",
   "execution_count": 11,
   "metadata": {},
   "outputs": [],
   "source": [
    "#### Drop columns from EEZ\n",
    "EEZ_drop = gpd.GeoDataFrame(EEZ[['MRGID', 'geometry']])"
   ]
  },
  {
   "cell_type": "code",
   "execution_count": 15,
   "metadata": {},
   "outputs": [],
   "source": [
    "#### Buffer the point by 0.1 degrees \n",
    "PP_buffer = point_buffer(PP, radius = 0.1)"
   ]
  },
  {
   "cell_type": "code",
   "execution_count": 16,
   "metadata": {},
   "outputs": [
    {
     "data": {
      "text/html": [
       "<div>\n",
       "<style scoped>\n",
       "    .dataframe tbody tr th:only-of-type {\n",
       "        vertical-align: middle;\n",
       "    }\n",
       "\n",
       "    .dataframe tbody tr th {\n",
       "        vertical-align: top;\n",
       "    }\n",
       "\n",
       "    .dataframe thead th {\n",
       "        text-align: right;\n",
       "    }\n",
       "</style>\n",
       "<table border=\"1\" class=\"dataframe\">\n",
       "  <thead>\n",
       "    <tr style=\"text-align: right;\">\n",
       "      <th></th>\n",
       "      <th>basin_id</th>\n",
       "      <th>old_geom</th>\n",
       "      <th>geometry</th>\n",
       "    </tr>\n",
       "  </thead>\n",
       "  <tbody>\n",
       "    <tr>\n",
       "      <td>0</td>\n",
       "      <td>au_09807</td>\n",
       "      <td>POINT (158.913015963685 -54.64636307400065)</td>\n",
       "      <td>POLYGON ((159.013015963685 -54.64636307400065,...</td>\n",
       "    </tr>\n",
       "    <tr>\n",
       "      <td>1</td>\n",
       "      <td>au_09806</td>\n",
       "      <td>POINT (158.9214017251773 -54.61009196102273)</td>\n",
       "      <td>POLYGON ((159.0214017251773 -54.61009196102273...</td>\n",
       "    </tr>\n",
       "    <tr>\n",
       "      <td>2</td>\n",
       "      <td>au_09805</td>\n",
       "      <td>POINT (158.8775040159086 -54.55366988325454)</td>\n",
       "      <td>POLYGON ((158.9775040159086 -54.55366988325454...</td>\n",
       "    </tr>\n",
       "    <tr>\n",
       "      <td>3</td>\n",
       "      <td>au_09804</td>\n",
       "      <td>POINT (77.53563120865223 -38.71234259192368)</td>\n",
       "      <td>POLYGON ((77.63563120865223 -38.71234259192368...</td>\n",
       "    </tr>\n",
       "    <tr>\n",
       "      <td>4</td>\n",
       "      <td>au_09803</td>\n",
       "      <td>POINT (77.5536642440721 -37.78617552055444)</td>\n",
       "      <td>POLYGON ((77.65366424407209 -37.78617552055444...</td>\n",
       "    </tr>\n",
       "  </tbody>\n",
       "</table>\n",
       "</div>"
      ],
      "text/plain": [
       "   basin_id                                      old_geom  \\\n",
       "0  au_09807   POINT (158.913015963685 -54.64636307400065)   \n",
       "1  au_09806  POINT (158.9214017251773 -54.61009196102273)   \n",
       "2  au_09805  POINT (158.8775040159086 -54.55366988325454)   \n",
       "3  au_09804  POINT (77.53563120865223 -38.71234259192368)   \n",
       "4  au_09803   POINT (77.5536642440721 -37.78617552055444)   \n",
       "\n",
       "                                            geometry  \n",
       "0  POLYGON ((159.013015963685 -54.64636307400065,...  \n",
       "1  POLYGON ((159.0214017251773 -54.61009196102273...  \n",
       "2  POLYGON ((158.9775040159086 -54.55366988325454...  \n",
       "3  POLYGON ((77.63563120865223 -38.71234259192368...  \n",
       "4  POLYGON ((77.65366424407209 -37.78617552055444...  "
      ]
     },
     "execution_count": 16,
     "metadata": {},
     "output_type": "execute_result"
    }
   ],
   "source": [
    "PP_buffer.head()"
   ]
  },
  {
   "cell_type": "code",
   "execution_count": 17,
   "metadata": {},
   "outputs": [],
   "source": [
    "PP_buffer.drop(columns = ['old_geom'], inplace = True)"
   ]
  },
  {
   "cell_type": "code",
   "execution_count": 23,
   "metadata": {},
   "outputs": [],
   "source": [
    "#### Test Parallel 1000 rows\n",
    "\n",
    "# Chunk\n",
    "chunk = PP_buffer.iloc[:4999]\n",
    "n =  100 # chunk row size\n",
    "list_df = [chunk[i:i+n] for i in range(0,chunk.shape[0],n)]\n",
    "\n",
    "# # name list\n",
    "list_num = list(range(0,len(list_df))) # Ten chunks"
   ]
  },
  {
   "cell_type": "code",
   "execution_count": 24,
   "metadata": {},
   "outputs": [],
   "source": [
    "job_list = list(zip(list_df,list_num))"
   ]
  },
  {
   "cell_type": "code",
   "execution_count": 25,
   "metadata": {
    "scrolled": false
   },
   "outputs": [
    {
     "name": "stdout",
     "output_type": "stream",
     "text": [
      "<ForkProcess(ForkPoolWorker-7, started daemon)>\n",
      "<ForkProcess(ForkPoolWorker-8, started daemon)>\n",
      "<ForkProcess(ForkPoolWorker-9, started daemon)>\n",
      "<ForkProcess(ForkPoolWorker-10, started daemon)>\n",
      "<ForkProcess(ForkPoolWorker-11, started daemon)>\n",
      "<ForkProcess(ForkPoolWorker-12, started daemon)>\n",
      "start!\n",
      "start!\n",
      "start!\n",
      "start!\n",
      "start!\n",
      "start!\n",
      "done 3\n",
      "<ForkProcess(ForkPoolWorker-8, started daemon)>\n",
      "done 0\n",
      "<ForkProcess(ForkPoolWorker-7, started daemon)>\n",
      "done 6\n",
      "<ForkProcess(ForkPoolWorker-9, started daemon)>\n",
      "done 12\n",
      "<ForkProcess(ForkPoolWorker-11, started daemon)>\n",
      "done 9\n",
      "<ForkProcess(ForkPoolWorker-10, started daemon)>\n",
      "start!\n",
      "done 15\n",
      "<ForkProcess(ForkPoolWorker-12, started daemon)>\n",
      "start!\n",
      "start!\n",
      "start!\n",
      "start!\n",
      "start!\n",
      "done 4\n",
      "<ForkProcess(ForkPoolWorker-8, started daemon)>\n",
      "done 1\n",
      "<ForkProcess(ForkPoolWorker-7, started daemon)>\n",
      "done 13\n",
      "<ForkProcess(ForkPoolWorker-11, started daemon)>\n",
      "start!\n",
      "done 7\n",
      "<ForkProcess(ForkPoolWorker-9, started daemon)>\n",
      "done 16\n",
      "<ForkProcess(ForkPoolWorker-12, started daemon)>\n",
      "done 10\n",
      "<ForkProcess(ForkPoolWorker-10, started daemon)>\n",
      "start!\n",
      "start!\n",
      "start!\n",
      "start!\n",
      "start!\n",
      "done 5\n",
      "<ForkProcess(ForkPoolWorker-8, started daemon)>\n",
      "done 2\n",
      "<ForkProcess(ForkPoolWorker-7, started daemon)>\n",
      "done 8\n",
      "<ForkProcess(ForkPoolWorker-9, started daemon)>\n",
      "start!\n",
      "done 14\n",
      "<ForkProcess(ForkPoolWorker-11, started daemon)>\n",
      "start!\n",
      "done 17\n",
      "<ForkProcess(ForkPoolWorker-12, started daemon)>\n",
      "done 11\n",
      "<ForkProcess(ForkPoolWorker-10, started daemon)>\n",
      "start!\n",
      "start!\n",
      "start!\n",
      "start!\n",
      "done 24\n",
      "<ForkProcess(ForkPoolWorker-9, started daemon)>\n",
      "done 18\n",
      "<ForkProcess(ForkPoolWorker-8, started daemon)>\n",
      "done 21\n",
      "<ForkProcess(ForkPoolWorker-7, started daemon)>\n",
      "done 27\n",
      "<ForkProcess(ForkPoolWorker-11, started daemon)>\n",
      "start!\n",
      "start!\n",
      "done 33\n",
      "<ForkProcess(ForkPoolWorker-10, started daemon)>\n",
      "done 30\n",
      "<ForkProcess(ForkPoolWorker-12, started daemon)>\n",
      "start!\n",
      "start!\n",
      "start!\n",
      "start!\n",
      "done 25\n",
      "<ForkProcess(ForkPoolWorker-9, started daemon)>\n",
      "done 22\n",
      "<ForkProcess(ForkPoolWorker-7, started daemon)>\n",
      "done 19\n",
      "<ForkProcess(ForkPoolWorker-8, started daemon)>\n",
      "done 28\n",
      "<ForkProcess(ForkPoolWorker-11, started daemon)>\n",
      "start!\n",
      "done 34\n",
      "<ForkProcess(ForkPoolWorker-10, started daemon)>\n",
      "done 31\n",
      "<ForkProcess(ForkPoolWorker-12, started daemon)>\n",
      "start!\n",
      "start!\n",
      "start!\n",
      "start!\n",
      "start!\n",
      "done 26\n",
      "<ForkProcess(ForkPoolWorker-9, started daemon)>\n",
      "start!\n",
      "done 23\n",
      "<ForkProcess(ForkPoolWorker-7, started daemon)>\n",
      "done 29\n",
      "<ForkProcess(ForkPoolWorker-11, started daemon)>\n",
      "done 35\n",
      "<ForkProcess(ForkPoolWorker-10, started daemon)>\n",
      "done 20\n",
      "<ForkProcess(ForkPoolWorker-8, started daemon)>\n",
      "done 32\n",
      "start!\n",
      "start!\n",
      "start!\n",
      "start!\n",
      "done 36\n",
      "<ForkProcess(ForkPoolWorker-9, started daemon)>\n",
      "start!\n",
      "done 39\n",
      "<ForkProcess(ForkPoolWorker-7, started daemon)>\n",
      "start!\n",
      "done 37\n",
      "<ForkProcess(ForkPoolWorker-9, started daemon)>\n",
      "done 40\n",
      "<ForkProcess(ForkPoolWorker-7, started daemon)>\n",
      "start!\n",
      "start!\n",
      "done 38\n",
      "done 41\n",
      "done 45\n",
      "<ForkProcess(ForkPoolWorker-10, started daemon)>\n",
      "start!\n",
      "done 42\n",
      "<ForkProcess(ForkPoolWorker-11, started daemon)>\n",
      "done 48\n",
      "<ForkProcess(ForkPoolWorker-8, started daemon)>\n",
      "start!\n",
      "start!\n",
      "done 43\n",
      "<ForkProcess(ForkPoolWorker-11, started daemon)>\n",
      "start!\n",
      "done 46\n",
      "<ForkProcess(ForkPoolWorker-10, started daemon)>\n",
      "start!\n",
      "done 49\n",
      "done 44\n",
      "done 47\n",
      "2271.4449055194855\n"
     ]
    }
   ],
   "source": [
    "parallel_loop(run_intersect, job_list, 6)"
   ]
  },
  {
   "cell_type": "code",
   "execution_count": 27,
   "metadata": {},
   "outputs": [
    {
     "data": {
      "text/plain": [
       "37.85"
      ]
     },
     "execution_count": 27,
     "metadata": {},
     "output_type": "execute_result"
    }
   ],
   "source": [
    "2271/60"
   ]
  },
  {
   "cell_type": "code",
   "execution_count": null,
   "metadata": {},
   "outputs": [],
   "source": [
    "37"
   ]
  },
  {
   "cell_type": "markdown",
   "metadata": {},
   "source": [
    "# Open and Stack"
   ]
  },
  {
   "cell_type": "code",
   "execution_count": null,
   "metadata": {},
   "outputs": [],
   "source": [
    "# Get File list\n",
    "stack_dir = DATA_IN+'interim/coastalpoints/'\n",
    "stack = glob(stack_dir+'*.csv')"
   ]
  },
  {
   "cell_type": "code",
   "execution_count": null,
   "metadata": {},
   "outputs": [],
   "source": [
    "# Data frame to fill\n",
    "df_out = pd.DataFrame()\n",
    "\n",
    "for fn in sorted(stack):\n",
    "\n",
    "\n",
    "    # open csv \n",
    "    df = pd.read_csv(fn)\n",
    "    \n",
    "    df.drop(columns = 'Unnamed: 0', inplace = True)\n",
    "\n",
    "    print(len(df_out))\n",
    "\n",
    "    df_out = df_out.append(df)\n"
   ]
  },
  {
   "cell_type": "code",
   "execution_count": null,
   "metadata": {},
   "outputs": [],
   "source": [
    "match = pd.DataFrame(df_out['basin_id'])"
   ]
  },
  {
   "cell_type": "code",
   "execution_count": null,
   "metadata": {},
   "outputs": [],
   "source": [
    "gpd_out = chunk.merge(match, on = 'basin_id', how = 'inner')"
   ]
  },
  {
   "cell_type": "code",
   "execution_count": null,
   "metadata": {},
   "outputs": [],
   "source": [
    "gpd_out.to_file(DATA_IN+'interim/pourpoints_coastal.shp')"
   ]
  },
  {
   "cell_type": "code",
   "execution_count": null,
   "metadata": {},
   "outputs": [],
   "source": [
    "chunk.to_file(DATA_IN+'interim/pourpoints_test.shp')"
   ]
  },
  {
   "cell_type": "markdown",
   "metadata": {},
   "source": [
    "## Try Making a Coastline with the ocean mask"
   ]
  },
  {
   "cell_type": "code",
   "execution_count": null,
   "metadata": {},
   "outputs": [],
   "source": [
    "def raster_poly(raster, band, crs):\n",
    "    \"\"\"Fucntion makes polygons for of raster returns dict of polygons\n",
    "    \n",
    "        Args: raster = input raster as rasterio object\n",
    "              band = band of raster\n",
    "              crs = crs\n",
    "    \"\"\"\n",
    "\n",
    "    mask = raster.read(band)\n",
    "    \n",
    "    # Extract feature shapes and values from the array.\n",
    "    for geom, val in rasterio.features.shapes(mask, transform=raster.transform):\n",
    "        \n",
    "        # Transform shapes from the dataset's own coordinate\n",
    "        # reference system to CRS84 (EPSG:4326).\n",
    "        geom = rasterio.warp.transform_geom(raster.crs, crs, geom, precision=6) # WGS84 (EPSG 4326)\n",
    "    \n",
    "    # turn geom into Polygon object from shapely    \n",
    "    # Polygon(geom['coordinates'][0])\n",
    "    poly_gdf = gpd.GeoDataFrame()\n",
    "    for i, poly in enumerate(geom['coordinates']):\n",
    "        poly_gdf.loc[i,'geometry']= Polygon(poly)\n",
    "\n",
    "    return poly_gdf"
   ]
  },
  {
   "cell_type": "code",
   "execution_count": null,
   "metadata": {},
   "outputs": [],
   "source": [
    "crs = RST.crs"
   ]
  },
  {
   "cell_type": "code",
   "execution_count": null,
   "metadata": {},
   "outputs": [],
   "source": [
    "coastlines = raster_poly(RST, 1, crs)"
   ]
  },
  {
   "cell_type": "markdown",
   "metadata": {},
   "source": [
    "## EZZ Dissolve"
   ]
  },
  {
   "cell_type": "code",
   "execution_count": null,
   "metadata": {},
   "outputs": [],
   "source": [
    "#### Get the EEZ cols needed\n",
    "EEZ_drop = gpd.GeoDataFrame(EEZ[['MRGID', 'geometry']])\n"
   ]
  },
  {
   "cell_type": "code",
   "execution_count": null,
   "metadata": {},
   "outputs": [],
   "source": [
    "EEZ_drop['attribt'] = 'A'"
   ]
  },
  {
   "cell_type": "code",
   "execution_count": null,
   "metadata": {},
   "outputs": [],
   "source": [
    "for index, rows in EEZ_drop.iterrows():\n",
    "    if rows.is_valid == False:\n",
    "        print(index)"
   ]
  },
  {
   "cell_type": "code",
   "execution_count": null,
   "metadata": {},
   "outputs": [],
   "source": [
    "if EEZ_drop['geometry'].is_valid:\n",
    "    print()\n"
   ]
  }
 ],
 "metadata": {
  "kernelspec": {
   "display_name": "geo",
   "language": "python",
   "name": "geo"
  },
  "language_info": {
   "codemirror_mode": {
    "name": "ipython",
    "version": 3
   },
   "file_extension": ".py",
   "mimetype": "text/x-python",
   "name": "python",
   "nbconvert_exporter": "python",
   "pygments_lexer": "ipython3",
   "version": "3.6.7"
  }
 },
 "nbformat": 4,
 "nbformat_minor": 2
}
