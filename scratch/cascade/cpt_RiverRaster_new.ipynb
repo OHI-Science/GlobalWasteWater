{
 "cells": [
  {
   "cell_type": "code",
   "execution_count": 1,
   "metadata": {},
   "outputs": [],
   "source": [
    "#################################################################\n",
    "##\n",
    "##  Code to turn river line strings from HydroSheds into bianary raster\n",
    "##  in the same resolution and crs (EPSG:54009) at 1km res as other data.\n",
    "##  Next it takes the ocean-land mask to merge it with the\n",
    "##  coastline\n",
    "##\n",
    "##  Built with conda env geo37\n",
    "##\n",
    "##  By Cascade Tuholske 2019-10-16\n",
    "##\n",
    "#################################################################"
   ]
  },
  {
   "cell_type": "code",
   "execution_count": 2,
   "metadata": {},
   "outputs": [],
   "source": [
    "# Dependencies \n",
    "##############################################################################################################\n",
    "from glob import glob\n",
    "import numpy as np\n",
    "import rasterio \n",
    "from rasterio import features\n",
    "import pandas as pd\n",
    "import geopandas as gpd\n",
    "import os\n",
    "from skimage.morphology import erosion"
   ]
  },
  {
   "cell_type": "code",
   "execution_count": 3,
   "metadata": {},
   "outputs": [],
   "source": [
    "# Files and File Paths\n",
    "##############################################################################################################\n",
    "DATA_IN = '../../data/'\n"
   ]
  },
  {
   "cell_type": "code",
   "execution_count": 4,
   "metadata": {},
   "outputs": [],
   "source": [
    "#### Functions\n",
    "##############################################################################################################\n",
    "\n",
    "def burn_rst(rst_in, polys, fn_out):\n",
    "    \"\"\" Function burns polygons into a bianary raster, polys must have a value column labeled 'true'\n",
    "    Args:\n",
    "        rst_in = file path to raster for template\n",
    "        polys = polygons to burn int, values column must be labeled 'true'\n",
    "        fn_out = file path for burned raster\n",
    "    \"\"\"\n",
    "    \n",
    "    # Get array as template\n",
    "    rst = rasterio.open(rst_in)\n",
    "    out_arr = rst.read(1) # get an array to burn shapes\n",
    "    out_arr.fill(0) # revalue rst to an Nan Value before burning in polygons\n",
    "    out_arr = out_arr.astype('uint8') # change dtype for file size\n",
    "    \n",
    "    # Update Meta Data\n",
    "    meta = rst.meta\n",
    "    meta['dtype'] = \"uint8\"\n",
    "    meta['nodata'] = 99 # NA as 99\n",
    "    \n",
    "    # extract geom and values to burn\n",
    "    shapes = ((geom,value) for geom, value in zip(polys['geometry'], polys['true']))\n",
    "\n",
    "    # burn shapes intp an array\n",
    "    burned = features.rasterize(shapes=shapes, fill=0, out=out_arr, transform=rst.transform, all_touched=True)\n",
    "\n",
    "    # write our raster to disk\n",
    "    with rasterio.open(fn_out, 'w', **meta) as out:\n",
    "        out.write_band(1, burned)\n",
    "\n",
    "    print(fn_out + \"  saved!\")"
   ]
  },
  {
   "cell_type": "code",
   "execution_count": 5,
   "metadata": {},
   "outputs": [],
   "source": [
    "# Make Coastline Rst\n",
    "##############################################################################################################\n",
    "rst_in = DATA_IN+'interim/oceanland_mask.tif'\n",
    "rst = rasterio.open(rst_in)\n"
   ]
  },
  {
   "cell_type": "code",
   "execution_count": 6,
   "metadata": {},
   "outputs": [],
   "source": [
    "# erode by 1-km \n",
    "arr = rst.read(1)\n",
    "arr_eroded = erosion(arr) "
   ]
  },
  {
   "cell_type": "code",
   "execution_count": 7,
   "metadata": {},
   "outputs": [],
   "source": [
    "# add them together and revalue\n",
    "coast_arr = arr+arr_eroded"
   ]
  },
  {
   "cell_type": "code",
   "execution_count": 9,
   "metadata": {},
   "outputs": [],
   "source": [
    "# 0 = ocean, 1 = coastline, 2 = land\n",
    "coast_arr[coast_arr == 2] = 0"
   ]
  },
  {
   "cell_type": "code",
   "execution_count": 10,
   "metadata": {},
   "outputs": [],
   "source": [
    "# write it out\n",
    "meta = rst.meta\n",
    "crs = rst.crs # get CRS for later \n",
    "rst_out = DATA_IN+'interim/coastline.tif'\n",
    "with rasterio.open(rst_out, 'w', **meta) as dst:\n",
    "    dst.write_band(1, coast_arr)\n",
    "print('coastline rst done')"
   ]
  },
  {
   "cell_type": "code",
   "execution_count": 12,
   "metadata": {},
   "outputs": [
    {
     "name": "stdout",
     "output_type": "stream",
     "text": [
      "(76685, 3)\n",
      "(793547, 3)\n",
      "(1232703, 3)\n",
      "(1696879, 3)\n",
      "(2566735, 3)\n",
      "(2999273, 3)\n",
      "(3199865, 3)\n",
      "rivers stack saved\n"
     ]
    }
   ],
   "source": [
    "# Stack Hydrosheds & Burn as a Raster\n",
    "##############################################################################################################\n",
    "shp_out = DATA_IN+'interim/Hydro30s_rivers_stacked.shp'\n",
    "dir_list = glob(DATA_IN+'raw/Hydrosheds/RIV_30s/*/')\n",
    "\n",
    "# Open all hydro shed polys and stack them for later\n",
    "gpd_out = gpd.GeoDataFrame()\n",
    "\n",
    "for dir_nm in dir_list:\n",
    "    for fn in os.listdir(dir_nm):\n",
    "        if fn.endswith('.shp'): \n",
    "            river = gpd.read_file(dir_nm+fn) # open shape file\n",
    "            gpd_out = gpd_out.append(river) # merge to gpd_out\n",
    "            print(gpd_out.shape)\n",
    "\n",
    "# write out to file            \n",
    "gpd_out.to_file(shp_out)\n",
    "print('rivers stack saved')"
   ]
  },
  {
   "cell_type": "code",
   "execution_count": 13,
   "metadata": {},
   "outputs": [],
   "source": [
    "# add column for burning\n",
    "gpd_out['true'] = 1\n",
    "gpd_out_crs = gpd_out.to_crs(rst.crs)"
   ]
  },
  {
   "cell_type": "code",
   "execution_count": 15,
   "metadata": {},
   "outputs": [
    {
     "name": "stdout",
     "output_type": "stream",
     "text": [
      "../../data/interim/river_rst.tif  saved!\n"
     ]
    }
   ],
   "source": [
    "# Burn River Raster \n",
    "rst_out = DATA_IN+'interim/river_rst.tif'\n",
    "burn_rst(rst_in = rst_in, polys = gpd_out_crs , fn_out = rst_out)\n",
    "print('river rst done')"
   ]
  },
  {
   "cell_type": "code",
   "execution_count": 18,
   "metadata": {},
   "outputs": [
    {
     "ename": "NameError",
     "evalue": "name 'coast_arr' is not defined",
     "output_type": "error",
     "traceback": [
      "\u001b[0;31m---------------------------------------------------------------------------\u001b[0m",
      "\u001b[0;31mNameError\u001b[0m                                 Traceback (most recent call last)",
      "\u001b[0;32m<ipython-input-18-b70eb86133fb>\u001b[0m in \u001b[0;36m<module>\u001b[0;34m\u001b[0m\n\u001b[1;32m      2\u001b[0m \u001b[0;31m##############################################################################################################\u001b[0m\u001b[0;34m\u001b[0m\u001b[0;34m\u001b[0m\u001b[0;34m\u001b[0m\u001b[0m\n\u001b[1;32m      3\u001b[0m \u001b[0mriv_arr\u001b[0m \u001b[0;34m=\u001b[0m \u001b[0mrasterio\u001b[0m\u001b[0;34m.\u001b[0m\u001b[0mopen\u001b[0m\u001b[0;34m(\u001b[0m\u001b[0mrst_out\u001b[0m\u001b[0;34m)\u001b[0m\u001b[0;34m.\u001b[0m\u001b[0mread\u001b[0m\u001b[0;34m(\u001b[0m\u001b[0;36m1\u001b[0m\u001b[0;34m)\u001b[0m\u001b[0;34m\u001b[0m\u001b[0;34m\u001b[0m\u001b[0m\n\u001b[0;32m----> 4\u001b[0;31m \u001b[0mcoast_riv\u001b[0m \u001b[0;34m=\u001b[0m \u001b[0mriv_arr\u001b[0m\u001b[0;34m+\u001b[0m\u001b[0mcoast_arr\u001b[0m\u001b[0;34m\u001b[0m\u001b[0;34m\u001b[0m\u001b[0m\n\u001b[0m\u001b[1;32m      5\u001b[0m \u001b[0;34m\u001b[0m\u001b[0m\n\u001b[1;32m      6\u001b[0m \u001b[0mrst_out\u001b[0m \u001b[0;34m=\u001b[0m \u001b[0mDATA_IN\u001b[0m\u001b[0;34m+\u001b[0m\u001b[0;34m'interim/riv_30s_coastlines.tif'\u001b[0m\u001b[0;34m\u001b[0m\u001b[0;34m\u001b[0m\u001b[0m\n",
      "\u001b[0;31mNameError\u001b[0m: name 'coast_arr' is not defined"
     ]
    }
   ],
   "source": [
    "# merge river rst and coastline rst \n",
    "##############################################################################################################\n",
    "riv_arr = rasterio.open(rst_out).read(1)\n",
    "coast_riv = riv_arr+coast_arr\n",
    "\n",
    "rst_out = DATA_IN+'interim/riv_30s_coastlines.tif'\n",
    "with rasterio.open(rst_out, 'w', **meta) as dst:\n",
    "    dst.write_band(1, coast_riv)\n",
    "print('River-coastline rst is done - ALL DONE')"
   ]
  }
 ],
 "metadata": {
  "kernelspec": {
   "display_name": "geo",
   "language": "python",
   "name": "geo"
  },
  "language_info": {
   "codemirror_mode": {
    "name": "ipython",
    "version": 3
   },
   "file_extension": ".py",
   "mimetype": "text/x-python",
   "name": "python",
   "nbconvert_exporter": "python",
   "pygments_lexer": "ipython3",
   "version": "3.6.7"
  }
 },
 "nbformat": 4,
 "nbformat_minor": 2
}
