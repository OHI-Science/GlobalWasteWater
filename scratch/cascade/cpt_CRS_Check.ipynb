{
 "cells": [
  {
   "cell_type": "markdown",
   "metadata": {},
   "source": [
    "# CRS Check\n",
    "\n",
    "Goal of this notebook is to check the CRS of the datasets."
   ]
  },
  {
   "cell_type": "code",
   "execution_count": 1,
   "metadata": {},
   "outputs": [],
   "source": [
    "import pandas\n",
    "import rasterio\n",
    "import geopandas as gpd\n",
    "import numpy\n",
    "import os"
   ]
  },
  {
   "cell_type": "markdown",
   "metadata": {},
   "source": [
    "#### File Paths"
   ]
  },
  {
   "cell_type": "code",
   "execution_count": 2,
   "metadata": {},
   "outputs": [],
   "source": [
    "# Local Hard Drive\n",
    "\n",
    "DATA_RAW = '/Users/cascade/Github/wastewater_ohi/data/raw/'"
   ]
  },
  {
   "cell_type": "markdown",
   "metadata": {},
   "source": [
    "### Population rasters"
   ]
  },
  {
   "cell_type": "code",
   "execution_count": 3,
   "metadata": {},
   "outputs": [],
   "source": [
    "# GHS-Pop\n",
    "\n",
    "pop_fn = 'GHS_POP_E2015_GLOBE_R2019A_54009_1K_V1_0/GHS_POP_E2015_GLOBE_R2019A_54009_1K_V1_0.tif'\n",
    "pop =  rasterio.open(DATA_RAW+pop_fn)"
   ]
  },
  {
   "cell_type": "code",
   "execution_count": 4,
   "metadata": {},
   "outputs": [
    {
     "data": {
      "text/plain": [
       "{'driver': 'GTiff',\n",
       " 'dtype': 'float64',\n",
       " 'nodata': -200.0,\n",
       " 'width': 36082,\n",
       " 'height': 18000,\n",
       " 'count': 1,\n",
       " 'crs': CRS.from_wkt('PROJCS[\"World_Mollweide\",GEOGCS[\"GCS_WGS_1984\",DATUM[\"D_WGS_1984\",SPHEROID[\"WGS_1984\",6378137.0,298.257223563]],PRIMEM[\"Greenwich\",0.0],UNIT[\"Degree\",0.017453292519943295]],PROJECTION[\"Mollweide\"],PARAMETER[\"False_Easting\",0.0],PARAMETER[\"False_Northing\",0.0],PARAMETER[\"Central_Meridian\",0.0],UNIT[\"Meter\",1.0]]'),\n",
       " 'transform': Affine(1000.0, 0.0, -18041000.0,\n",
       "        0.0, -1000.0, 9000000.0)}"
      ]
     },
     "execution_count": 4,
     "metadata": {},
     "output_type": "execute_result"
    }
   ],
   "source": [
    "pop.meta"
   ]
  },
  {
   "cell_type": "code",
   "execution_count": 5,
   "metadata": {},
   "outputs": [],
   "source": [
    "# GHS-SMOD\n",
    "\n",
    "smod_fn = 'GHS_SMOD_POP2015_GLOBE_R2019A_54009_1K_V1_0/GHS_SMOD_POP2015_GLOBE_R2019A_54009_1K_V1_0.tif'\n",
    "smod = rasterio.open(DATA_RAW+smod_fn)"
   ]
  },
  {
   "cell_type": "code",
   "execution_count": 6,
   "metadata": {},
   "outputs": [
    {
     "data": {
      "text/plain": [
       "{'driver': 'GTiff',\n",
       " 'dtype': 'int16',\n",
       " 'nodata': -200.0,\n",
       " 'width': 36082,\n",
       " 'height': 18000,\n",
       " 'count': 1,\n",
       " 'crs': CRS.from_wkt('PROJCS[\"World_Mollweide\",GEOGCS[\"GCS_WGS_1984\",DATUM[\"D_WGS_1984\",SPHEROID[\"WGS_1984\",6378137.0,298.257223563]],PRIMEM[\"Greenwich\",0.0],UNIT[\"Degree\",0.017453292519943295]],PROJECTION[\"Mollweide\"],PARAMETER[\"False_Easting\",0.0],PARAMETER[\"False_Northing\",0.0],PARAMETER[\"Central_Meridian\",0.0],UNIT[\"Meter\",1.0]]'),\n",
       " 'transform': Affine(1000.0, 0.0, -18041000.0,\n",
       "        0.0, -1000.0, 9000000.0)}"
      ]
     },
     "execution_count": 6,
     "metadata": {},
     "output_type": "execute_result"
    }
   ],
   "source": [
    "smod.meta"
   ]
  },
  {
   "cell_type": "markdown",
   "metadata": {},
   "source": [
    "### Basins"
   ]
  },
  {
   "cell_type": "code",
   "execution_count": 7,
   "metadata": {},
   "outputs": [],
   "source": [
    "# file list\n",
    "\n",
    "basins_in = os.path.join(DATA_RAW, \"basins_laea/\")\n",
    "shps = [os.path.join(basins_in, fn) for fn in os.listdir(basins_in) if fn.endswith(\".shp\")]\n",
    "basins_out = '/Users/cascade/Github/wastewater_ohi/data/interim/basins_crs/'"
   ]
  },
  {
   "cell_type": "code",
   "execution_count": 8,
   "metadata": {},
   "outputs": [
    {
     "name": "stdout",
     "output_type": "stream",
     "text": [
      "/Users/cascade/Github/wastewater_ohi/data/raw/basins_laea/au_bas.shp\n",
      "{'proj': 'laea', 'lat_0': -15, 'lon_0': 135, 'x_0': 0, 'y_0': 0, 'datum': 'WGS84', 'units': 'm', 'no_defs': True}\n",
      "\n",
      "\n",
      "/Users/cascade/Github/wastewater_ohi/data/raw/basins_laea/sa_bas.shp\n",
      "{'proj': 'laea', 'lat_0': -15, 'lon_0': -60, 'x_0': 0, 'y_0': 0, 'datum': 'WGS84', 'units': 'm', 'no_defs': True}\n",
      "\n",
      "\n",
      "/Users/cascade/Github/wastewater_ohi/data/raw/basins_laea/af_bas.shp\n",
      "{'proj': 'laea', 'lat_0': 5, 'lon_0': 20, 'x_0': 0, 'y_0': 0, 'datum': 'WGS84', 'units': 'm', 'no_defs': True}\n",
      "\n",
      "\n",
      "/Users/cascade/Github/wastewater_ohi/data/raw/basins_laea/as_bas.shp\n",
      "{'proj': 'laea', 'lat_0': 45, 'lon_0': 100, 'x_0': 0, 'y_0': 0, 'datum': 'WGS84', 'units': 'm', 'no_defs': True}\n",
      "\n",
      "\n",
      "/Users/cascade/Github/wastewater_ohi/data/raw/basins_laea/eu_bas.shp\n",
      "{'proj': 'laea', 'lat_0': 55, 'lon_0': 20, 'x_0': 0, 'y_0': 0, 'datum': 'WGS84', 'units': 'm', 'no_defs': True}\n",
      "\n",
      "\n",
      "/Users/cascade/Github/wastewater_ohi/data/raw/basins_laea/pa_bas.shp\n",
      "{'proj': 'laea', 'lat_0': -15, 'lon_0': -170, 'x_0': 0, 'y_0': 0, 'datum': 'WGS84', 'units': 'm', 'no_defs': True}\n",
      "\n",
      "\n",
      "/Users/cascade/Github/wastewater_ohi/data/raw/basins_laea/na_bas.shp\n",
      "{'proj': 'laea', 'lat_0': 45, 'lon_0': -100, 'x_0': 0, 'y_0': 0, 'datum': 'WGS84', 'units': 'm', 'no_defs': True}\n",
      "\n",
      "\n"
     ]
    }
   ],
   "source": [
    "# Check current CRS\n",
    "\n",
    "for shp in shps:\n",
    "    fn = gpd.read_file(shp)\n",
    "    print(shp)\n",
    "    print(fn.crs)\n",
    "    print('\\n')"
   ]
  },
  {
   "cell_type": "code",
   "execution_count": 10,
   "metadata": {},
   "outputs": [
    {
     "data": {
      "text/plain": [
       "{'init': 'epsg:54009', 'no_defs': True}"
      ]
     },
     "execution_count": 10,
     "metadata": {},
     "output_type": "execute_result"
    }
   ],
   "source": [
    "from fiona.crs import from_epsg\n",
    "from_epsg(54009)"
   ]
  },
  {
   "cell_type": "code",
   "execution_count": 18,
   "metadata": {},
   "outputs": [],
   "source": [
    "# Write basins out into a new crs\n",
    "\n",
    "#crs = pop.crs # <<<--- doesn't work\n",
    "\n",
    "# from Africa ERL paper\n",
    "#crs = {'proj': 'moll', 'lon_0': 0, 'x_0': 0, 'y_0': 0, 'ellps': 'WGS84', 'units': 'm', 'no_defs': True}\n",
    "\n",
    "\n",
    "\n",
    "# Directly from fiona package based on the GHS website CRS <<<--- Not working\n",
    "# from fiona.crs import from_epsg\n",
    "# crs = from_epsg(54009)\n",
    "# crs \n",
    "\n",
    "# Trying from here: https://epsg.io/54009\n",
    "#crs = {'proj': 'moll', 'lon_0' :0, 'x_0': 0, 'y_0' :0, 'datum': 'WGS84', 'units': 'm', 'no_defs' : True}"
   ]
  },
  {
   "cell_type": "code",
   "execution_count": 21,
   "metadata": {},
   "outputs": [
    {
     "data": {
      "text/plain": [
       "'+proj=moll +lon_0=0 +x_0=0 +y_0=0 +datum=WGS84 +units=m +no_defs=True'"
      ]
     },
     "execution_count": 21,
     "metadata": {},
     "output_type": "execute_result"
    }
   ],
   "source": [
    "# Trying again to get the crs from pop, validates the above code\n",
    "\n",
    "pop.crs.to_proj4()"
   ]
  },
  {
   "cell_type": "code",
   "execution_count": 22,
   "metadata": {},
   "outputs": [],
   "source": [
    "for shp in shps:\n",
    "    \n",
    "    # Get file names and make new ones\n",
    "    fn = shp.split(basins_in)[1].split('.')[0]\n",
    "    fn_out = fn+'_4326.shp'\n",
    "\n",
    "    basin = gpd.read_file(shp).to_crs(epsg = 4326)\n",
    "    \n",
    "    basin.to_file(basins_out+fn_out)"
   ]
  }
 ],
 "metadata": {
  "kernelspec": {
   "display_name": "Python [default]",
   "language": "python",
   "name": "python3"
  },
  "language_info": {
   "codemirror_mode": {
    "name": "ipython",
    "version": 3
   },
   "file_extension": ".py",
   "mimetype": "text/x-python",
   "name": "python",
   "nbconvert_exporter": "python",
   "pygments_lexer": "ipython3",
   "version": "3.6.8"
  }
 },
 "nbformat": 4,
 "nbformat_minor": 2
}
