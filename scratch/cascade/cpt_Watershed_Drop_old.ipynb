{
 "cells": [
  {
   "cell_type": "markdown",
   "metadata": {},
   "source": [
    "# Watershed Drop\n",
    "\n",
    "By Cascade Tuholske 2020.05.21\n",
    "\n",
    "The goal of this notebook is to drop watersheds that are inland and never reach the ocean. Next I will make a raster with these watersheds to mask out pixels when we calculate zonal stats. \n",
    "\n",
    "I am going to find the spatial intersection between EEZs and pour points first.\n",
    "\n",
    "**Files needed**\n",
    "- pour points\n",
    "- inland points\n",
    "- watersheds \n",
    "- eezs\n",
    "\n",
    "**File to Make** \n",
    "- inland watersheds shape file\n",
    "- coastal watersheds shape file\n",
    "- inland watersheds raster"
   ]
  },
  {
   "cell_type": "code",
   "execution_count": null,
   "metadata": {},
   "outputs": [],
   "source": [
    "#### Dependencies \n",
    "import geopandas as gpd\n",
    "import numpy as np\n",
    "import pandas as pd\n",
    "import rasterio \n",
    "import matplotlib.pyplot as plt\n",
    "from shapely.geometry import Point\n",
    "from multiprocessing import Pool, Queue, Process\n",
    "import time \n",
    "import os\n",
    "import multiprocessing as mp"
   ]
  },
  {
   "cell_type": "code",
   "execution_count": null,
   "metadata": {},
   "outputs": [],
   "source": [
    "#### Name out put\n",
    "DATA_IN = '/home/cascade/projects/wastewater/data/'\n",
    "DATA_OUT = ''\n",
    "\n",
    "PP_FN = 'raw/pour_points/global_plume_2007_2010.shp'\n",
    "PP_I_FN = ''\n",
    "PP_C_FN = ''\n",
    "WS_FN = ''\n",
    "WS_I_FN = ''\n",
    "WS_C_FN = ''\n",
    "EEZ_FN = 'raw/World_EEZ_v10_20180221/eez_v10.shp'"
   ]
  },
  {
   "cell_type": "code",
   "execution_count": null,
   "metadata": {},
   "outputs": [],
   "source": [
    "#### load files\n",
    "PP = gpd.read_file(DATA_IN+PP_FN)\n",
    "# PP_I = gpd.read_file(DATA_IN+PP_I_FN)\n",
    "# PP_C = gpd.read_file(DATA_IN+PP_C_FN)\n",
    "# WS = gpd.read_file(DATA_IN+WS_FN)\n",
    "EEZ = gpd.read_file(DATA_IN+EEZ_FN) # are in epsg: 54009"
   ]
  },
  {
   "cell_type": "markdown",
   "metadata": {},
   "source": [
    "## Plot them to check them"
   ]
  },
  {
   "cell_type": "code",
   "execution_count": null,
   "metadata": {},
   "outputs": [],
   "source": [
    "print(EEZ.crs)\n",
    "print(PP.crs)"
   ]
  },
  {
   "cell_type": "code",
   "execution_count": null,
   "metadata": {},
   "outputs": [],
   "source": [
    "### reproject PP ... have to load twice. Do not know why\n",
    "PP = PP.to_crs({'init': 'epsg:4326'}) # switch crs\n",
    "PP.drop(['SUM_FERTC','SUM_PESTC', 'SUM_IMPV'], axis= 1, inplace = True)\n",
    "PP.head()"
   ]
  },
  {
   "cell_type": "code",
   "execution_count": null,
   "metadata": {},
   "outputs": [],
   "source": [
    "PP.plot()"
   ]
  },
  {
   "cell_type": "markdown",
   "metadata": {},
   "source": [
    "## Buffer and Drop"
   ]
  },
  {
   "cell_type": "code",
   "execution_count": null,
   "metadata": {},
   "outputs": [],
   "source": [
    "def point_buffer(gpd_df, radius):\n",
    "    \"\"\"Function to make a shapely polygon buffer around a point. Be sure to check crs to enter radius correctly\n",
    "    \n",
    "    Args: gpd_df = geopandas df\n",
    "          raduis = radius to dialate points\n",
    "    \"\"\"\n",
    "\n",
    "    gpd_df.rename(columns={'geometry':'old_geom'}, inplace=True)\n",
    "    \n",
    "    arr = []\n",
    "    \n",
    "    for point in gpd_df['old_geom']:\n",
    "        buffer = point.buffer(radius)\n",
    "        arr.append((buffer))\n",
    "    \n",
    "    gpd_df['geometry'] = arr\n",
    "    \n",
    "    return gpd_df"
   ]
  },
  {
   "cell_type": "code",
   "execution_count": null,
   "metadata": {},
   "outputs": [],
   "source": [
    "#### Find intersection\n",
    "def intersect(point_buffer, polys):\n",
    "    \n",
    "    \"finds intersection of buffered points and polys, returns point buffer geom and ids\"\n",
    "    \n",
    "    basin_id_list = []\n",
    "    geom_list = []\n",
    "    \n",
    "    for index_Pt, point in point_buffer.iterrows():\n",
    "        for index_poly, poly, in polys.iterrows():\n",
    "            if point['geometry'].intersects(poly['geometry']):\n",
    "\n",
    "                # get ID and geom for pour point that is in EEZ\n",
    "                basin_id = point['basin_id']\n",
    "                geom = point['geometry']\n",
    "\n",
    "                # write to list\n",
    "                basin_id_list.append(basin_id)\n",
    "                geom_list.append(geom)\n",
    "                \n",
    "    # return a data frame \n",
    "    df = pd.DataFrame()\n",
    "    df['basin_id'] = basin_id_list\n",
    "    df['geometry'] = geom_list\n",
    "    \n",
    "    return df\n",
    "\n",
    "    "
   ]
  },
  {
   "cell_type": "code",
   "execution_count": null,
   "metadata": {},
   "outputs": [],
   "source": [
    "#### Buffer the point by 0.1 degrees \n",
    "PP_buffer = point_buffer(PP, radius = 0.1)"
   ]
  },
  {
   "cell_type": "code",
   "execution_count": null,
   "metadata": {},
   "outputs": [],
   "source": [
    "#### Drop columns from EEZ\n",
    "EEZ_drop = gpd.GeoDataFrame(EEZ[['MRGID', 'geometry']])"
   ]
  },
  {
   "cell_type": "code",
   "execution_count": null,
   "metadata": {},
   "outputs": [],
   "source": [
    "#### Find intersection\n",
    "PP_coastal = intersect(PP_buffer, EEZ_drop)"
   ]
  },
  {
   "cell_type": "code",
   "execution_count": null,
   "metadata": {},
   "outputs": [],
   "source": [
    "len(PP_coastal)"
   ]
  },
  {
   "cell_type": "code",
   "execution_count": null,
   "metadata": {},
   "outputs": [],
   "source": [
    "len(PP_buffer)"
   ]
  },
  {
   "cell_type": "code",
   "execution_count": null,
   "metadata": {},
   "outputs": [],
   "source": [
    "len(PP_buffer)"
   ]
  },
  {
   "cell_type": "code",
   "execution_count": null,
   "metadata": {},
   "outputs": [],
   "source": [
    "#### merge based on ids"
   ]
  }
 ],
 "metadata": {
  "kernelspec": {
   "display_name": "geo",
   "language": "python",
   "name": "geo"
  },
  "language_info": {
   "codemirror_mode": {
    "name": "ipython",
    "version": 3
   },
   "file_extension": ".py",
   "mimetype": "text/x-python",
   "name": "python",
   "nbconvert_exporter": "python",
   "pygments_lexer": "ipython3",
   "version": "3.6.7"
  }
 },
 "nbformat": 4,
 "nbformat_minor": 2
}
