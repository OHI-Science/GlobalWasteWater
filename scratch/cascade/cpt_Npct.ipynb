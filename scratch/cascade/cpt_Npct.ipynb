{
 "cells": [
  {
   "cell_type": "markdown",
   "metadata": {},
   "source": [
    "# Pct of N Sources at Watershed and Country level"
   ]
  },
  {
   "cell_type": "markdown",
   "metadata": {},
   "source": [
    "#### Dependencies\n"
   ]
  },
  {
   "cell_type": "code",
   "execution_count": 1,
   "metadata": {},
   "outputs": [],
   "source": [
    "import pandas as pd\n",
    "import geopandas as gpd\n",
    "import numpy as np\n",
    "import matplotlib.pyplot as plt"
   ]
  },
  {
   "cell_type": "markdown",
   "metadata": {},
   "source": [
    "#### File Paths and Files"
   ]
  },
  {
   "cell_type": "code",
   "execution_count": 2,
   "metadata": {},
   "outputs": [],
   "source": [
    "DATA_IN = '/home/cascade/projects/wastewater/data/interim/N_effluent_output/'\n",
    "DATA_OUT = '/home/cascade/projects/wastewater/data/interim/N_effluent_output/'"
   ]
  },
  {
   "cell_type": "code",
   "execution_count": null,
   "metadata": {},
   "outputs": [],
   "source": [
    "## Open N pour pointfiles\n",
    "\n",
    "allWaste_fn = 'effluent_N_pourpoints.shp'\n",
    "openWaste_fn = 'effluent_N_open_pourpoints.shp'\n",
    "sepWaste_fn = 'effluent_N_septic_pourpoints.shp'\n",
    "treatedWaste_fn = 'effluent_N_treated_pourpoints.shp'\n",
    "\n",
    "allWaste = gpd.read_file(DATA_IN+allWaste_fn) # all\n",
    "openWaste = gpd.read_file(DATA_IN+openWaste_fn) # open Def\n",
    "sepWaste = gpd.read_file(DATA_IN+sepWaste_fn) # septic tanks\n",
    "treatedWaste = gpd.read_file(DATA_IN+treatedWaste_fn) # treated\n",
    "\n",
    "waste_list = [allWaste, openWaste, sepWaste, treatedWaste] # have a list for later"
   ]
  },
  {
   "cell_type": "code",
   "execution_count": 3,
   "metadata": {},
   "outputs": [],
   "source": [
    "## Open N country shape files\n",
    "allWaste_fn = 'effluent_N_countries.shp'\n",
    "openWaste_fn = 'effluent_N_open_countries.shp'\n",
    "sepWaste_fn = 'effluent_N_septic_countries.shp'\n",
    "treatedWaste_fn = 'effluent_N_treated_countries.shp'\n",
    "\n",
    "allWaste = gpd.read_file(DATA_IN+allWaste_fn) # all\n",
    "openWaste = gpd.read_file(DATA_IN+openWaste_fn) # open Def\n",
    "sepWaste = gpd.read_file(DATA_IN+sepWaste_fn) # septic tanks\n",
    "treatedWaste = gpd.read_file(DATA_IN+treatedWaste_fn) # treated\n",
    "\n",
    "waste_list = [allWaste, openWaste, sepWaste, treatedWaste] # have a list for later"
   ]
  },
  {
   "cell_type": "code",
   "execution_count": 4,
   "metadata": {},
   "outputs": [
    {
     "data": {
      "text/html": [
       "<div>\n",
       "<style scoped>\n",
       "    .dataframe tbody tr th:only-of-type {\n",
       "        vertical-align: middle;\n",
       "    }\n",
       "\n",
       "    .dataframe tbody tr th {\n",
       "        vertical-align: top;\n",
       "    }\n",
       "\n",
       "    .dataframe thead th {\n",
       "        text-align: right;\n",
       "    }\n",
       "</style>\n",
       "<table border=\"1\" class=\"dataframe\">\n",
       "  <thead>\n",
       "    <tr style=\"text-align: right;\">\n",
       "      <th></th>\n",
       "      <th>ISO3</th>\n",
       "      <th>poly_type</th>\n",
       "      <th>count</th>\n",
       "      <th>effluent</th>\n",
       "      <th>geometry</th>\n",
       "    </tr>\n",
       "  </thead>\n",
       "  <tbody>\n",
       "    <tr>\n",
       "      <td>0</td>\n",
       "      <td>ABW</td>\n",
       "      <td>GADM</td>\n",
       "      <td>183</td>\n",
       "      <td>2.320971e+07</td>\n",
       "      <td>POLYGON ((-6910816.274421509 1537164.105192429...</td>\n",
       "    </tr>\n",
       "    <tr>\n",
       "      <td>1</td>\n",
       "      <td>AFG</td>\n",
       "      <td>GADM</td>\n",
       "      <td>645513</td>\n",
       "      <td>5.128715e+10</td>\n",
       "      <td>POLYGON ((6211413.408736277 3848509.713654268,...</td>\n",
       "    </tr>\n",
       "    <tr>\n",
       "      <td>2</td>\n",
       "      <td>AGO</td>\n",
       "      <td>GADM</td>\n",
       "      <td>1255033</td>\n",
       "      <td>1.238465e+10</td>\n",
       "      <td>(POLYGON ((1159542.671178129 -2115445.01835647...</td>\n",
       "    </tr>\n",
       "    <tr>\n",
       "      <td>3</td>\n",
       "      <td>AIA</td>\n",
       "      <td>GADM</td>\n",
       "      <td>84</td>\n",
       "      <td>1.018501e+07</td>\n",
       "      <td>(POLYGON ((-6134902.918835666 2230758.12862136...</td>\n",
       "    </tr>\n",
       "    <tr>\n",
       "      <td>4</td>\n",
       "      <td>ALA</td>\n",
       "      <td>GADM</td>\n",
       "      <td>88</td>\n",
       "      <td>1.074733e+06</td>\n",
       "      <td>(POLYGON ((1389515.950805801 6852829.269928327...</td>\n",
       "    </tr>\n",
       "  </tbody>\n",
       "</table>\n",
       "</div>"
      ],
      "text/plain": [
       "  ISO3 poly_type    count      effluent  \\\n",
       "0  ABW      GADM      183  2.320971e+07   \n",
       "1  AFG      GADM   645513  5.128715e+10   \n",
       "2  AGO      GADM  1255033  1.238465e+10   \n",
       "3  AIA      GADM       84  1.018501e+07   \n",
       "4  ALA      GADM       88  1.074733e+06   \n",
       "\n",
       "                                            geometry  \n",
       "0  POLYGON ((-6910816.274421509 1537164.105192429...  \n",
       "1  POLYGON ((6211413.408736277 3848509.713654268,...  \n",
       "2  (POLYGON ((1159542.671178129 -2115445.01835647...  \n",
       "3  (POLYGON ((-6134902.918835666 2230758.12862136...  \n",
       "4  (POLYGON ((1389515.950805801 6852829.269928327...  "
      ]
     },
     "execution_count": 4,
     "metadata": {},
     "output_type": "execute_result"
    }
   ],
   "source": [
    "allWaste.head()"
   ]
  },
  {
   "cell_type": "markdown",
   "metadata": {},
   "source": [
    "#### Let's look at the data"
   ]
  },
  {
   "cell_type": "code",
   "execution_count": 5,
   "metadata": {
    "scrolled": true
   },
   "outputs": [
    {
     "name": "stdout",
     "output_type": "stream",
     "text": [
      "539\n",
      "539\n",
      "539\n",
      "539\n"
     ]
    }
   ],
   "source": [
    "# check len\n",
    "for waste in waste_list:\n",
    "    print(len(waste))"
   ]
  },
  {
   "cell_type": "code",
   "execution_count": 6,
   "metadata": {},
   "outputs": [
    {
     "data": {
      "text/html": [
       "<div>\n",
       "<style scoped>\n",
       "    .dataframe tbody tr th:only-of-type {\n",
       "        vertical-align: middle;\n",
       "    }\n",
       "\n",
       "    .dataframe tbody tr th {\n",
       "        vertical-align: top;\n",
       "    }\n",
       "\n",
       "    .dataframe thead th {\n",
       "        text-align: right;\n",
       "    }\n",
       "</style>\n",
       "<table border=\"1\" class=\"dataframe\">\n",
       "  <thead>\n",
       "    <tr style=\"text-align: right;\">\n",
       "      <th></th>\n",
       "      <th>ISO3</th>\n",
       "      <th>poly_type</th>\n",
       "      <th>count</th>\n",
       "      <th>effluent</th>\n",
       "      <th>geometry</th>\n",
       "    </tr>\n",
       "  </thead>\n",
       "  <tbody>\n",
       "    <tr>\n",
       "      <td>0</td>\n",
       "      <td>ABW</td>\n",
       "      <td>GADM</td>\n",
       "      <td>183</td>\n",
       "      <td>2.320971e+07</td>\n",
       "      <td>POLYGON ((-6910816.274421509 1537164.105192429...</td>\n",
       "    </tr>\n",
       "    <tr>\n",
       "      <td>1</td>\n",
       "      <td>AFG</td>\n",
       "      <td>GADM</td>\n",
       "      <td>645513</td>\n",
       "      <td>5.128715e+10</td>\n",
       "      <td>POLYGON ((6211413.408736277 3848509.713654268,...</td>\n",
       "    </tr>\n",
       "    <tr>\n",
       "      <td>2</td>\n",
       "      <td>AGO</td>\n",
       "      <td>GADM</td>\n",
       "      <td>1255033</td>\n",
       "      <td>1.238465e+10</td>\n",
       "      <td>(POLYGON ((1159542.671178129 -2115445.01835647...</td>\n",
       "    </tr>\n",
       "    <tr>\n",
       "      <td>3</td>\n",
       "      <td>AIA</td>\n",
       "      <td>GADM</td>\n",
       "      <td>84</td>\n",
       "      <td>1.018501e+07</td>\n",
       "      <td>(POLYGON ((-6134902.918835666 2230758.12862136...</td>\n",
       "    </tr>\n",
       "    <tr>\n",
       "      <td>4</td>\n",
       "      <td>ALA</td>\n",
       "      <td>GADM</td>\n",
       "      <td>88</td>\n",
       "      <td>1.074733e+06</td>\n",
       "      <td>(POLYGON ((1389515.950805801 6852829.269928327...</td>\n",
       "    </tr>\n",
       "  </tbody>\n",
       "</table>\n",
       "</div>"
      ],
      "text/plain": [
       "  ISO3 poly_type    count      effluent  \\\n",
       "0  ABW      GADM      183  2.320971e+07   \n",
       "1  AFG      GADM   645513  5.128715e+10   \n",
       "2  AGO      GADM  1255033  1.238465e+10   \n",
       "3  AIA      GADM       84  1.018501e+07   \n",
       "4  ALA      GADM       88  1.074733e+06   \n",
       "\n",
       "                                            geometry  \n",
       "0  POLYGON ((-6910816.274421509 1537164.105192429...  \n",
       "1  POLYGON ((6211413.408736277 3848509.713654268,...  \n",
       "2  (POLYGON ((1159542.671178129 -2115445.01835647...  \n",
       "3  (POLYGON ((-6134902.918835666 2230758.12862136...  \n",
       "4  (POLYGON ((1389515.950805801 6852829.269928327...  "
      ]
     },
     "execution_count": 6,
     "metadata": {},
     "output_type": "execute_result"
    }
   ],
   "source": [
    "allWaste.head()"
   ]
  },
  {
   "cell_type": "code",
   "execution_count": 7,
   "metadata": {},
   "outputs": [],
   "source": [
    "# rename columns\n",
    "allWaste.rename(columns = {'effluent':'effluent_all'}, inplace = True) \n",
    "openWaste.rename(columns = {'effluent':'effluent_open'}, inplace = True) \n",
    "sepWaste.rename(columns = {'effluent':'effluent_sep'}, inplace = True) \n",
    "treatedWaste.rename(columns = {'effluent':'effluent_treated'}, inplace = True)"
   ]
  },
  {
   "cell_type": "code",
   "execution_count": 8,
   "metadata": {},
   "outputs": [],
   "source": [
    "# For countries we'll need to make ids to merge on\n",
    "ids = list(range(0,len(allWaste)))\n",
    "allWaste['ids'] = ids\n",
    "openWaste['ids'] = ids\n",
    "sepWaste['ids'] = ids\n",
    "treatedWaste['ids'] = ids"
   ]
  },
  {
   "cell_type": "code",
   "execution_count": 9,
   "metadata": {},
   "outputs": [
    {
     "data": {
      "text/html": [
       "<div>\n",
       "<style scoped>\n",
       "    .dataframe tbody tr th:only-of-type {\n",
       "        vertical-align: middle;\n",
       "    }\n",
       "\n",
       "    .dataframe tbody tr th {\n",
       "        vertical-align: top;\n",
       "    }\n",
       "\n",
       "    .dataframe thead th {\n",
       "        text-align: right;\n",
       "    }\n",
       "</style>\n",
       "<table border=\"1\" class=\"dataframe\">\n",
       "  <thead>\n",
       "    <tr style=\"text-align: right;\">\n",
       "      <th></th>\n",
       "      <th>ISO3</th>\n",
       "      <th>poly_type</th>\n",
       "      <th>count</th>\n",
       "      <th>effluent_all</th>\n",
       "      <th>geometry</th>\n",
       "      <th>ids</th>\n",
       "    </tr>\n",
       "  </thead>\n",
       "  <tbody>\n",
       "    <tr>\n",
       "      <td>0</td>\n",
       "      <td>ABW</td>\n",
       "      <td>GADM</td>\n",
       "      <td>183</td>\n",
       "      <td>2.320971e+07</td>\n",
       "      <td>POLYGON ((-6910816.274421509 1537164.105192429...</td>\n",
       "      <td>0</td>\n",
       "    </tr>\n",
       "    <tr>\n",
       "      <td>1</td>\n",
       "      <td>AFG</td>\n",
       "      <td>GADM</td>\n",
       "      <td>645513</td>\n",
       "      <td>5.128715e+10</td>\n",
       "      <td>POLYGON ((6211413.408736277 3848509.713654268,...</td>\n",
       "      <td>1</td>\n",
       "    </tr>\n",
       "    <tr>\n",
       "      <td>2</td>\n",
       "      <td>AGO</td>\n",
       "      <td>GADM</td>\n",
       "      <td>1255033</td>\n",
       "      <td>1.238465e+10</td>\n",
       "      <td>(POLYGON ((1159542.671178129 -2115445.01835647...</td>\n",
       "      <td>2</td>\n",
       "    </tr>\n",
       "    <tr>\n",
       "      <td>3</td>\n",
       "      <td>AIA</td>\n",
       "      <td>GADM</td>\n",
       "      <td>84</td>\n",
       "      <td>1.018501e+07</td>\n",
       "      <td>(POLYGON ((-6134902.918835666 2230758.12862136...</td>\n",
       "      <td>3</td>\n",
       "    </tr>\n",
       "    <tr>\n",
       "      <td>4</td>\n",
       "      <td>ALA</td>\n",
       "      <td>GADM</td>\n",
       "      <td>88</td>\n",
       "      <td>1.074733e+06</td>\n",
       "      <td>(POLYGON ((1389515.950805801 6852829.269928327...</td>\n",
       "      <td>4</td>\n",
       "    </tr>\n",
       "  </tbody>\n",
       "</table>\n",
       "</div>"
      ],
      "text/plain": [
       "  ISO3 poly_type    count  effluent_all  \\\n",
       "0  ABW      GADM      183  2.320971e+07   \n",
       "1  AFG      GADM   645513  5.128715e+10   \n",
       "2  AGO      GADM  1255033  1.238465e+10   \n",
       "3  AIA      GADM       84  1.018501e+07   \n",
       "4  ALA      GADM       88  1.074733e+06   \n",
       "\n",
       "                                            geometry  ids  \n",
       "0  POLYGON ((-6910816.274421509 1537164.105192429...    0  \n",
       "1  POLYGON ((6211413.408736277 3848509.713654268,...    1  \n",
       "2  (POLYGON ((1159542.671178129 -2115445.01835647...    2  \n",
       "3  (POLYGON ((-6134902.918835666 2230758.12862136...    3  \n",
       "4  (POLYGON ((1389515.950805801 6852829.269928327...    4  "
      ]
     },
     "execution_count": 9,
     "metadata": {},
     "output_type": "execute_result"
    }
   ],
   "source": [
    "allWaste.head()"
   ]
  },
  {
   "cell_type": "code",
   "execution_count": 10,
   "metadata": {},
   "outputs": [],
   "source": [
    "# Try an inner join for now\n",
    "df = pd.DataFrame()\n",
    "df = allWaste.iloc[:,[0,3,5]]# for watershed allWaste.iloc[:,:2]\n",
    "\n",
    "merge_list = waste_list[1:] # short list\n",
    "\n",
    "geog = 'ids'\n",
    "\n",
    "for i, waste in enumerate(merge_list):\n",
    "    df = df.merge(waste.iloc[:,[3,5]], on = geog , how = 'inner') #update cols for countries vs watershed"
   ]
  },
  {
   "cell_type": "code",
   "execution_count": 11,
   "metadata": {},
   "outputs": [
    {
     "data": {
      "text/html": [
       "<div>\n",
       "<style scoped>\n",
       "    .dataframe tbody tr th:only-of-type {\n",
       "        vertical-align: middle;\n",
       "    }\n",
       "\n",
       "    .dataframe tbody tr th {\n",
       "        vertical-align: top;\n",
       "    }\n",
       "\n",
       "    .dataframe thead th {\n",
       "        text-align: right;\n",
       "    }\n",
       "</style>\n",
       "<table border=\"1\" class=\"dataframe\">\n",
       "  <thead>\n",
       "    <tr style=\"text-align: right;\">\n",
       "      <th></th>\n",
       "      <th>ISO3</th>\n",
       "      <th>effluent_all</th>\n",
       "      <th>ids</th>\n",
       "      <th>effluent_open</th>\n",
       "      <th>effluent_sep</th>\n",
       "      <th>effluent_treated</th>\n",
       "    </tr>\n",
       "  </thead>\n",
       "  <tbody>\n",
       "    <tr>\n",
       "      <td>0</td>\n",
       "      <td>ABW</td>\n",
       "      <td>2.320971e+07</td>\n",
       "      <td>0</td>\n",
       "      <td>8.014450e+06</td>\n",
       "      <td>9.193381e+05</td>\n",
       "      <td>1.427593e+07</td>\n",
       "    </tr>\n",
       "    <tr>\n",
       "      <td>1</td>\n",
       "      <td>AFG</td>\n",
       "      <td>5.128715e+10</td>\n",
       "      <td>1</td>\n",
       "      <td>5.050395e+10</td>\n",
       "      <td>1.979618e+08</td>\n",
       "      <td>5.852399e+08</td>\n",
       "    </tr>\n",
       "    <tr>\n",
       "      <td>2</td>\n",
       "      <td>AGO</td>\n",
       "      <td>1.238465e+10</td>\n",
       "      <td>2</td>\n",
       "      <td>1.124436e+10</td>\n",
       "      <td>5.900537e+08</td>\n",
       "      <td>5.502364e+08</td>\n",
       "    </tr>\n",
       "    <tr>\n",
       "      <td>3</td>\n",
       "      <td>AIA</td>\n",
       "      <td>1.018501e+07</td>\n",
       "      <td>3</td>\n",
       "      <td>7.468404e+06</td>\n",
       "      <td>9.041301e+05</td>\n",
       "      <td>1.812475e+06</td>\n",
       "    </tr>\n",
       "    <tr>\n",
       "      <td>4</td>\n",
       "      <td>ALA</td>\n",
       "      <td>1.074733e+06</td>\n",
       "      <td>4</td>\n",
       "      <td>2.886590e+05</td>\n",
       "      <td>1.586590e+03</td>\n",
       "      <td>7.844878e+05</td>\n",
       "    </tr>\n",
       "  </tbody>\n",
       "</table>\n",
       "</div>"
      ],
      "text/plain": [
       "  ISO3  effluent_all  ids  effluent_open  effluent_sep  effluent_treated\n",
       "0  ABW  2.320971e+07    0   8.014450e+06  9.193381e+05      1.427593e+07\n",
       "1  AFG  5.128715e+10    1   5.050395e+10  1.979618e+08      5.852399e+08\n",
       "2  AGO  1.238465e+10    2   1.124436e+10  5.900537e+08      5.502364e+08\n",
       "3  AIA  1.018501e+07    3   7.468404e+06  9.041301e+05      1.812475e+06\n",
       "4  ALA  1.074733e+06    4   2.886590e+05  1.586590e+03      7.844878e+05"
      ]
     },
     "execution_count": 11,
     "metadata": {},
     "output_type": "execute_result"
    }
   ],
   "source": [
    "df.head()"
   ]
  },
  {
   "cell_type": "code",
   "execution_count": 12,
   "metadata": {},
   "outputs": [],
   "source": [
    "# check sums\n",
    "df['sum'] = df['effluent_open'] + df['effluent_sep'] + df['effluent_treated']\n",
    "df['pct_total'] = df['sum'] / df['effluent_all']"
   ]
  },
  {
   "cell_type": "markdown",
   "metadata": {},
   "source": [
    "#### Make Pct"
   ]
  },
  {
   "cell_type": "code",
   "execution_count": 13,
   "metadata": {},
   "outputs": [
    {
     "data": {
      "text/html": [
       "<div>\n",
       "<style scoped>\n",
       "    .dataframe tbody tr th:only-of-type {\n",
       "        vertical-align: middle;\n",
       "    }\n",
       "\n",
       "    .dataframe tbody tr th {\n",
       "        vertical-align: top;\n",
       "    }\n",
       "\n",
       "    .dataframe thead th {\n",
       "        text-align: right;\n",
       "    }\n",
       "</style>\n",
       "<table border=\"1\" class=\"dataframe\">\n",
       "  <thead>\n",
       "    <tr style=\"text-align: right;\">\n",
       "      <th></th>\n",
       "      <th>ISO3</th>\n",
       "      <th>effluent_all</th>\n",
       "      <th>ids</th>\n",
       "      <th>effluent_open</th>\n",
       "      <th>effluent_sep</th>\n",
       "      <th>effluent_treated</th>\n",
       "      <th>sum</th>\n",
       "      <th>pct_total</th>\n",
       "    </tr>\n",
       "  </thead>\n",
       "  <tbody>\n",
       "    <tr>\n",
       "      <td>0</td>\n",
       "      <td>ABW</td>\n",
       "      <td>2.320971e+07</td>\n",
       "      <td>0</td>\n",
       "      <td>8.014450e+06</td>\n",
       "      <td>9.193381e+05</td>\n",
       "      <td>1.427593e+07</td>\n",
       "      <td>2.320971e+07</td>\n",
       "      <td>1.0</td>\n",
       "    </tr>\n",
       "    <tr>\n",
       "      <td>1</td>\n",
       "      <td>AFG</td>\n",
       "      <td>5.128715e+10</td>\n",
       "      <td>1</td>\n",
       "      <td>5.050395e+10</td>\n",
       "      <td>1.979618e+08</td>\n",
       "      <td>5.852399e+08</td>\n",
       "      <td>5.128715e+10</td>\n",
       "      <td>1.0</td>\n",
       "    </tr>\n",
       "    <tr>\n",
       "      <td>2</td>\n",
       "      <td>AGO</td>\n",
       "      <td>1.238465e+10</td>\n",
       "      <td>2</td>\n",
       "      <td>1.124436e+10</td>\n",
       "      <td>5.900537e+08</td>\n",
       "      <td>5.502364e+08</td>\n",
       "      <td>1.238465e+10</td>\n",
       "      <td>1.0</td>\n",
       "    </tr>\n",
       "    <tr>\n",
       "      <td>3</td>\n",
       "      <td>AIA</td>\n",
       "      <td>1.018501e+07</td>\n",
       "      <td>3</td>\n",
       "      <td>7.468404e+06</td>\n",
       "      <td>9.041301e+05</td>\n",
       "      <td>1.812475e+06</td>\n",
       "      <td>1.018501e+07</td>\n",
       "      <td>1.0</td>\n",
       "    </tr>\n",
       "    <tr>\n",
       "      <td>4</td>\n",
       "      <td>ALA</td>\n",
       "      <td>1.074733e+06</td>\n",
       "      <td>4</td>\n",
       "      <td>2.886590e+05</td>\n",
       "      <td>1.586590e+03</td>\n",
       "      <td>7.844878e+05</td>\n",
       "      <td>1.074733e+06</td>\n",
       "      <td>1.0</td>\n",
       "    </tr>\n",
       "  </tbody>\n",
       "</table>\n",
       "</div>"
      ],
      "text/plain": [
       "  ISO3  effluent_all  ids  effluent_open  effluent_sep  effluent_treated  \\\n",
       "0  ABW  2.320971e+07    0   8.014450e+06  9.193381e+05      1.427593e+07   \n",
       "1  AFG  5.128715e+10    1   5.050395e+10  1.979618e+08      5.852399e+08   \n",
       "2  AGO  1.238465e+10    2   1.124436e+10  5.900537e+08      5.502364e+08   \n",
       "3  AIA  1.018501e+07    3   7.468404e+06  9.041301e+05      1.812475e+06   \n",
       "4  ALA  1.074733e+06    4   2.886590e+05  1.586590e+03      7.844878e+05   \n",
       "\n",
       "            sum  pct_total  \n",
       "0  2.320971e+07        1.0  \n",
       "1  5.128715e+10        1.0  \n",
       "2  1.238465e+10        1.0  \n",
       "3  1.018501e+07        1.0  \n",
       "4  1.074733e+06        1.0  "
      ]
     },
     "execution_count": 13,
     "metadata": {},
     "output_type": "execute_result"
    }
   ],
   "source": [
    "df.head()"
   ]
  },
  {
   "cell_type": "code",
   "execution_count": 14,
   "metadata": {},
   "outputs": [],
   "source": [
    "df['pct_open'] = df['effluent_open'] / df['effluent_all'] * 100\n",
    "df['pct_sep'] = df['effluent_sep'] / df['effluent_all'] * 100\n",
    "df['pct_treated'] = df['effluent_treated'] / df['effluent_all'] * 100"
   ]
  },
  {
   "cell_type": "markdown",
   "metadata": {},
   "source": [
    "## Countries"
   ]
  },
  {
   "cell_type": "code",
   "execution_count": 15,
   "metadata": {},
   "outputs": [
    {
     "name": "stderr",
     "output_type": "stream",
     "text": [
      "/home/cascade/miniconda3/envs/geo/lib/python3.6/site-packages/pandas/core/frame.py:4223: SettingWithCopyWarning: \n",
      "A value is trying to be set on a copy of a slice from a DataFrame\n",
      "\n",
      "See the caveats in the documentation: http://pandas.pydata.org/pandas-docs/stable/user_guide/indexing.html#returning-a-view-versus-a-copy\n",
      "  return super().rename(**kwargs)\n"
     ]
    }
   ],
   "source": [
    "## Add country names\n",
    "names_fn = '/home/cascade/projects/wastewater/data/interim/country_codes.csv'\n",
    "names = pd.read_csv(names_fn)\n",
    "names.shape\n",
    "\n",
    "cols = names[['iso3c', 'country.name.en']]\n",
    "cols.rename(columns = {'iso3c':'ISO3'}, inplace = True)"
   ]
  },
  {
   "cell_type": "code",
   "execution_count": 19,
   "metadata": {},
   "outputs": [],
   "source": [
    "df_out = df.merge(cols, on = 'ISO3', how = 'left')"
   ]
  },
  {
   "cell_type": "code",
   "execution_count": 17,
   "metadata": {
    "scrolled": true
   },
   "outputs": [
    {
     "data": {
      "text/html": [
       "<div>\n",
       "<style scoped>\n",
       "    .dataframe tbody tr th:only-of-type {\n",
       "        vertical-align: middle;\n",
       "    }\n",
       "\n",
       "    .dataframe tbody tr th {\n",
       "        vertical-align: top;\n",
       "    }\n",
       "\n",
       "    .dataframe thead th {\n",
       "        text-align: right;\n",
       "    }\n",
       "</style>\n",
       "<table border=\"1\" class=\"dataframe\">\n",
       "  <thead>\n",
       "    <tr style=\"text-align: right;\">\n",
       "      <th></th>\n",
       "      <th>ISO3</th>\n",
       "      <th>effluent_all</th>\n",
       "      <th>ids</th>\n",
       "      <th>effluent_open</th>\n",
       "      <th>effluent_sep</th>\n",
       "      <th>effluent_treated</th>\n",
       "      <th>sum</th>\n",
       "      <th>pct_total</th>\n",
       "      <th>pct_open</th>\n",
       "      <th>pct_sep</th>\n",
       "      <th>pct_treated</th>\n",
       "      <th>country.name.en</th>\n",
       "    </tr>\n",
       "  </thead>\n",
       "  <tbody>\n",
       "    <tr>\n",
       "      <td>0</td>\n",
       "      <td>ABW</td>\n",
       "      <td>2.320971e+07</td>\n",
       "      <td>0</td>\n",
       "      <td>8.014450e+06</td>\n",
       "      <td>9.193381e+05</td>\n",
       "      <td>1.427593e+07</td>\n",
       "      <td>2.320971e+07</td>\n",
       "      <td>1.0</td>\n",
       "      <td>34.530582</td>\n",
       "      <td>3.961006</td>\n",
       "      <td>61.508411</td>\n",
       "      <td>Aruba</td>\n",
       "    </tr>\n",
       "    <tr>\n",
       "      <td>1</td>\n",
       "      <td>AFG</td>\n",
       "      <td>5.128715e+10</td>\n",
       "      <td>1</td>\n",
       "      <td>5.050395e+10</td>\n",
       "      <td>1.979618e+08</td>\n",
       "      <td>5.852399e+08</td>\n",
       "      <td>5.128715e+10</td>\n",
       "      <td>1.0</td>\n",
       "      <td>98.472909</td>\n",
       "      <td>0.385987</td>\n",
       "      <td>1.141104</td>\n",
       "      <td>Afghanistan</td>\n",
       "    </tr>\n",
       "    <tr>\n",
       "      <td>2</td>\n",
       "      <td>AGO</td>\n",
       "      <td>1.238465e+10</td>\n",
       "      <td>2</td>\n",
       "      <td>1.124436e+10</td>\n",
       "      <td>5.900537e+08</td>\n",
       "      <td>5.502364e+08</td>\n",
       "      <td>1.238465e+10</td>\n",
       "      <td>1.0</td>\n",
       "      <td>90.792714</td>\n",
       "      <td>4.764396</td>\n",
       "      <td>4.442890</td>\n",
       "      <td>Angola</td>\n",
       "    </tr>\n",
       "    <tr>\n",
       "      <td>3</td>\n",
       "      <td>AIA</td>\n",
       "      <td>1.018501e+07</td>\n",
       "      <td>3</td>\n",
       "      <td>7.468404e+06</td>\n",
       "      <td>9.041301e+05</td>\n",
       "      <td>1.812475e+06</td>\n",
       "      <td>1.018501e+07</td>\n",
       "      <td>1.0</td>\n",
       "      <td>73.327413</td>\n",
       "      <td>8.877067</td>\n",
       "      <td>17.795520</td>\n",
       "      <td>Anguilla</td>\n",
       "    </tr>\n",
       "    <tr>\n",
       "      <td>4</td>\n",
       "      <td>ALA</td>\n",
       "      <td>1.074733e+06</td>\n",
       "      <td>4</td>\n",
       "      <td>2.886590e+05</td>\n",
       "      <td>1.586590e+03</td>\n",
       "      <td>7.844878e+05</td>\n",
       "      <td>1.074733e+06</td>\n",
       "      <td>1.0</td>\n",
       "      <td>26.858660</td>\n",
       "      <td>0.147626</td>\n",
       "      <td>72.993712</td>\n",
       "      <td>Åland Islands</td>\n",
       "    </tr>\n",
       "  </tbody>\n",
       "</table>\n",
       "</div>"
      ],
      "text/plain": [
       "  ISO3  effluent_all  ids  effluent_open  effluent_sep  effluent_treated  \\\n",
       "0  ABW  2.320971e+07    0   8.014450e+06  9.193381e+05      1.427593e+07   \n",
       "1  AFG  5.128715e+10    1   5.050395e+10  1.979618e+08      5.852399e+08   \n",
       "2  AGO  1.238465e+10    2   1.124436e+10  5.900537e+08      5.502364e+08   \n",
       "3  AIA  1.018501e+07    3   7.468404e+06  9.041301e+05      1.812475e+06   \n",
       "4  ALA  1.074733e+06    4   2.886590e+05  1.586590e+03      7.844878e+05   \n",
       "\n",
       "            sum  pct_total   pct_open   pct_sep  pct_treated country.name.en  \n",
       "0  2.320971e+07        1.0  34.530582  3.961006    61.508411           Aruba  \n",
       "1  5.128715e+10        1.0  98.472909  0.385987     1.141104     Afghanistan  \n",
       "2  1.238465e+10        1.0  90.792714  4.764396     4.442890          Angola  \n",
       "3  1.018501e+07        1.0  73.327413  8.877067    17.795520        Anguilla  \n",
       "4  1.074733e+06        1.0  26.858660  0.147626    72.993712   Åland Islands  "
      ]
     },
     "execution_count": 17,
     "metadata": {},
     "output_type": "execute_result"
    }
   ],
   "source": [
    "df_out.head()"
   ]
  },
  {
   "cell_type": "code",
   "execution_count": 18,
   "metadata": {},
   "outputs": [],
   "source": [
    "## Save out as a .csv\n",
    "fn_out = 'countries_N_Alldata.csv'\n",
    "df_out.to_csv(DATA_OUT+fn_out)"
   ]
  },
  {
   "cell_type": "code",
   "execution_count": 20,
   "metadata": {},
   "outputs": [],
   "source": [
    "## Add geometry for shape file\n",
    "cols = allWaste[['ids', 'geometry']]\n",
    "df_out_shape = df_out.merge(cols, on = 'ids', how = 'left')"
   ]
  },
  {
   "cell_type": "code",
   "execution_count": 21,
   "metadata": {
    "scrolled": true
   },
   "outputs": [
    {
     "data": {
      "text/html": [
       "<div>\n",
       "<style scoped>\n",
       "    .dataframe tbody tr th:only-of-type {\n",
       "        vertical-align: middle;\n",
       "    }\n",
       "\n",
       "    .dataframe tbody tr th {\n",
       "        vertical-align: top;\n",
       "    }\n",
       "\n",
       "    .dataframe thead th {\n",
       "        text-align: right;\n",
       "    }\n",
       "</style>\n",
       "<table border=\"1\" class=\"dataframe\">\n",
       "  <thead>\n",
       "    <tr style=\"text-align: right;\">\n",
       "      <th></th>\n",
       "      <th>ISO3</th>\n",
       "      <th>effluent_all</th>\n",
       "      <th>ids</th>\n",
       "      <th>effluent_open</th>\n",
       "      <th>effluent_sep</th>\n",
       "      <th>effluent_treated</th>\n",
       "      <th>sum</th>\n",
       "      <th>pct_total</th>\n",
       "      <th>pct_open</th>\n",
       "      <th>pct_sep</th>\n",
       "      <th>pct_treated</th>\n",
       "      <th>country.name.en</th>\n",
       "      <th>geometry</th>\n",
       "    </tr>\n",
       "  </thead>\n",
       "  <tbody>\n",
       "    <tr>\n",
       "      <td>0</td>\n",
       "      <td>ABW</td>\n",
       "      <td>2.320971e+07</td>\n",
       "      <td>0</td>\n",
       "      <td>8.014450e+06</td>\n",
       "      <td>9.193381e+05</td>\n",
       "      <td>1.427593e+07</td>\n",
       "      <td>2.320971e+07</td>\n",
       "      <td>1.0</td>\n",
       "      <td>34.530582</td>\n",
       "      <td>3.961006</td>\n",
       "      <td>61.508411</td>\n",
       "      <td>Aruba</td>\n",
       "      <td>POLYGON ((-6910816.274421509 1537164.105192429...</td>\n",
       "    </tr>\n",
       "    <tr>\n",
       "      <td>1</td>\n",
       "      <td>AFG</td>\n",
       "      <td>5.128715e+10</td>\n",
       "      <td>1</td>\n",
       "      <td>5.050395e+10</td>\n",
       "      <td>1.979618e+08</td>\n",
       "      <td>5.852399e+08</td>\n",
       "      <td>5.128715e+10</td>\n",
       "      <td>1.0</td>\n",
       "      <td>98.472909</td>\n",
       "      <td>0.385987</td>\n",
       "      <td>1.141104</td>\n",
       "      <td>Afghanistan</td>\n",
       "      <td>POLYGON ((6211413.408736277 3848509.713654268,...</td>\n",
       "    </tr>\n",
       "    <tr>\n",
       "      <td>2</td>\n",
       "      <td>AGO</td>\n",
       "      <td>1.238465e+10</td>\n",
       "      <td>2</td>\n",
       "      <td>1.124436e+10</td>\n",
       "      <td>5.900537e+08</td>\n",
       "      <td>5.502364e+08</td>\n",
       "      <td>1.238465e+10</td>\n",
       "      <td>1.0</td>\n",
       "      <td>90.792714</td>\n",
       "      <td>4.764396</td>\n",
       "      <td>4.442890</td>\n",
       "      <td>Angola</td>\n",
       "      <td>(POLYGON ((1159542.671178129 -2115445.01835647...</td>\n",
       "    </tr>\n",
       "    <tr>\n",
       "      <td>3</td>\n",
       "      <td>AIA</td>\n",
       "      <td>1.018501e+07</td>\n",
       "      <td>3</td>\n",
       "      <td>7.468404e+06</td>\n",
       "      <td>9.041301e+05</td>\n",
       "      <td>1.812475e+06</td>\n",
       "      <td>1.018501e+07</td>\n",
       "      <td>1.0</td>\n",
       "      <td>73.327413</td>\n",
       "      <td>8.877067</td>\n",
       "      <td>17.795520</td>\n",
       "      <td>Anguilla</td>\n",
       "      <td>(POLYGON ((-6134902.918835666 2230758.12862136...</td>\n",
       "    </tr>\n",
       "    <tr>\n",
       "      <td>4</td>\n",
       "      <td>ALA</td>\n",
       "      <td>1.074733e+06</td>\n",
       "      <td>4</td>\n",
       "      <td>2.886590e+05</td>\n",
       "      <td>1.586590e+03</td>\n",
       "      <td>7.844878e+05</td>\n",
       "      <td>1.074733e+06</td>\n",
       "      <td>1.0</td>\n",
       "      <td>26.858660</td>\n",
       "      <td>0.147626</td>\n",
       "      <td>72.993712</td>\n",
       "      <td>Åland Islands</td>\n",
       "      <td>(POLYGON ((1389515.950805801 6852829.269928327...</td>\n",
       "    </tr>\n",
       "  </tbody>\n",
       "</table>\n",
       "</div>"
      ],
      "text/plain": [
       "  ISO3  effluent_all  ids  effluent_open  effluent_sep  effluent_treated  \\\n",
       "0  ABW  2.320971e+07    0   8.014450e+06  9.193381e+05      1.427593e+07   \n",
       "1  AFG  5.128715e+10    1   5.050395e+10  1.979618e+08      5.852399e+08   \n",
       "2  AGO  1.238465e+10    2   1.124436e+10  5.900537e+08      5.502364e+08   \n",
       "3  AIA  1.018501e+07    3   7.468404e+06  9.041301e+05      1.812475e+06   \n",
       "4  ALA  1.074733e+06    4   2.886590e+05  1.586590e+03      7.844878e+05   \n",
       "\n",
       "            sum  pct_total   pct_open   pct_sep  pct_treated country.name.en  \\\n",
       "0  2.320971e+07        1.0  34.530582  3.961006    61.508411           Aruba   \n",
       "1  5.128715e+10        1.0  98.472909  0.385987     1.141104     Afghanistan   \n",
       "2  1.238465e+10        1.0  90.792714  4.764396     4.442890          Angola   \n",
       "3  1.018501e+07        1.0  73.327413  8.877067    17.795520        Anguilla   \n",
       "4  1.074733e+06        1.0  26.858660  0.147626    72.993712   Åland Islands   \n",
       "\n",
       "                                            geometry  \n",
       "0  POLYGON ((-6910816.274421509 1537164.105192429...  \n",
       "1  POLYGON ((6211413.408736277 3848509.713654268,...  \n",
       "2  (POLYGON ((1159542.671178129 -2115445.01835647...  \n",
       "3  (POLYGON ((-6134902.918835666 2230758.12862136...  \n",
       "4  (POLYGON ((1389515.950805801 6852829.269928327...  "
      ]
     },
     "execution_count": 21,
     "metadata": {},
     "output_type": "execute_result"
    }
   ],
   "source": [
    "df_out_shape.head()"
   ]
  },
  {
   "cell_type": "code",
   "execution_count": 22,
   "metadata": {},
   "outputs": [],
   "source": [
    "shp_out = gpd.GeoDataFrame(df_out_shape)"
   ]
  },
  {
   "cell_type": "code",
   "execution_count": 23,
   "metadata": {},
   "outputs": [],
   "source": [
    "## Save out as a .csv\n",
    "fn_out = 'countries_N_Alldata.shp'\n",
    "shp_out.to_file(DATA_OUT+fn_out)"
   ]
  },
  {
   "cell_type": "code",
   "execution_count": 24,
   "metadata": {},
   "outputs": [
    {
     "name": "stdout",
     "output_type": "stream",
     "text": [
      "done\n"
     ]
    }
   ],
   "source": [
    "print('done')"
   ]
  },
  {
   "cell_type": "markdown",
   "metadata": {},
   "source": [
    "## Watershed"
   ]
  },
  {
   "cell_type": "markdown",
   "metadata": {},
   "source": [
    "#### Divide By Watershed size"
   ]
  },
  {
   "cell_type": "code",
   "execution_count": null,
   "metadata": {},
   "outputs": [],
   "source": [
    "df.head()"
   ]
  },
  {
   "cell_type": "code",
   "execution_count": null,
   "metadata": {},
   "outputs": [],
   "source": [
    "area = allWaste[['basin_id', 'area']]\n",
    "df = df.merge(area, on = 'basin_id', how = 'left')\n",
    "df.head()"
   ]
  },
  {
   "cell_type": "code",
   "execution_count": null,
   "metadata": {},
   "outputs": [],
   "source": [
    "df.head()"
   ]
  },
  {
   "cell_type": "code",
   "execution_count": null,
   "metadata": {},
   "outputs": [],
   "source": [
    "# Divide by area (km2 I think)\n",
    "df['all_area'] = df['effluent_all'] / df['area']\n",
    "df['open_area'] = df['effluent_open'] / df['area']\n",
    "df['sep_area'] = df['effluent_sep'] / df['area']\n",
    "df['treated_area'] = df['effluent_treated'] / df['area']"
   ]
  },
  {
   "cell_type": "markdown",
   "metadata": {},
   "source": [
    "#### Add Geography"
   ]
  },
  {
   "cell_type": "code",
   "execution_count": null,
   "metadata": {},
   "outputs": [],
   "source": [
    "allWaste.head()"
   ]
  },
  {
   "cell_type": "code",
   "execution_count": null,
   "metadata": {},
   "outputs": [],
   "source": [
    "#### Add in pour point locations\n",
    "geo = allWaste[['basin_id', 'geometry']]\n",
    "pourpoints_out = df.merge(geo, on = 'basin_id', how = 'left')"
   ]
  },
  {
   "cell_type": "code",
   "execution_count": null,
   "metadata": {},
   "outputs": [],
   "source": [
    "#### save out pourpoints as a csv\n",
    "fn_out = 'pourpoints_N_Alldata.csv'\n",
    "pourpoints_out.to_csv(DATA_OUT+fn_out)"
   ]
  },
  {
   "cell_type": "code",
   "execution_count": null,
   "metadata": {},
   "outputs": [],
   "source": [
    "#### save out pourpoints as a shp file\n",
    "fn_out = 'pourpoints_N_Alldata.shp'\n",
    "pourpoints_out_shape = gpd.GeoDataFrame(pourpoints_out)\n",
    "pourpoints_out_shape.to_file(DATA_OUT+fn_out)"
   ]
  },
  {
   "cell_type": "code",
   "execution_count": null,
   "metadata": {},
   "outputs": [],
   "source": [
    "#### Add in watershed geo\n",
    "watershed = gpd.read_file(DATA_IN+'effluent_N_watersheds.shp')\n",
    "geo = watershed[['basin_id', 'geometry']]\n",
    "watersheds_out = df.merge(geo, on = 'basin_id', how = 'left')\n",
    "watersheds_out"
   ]
  },
  {
   "cell_type": "code",
   "execution_count": null,
   "metadata": {},
   "outputs": [],
   "source": [
    "#### save out pourpoints as a shpe file\n",
    "fn_out = 'watersheds_N_Alldata.shp'\n",
    "watersheds_out_shape = gpd.GeoDataFrame(watersheds_out)\n",
    "watersheds_out_shape.to_file(DATA_OUT+fn_out)"
   ]
  },
  {
   "cell_type": "code",
   "execution_count": null,
   "metadata": {},
   "outputs": [],
   "source": [
    "watersheds_out_shape.head(5)"
   ]
  }
 ],
 "metadata": {
  "kernelspec": {
   "display_name": "geo",
   "language": "python",
   "name": "geo"
  },
  "language_info": {
   "codemirror_mode": {
    "name": "ipython",
    "version": 3
   },
   "file_extension": ".py",
   "mimetype": "text/x-python",
   "name": "python",
   "nbconvert_exporter": "python",
   "pygments_lexer": "ipython3",
   "version": "3.6.7"
  }
 },
 "nbformat": 4,
 "nbformat_minor": 2
}
