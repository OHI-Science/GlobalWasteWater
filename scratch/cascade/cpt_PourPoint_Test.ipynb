{
 "cells": [
  {
   "cell_type": "markdown",
   "metadata": {},
   "source": [
    "This code was taken from Jared's to apply zonal stats and attach to pour points. Let's see if we can get it to work for me."
   ]
  },
  {
   "cell_type": "code",
   "execution_count": 3,
   "metadata": {},
   "outputs": [],
   "source": [
    "#!/usr/bin/python3\n",
    "from rasterstats import zonal_stats, gen_zonal_stats\n",
    "import numpy as np\n",
    "import pandas as pd\n",
    "import geopandas as gpd\n",
    "import rasterio\n",
    "import os\n",
    "\n",
    "### File Paths on CPT Home\n",
    "# Basins have already been reprojected to  59004\n",
    "data_dir = \"/Users/cascade/Github/wastewater_ohi/data/interim/\"\n",
    "data_out =  \"/Users/cascade/Github/wastewater_ohi/data/processed/FIO_effluent_output/\"\n",
    "basins_dir = os.path.join(data_dir, \"basins_crs/\")\n",
    "shps = [os.path.join(basins_dir, fn) for fn in os.listdir(basins_dir) if fn.endswith(\"59004.shp\")]\n",
    "effluent_fn = os.path.join(data_dir, \"effluent_FIO.tif\")\n",
    "feature_list = []\n",
    "\n",
    "for shp_fn in shps:\n",
    "    watersheds = gpd.read_file(shp_fn).to_crs(epsg=4326)\n",
    "    zs_feats = zonal_stats(watersheds, effluent_fn, stats=\"sum count\", geojson_out=True)\n",
    "    feature_list.extend(zs_feats)\n",
    "    \n",
    "zgdf = gpd.GeoDataFrame.from_features(feature_list, crs=watersheds.crs)\n",
    "zgdf = zgdf.rename(columns={'sum': 'effluent'})\n",
    "zgdf.effluent = zgdf.effluent.fillna(0)\n",
    "zgdf.to_file('/Users/cascade/Desktop/test')"
   ]
  },
  {
   "cell_type": "code",
   "execution_count": null,
   "metadata": {},
   "outputs": [],
   "source": [
    "basins_dir"
   ]
  }
 ],
 "metadata": {
  "kernelspec": {
   "display_name": "Python 3",
   "language": "python",
   "name": "python3"
  },
  "language_info": {
   "codemirror_mode": {
    "name": "ipython",
    "version": 3
   },
   "file_extension": ".py",
   "mimetype": "text/x-python",
   "name": "python",
   "nbconvert_exporter": "python",
   "pygments_lexer": "ipython3",
   "version": "3.7.3"
  }
 },
 "nbformat": 4,
 "nbformat_minor": 2
}
