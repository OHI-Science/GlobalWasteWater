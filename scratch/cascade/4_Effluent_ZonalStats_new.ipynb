{
 "cells": [
  {
   "cell_type": "code",
   "execution_count": 1,
   "metadata": {},
   "outputs": [],
   "source": [
    "##############################################################################################################\n",
    "####\n",
    "####   Zonal Stats for Effluents\n",
    "####   By Cascade Tuholske June 2020\n",
    "####\n",
    "##############################################################################################################"
   ]
  },
  {
   "cell_type": "code",
   "execution_count": 2,
   "metadata": {},
   "outputs": [],
   "source": [
    "#### Dependencies \n",
    "##############################################################################################################\n",
    "from rasterstats import zonal_stats, gen_zonal_stats\n",
    "import numpy as np\n",
    "import pandas as pd\n",
    "import geopandas as gpd\n",
    "import rasterio\n",
    "import time\n",
    "import multiprocessing as mp \n",
    "from multiprocessing import Pool\n",
    "from glob import glob"
   ]
  },
  {
   "cell_type": "code",
   "execution_count": 3,
   "metadata": {},
   "outputs": [],
   "source": [
    "# Files and File Paths\n",
    "##############################################################################################################\n",
    "DATA_IN = '../data/'\n",
    "\n",
    "# effluent rsts\n",
    "EFFLUENT_RSTS = glob(DATA_IN+'interim/*zero.tif')"
   ]
  },
  {
   "cell_type": "code",
   "execution_count": 4,
   "metadata": {},
   "outputs": [],
   "source": [
    "# Functions\n",
    "##############################################################################################################\n",
    "def open_data():\n",
    "    \"\"\" function opens data and feeds the datasets to functions that run the zonal stats.\n",
    "    \"\"\"\n",
    "    \n",
    "    # File paths\n",
    "    DATA_IN = '../data/'\n",
    "\n",
    "    # Open countries \n",
    "    COUNTRIES_FN = DATA_IN+'interim/world_vector.shp' \n",
    "    COUNTRIES = gpd.read_file(COUNTRIES_FN)\n",
    "    \n",
    "    # Drop antactrica because it falls just outside the rasters\n",
    "    COUNTRIES = COUNTRIES[COUNTRIES['ISO3'] != 'ATA']\n",
    "\n",
    "    # coastal watersheds\n",
    "    WATERSHEDS_FN = DATA_IN+'interim/watersheds_coastal.shp' \n",
    "    WATERSHEDS = gpd.read_file(WATERSHEDS_FN)\n",
    "    \n",
    "    # Check crs\n",
    "    print('watershed crs', WATERSHEDS.crs)\n",
    "    print('country crs, ', COUNTRIES.crs)\n",
    "    WATERSHEDS.crs = COUNTRIES.crs\n",
    "\n",
    "    # Check crs\n",
    "    print('watershed crs', WATERSHEDS.crs)\n",
    "    print('country crs, ', COUNTRIES.crs, '\\n')\n",
    "    \n",
    "    return COUNTRIES, WATERSHEDS"
   ]
  },
  {
   "cell_type": "code",
   "execution_count": 5,
   "metadata": {},
   "outputs": [],
   "source": [
    "def zonal(rst_in, polys_in, out, do_stats): \n",
    "    \"\"\"Function will run zonal stats on \n",
    "    \n",
    "    Args:\n",
    "        rst_in = file name/path of raster to run zonal stats on\n",
    "        polys = either list of shape files (watersheds) or single shape file (countries)\n",
    "        out = file and path for shp and csv file\n",
    "        do_stats = stats to use, see rasterstats package for documention, (use sume)\n",
    "\n",
    "    \"\"\"\n",
    "    \n",
    "    # Run Zonal Stats\n",
    "    zs_feats = zonal_stats(polys_in, rst_in, stats= do_stats, geojson_out=True)\n",
    "        \n",
    "    # Turn into geo data frame and rename column\n",
    "    zgdf = gpd.GeoDataFrame.from_features(zs_feats, crs=polys_in.crs)\n",
    "    zgdf = zgdf.rename(columns={'sum': 'effluent'})\n",
    "    zgdf.effluent = zgdf.effluent.fillna(0)\n",
    "    \n",
    "    # Save out shape and CSV\n",
    "    zgdf.to_file(out+'.shp')\n",
    "    zgdf.to_csv(out+'.csv')"
   ]
  },
  {
   "cell_type": "code",
   "execution_count": 6,
   "metadata": {},
   "outputs": [],
   "source": [
    "def run_zonal(rst):\n",
    "    \n",
    "    \"\"\"function runs zonal stats on watersheds and country polygons, writen\n",
    "    this way to run in parallel \n",
    "    Args:\n",
    "        rst = raster to calc zonal stats on\n",
    "    \n",
    "    \"\"\"\n",
    "    # see which process is running\n",
    "    print(mp.current_process())\n",
    "    \n",
    "    # open the datasets \n",
    "    COUNTRIES, WATERSHEDS = open_data()\n",
    "    \n",
    "    # Get raster name\n",
    "    rst_data = rst.split('interim/')[1].split('_zero')[0]\n",
    "    print('Started', rst_data)\n",
    "    \n",
    "    #Zonal on watersheds\n",
    "    geog = '_watersheds' # geography for naming files out \n",
    "    polys = WATERSHEDS.copy()\n",
    "    fn_out = DATA_IN+'interim/'+rst_data+geog\n",
    "    zonal(rst_in = rst, polys_in = polys, out = fn_out, do_stats = 'sum')\n",
    "    print('Done', geog, fn_out)\n",
    "    \n",
    "    # Zonal on countries\n",
    "    geog = '_countries' # geography for naming files out \n",
    "    polys = COUNTRIES.copy()\n",
    "    fn_out = DATA_IN+'interim/'+rst_data+geog\n",
    "    zonal(rst_in = rst, polys_in = polys, out = fn_out, do_stats = 'sum')\n",
    "    print('Done', geog, fn_out, '\\n')\n",
    "    "
   ]
  },
  {
   "cell_type": "code",
   "execution_count": 7,
   "metadata": {},
   "outputs": [],
   "source": [
    "def parallel_loop(function, job_list, cpu_num):\n",
    "    \"\"\"Run the routine in parallel\n",
    "    Args: \n",
    "        function = function to apply in parallel\n",
    "        job_list = list of dir or fn to loop through \n",
    "        cpu_num = numper of cpus to fire  \n",
    "    \"\"\" \n",
    "    \n",
    "    start = time.time()\n",
    "    pool = Pool(processes = cpu_num)\n",
    "    pool.map(function, job_list)\n",
    "    pool.close()\n",
    "\n",
    "    end = time.time()\n",
    "    print(end-start)"
   ]
  },
  {
   "cell_type": "code",
   "execution_count": 8,
   "metadata": {},
   "outputs": [
    {
     "name": "stdout",
     "output_type": "stream",
     "text": [
      "<ForkProcess(ForkPoolWorker-3, started daemon)>\n",
      "<ForkProcess(ForkPoolWorker-1, started daemon)>\n",
      "<ForkProcess(ForkPoolWorker-2, started daemon)>\n",
      "<ForkProcess(ForkPoolWorker-4, started daemon)>\n",
      "watershed crs {}\n",
      "country crs,  {'proj': 'moll', 'lon_0': 0, 'x_0': 0, 'y_0': 0, 'ellps': 'WGS84', 'units': 'm', 'no_defs': True}\n",
      "watershed crs {'proj': 'moll', 'lon_0': 0, 'x_0': 0, 'y_0': 0, 'ellps': 'WGS84', 'units': 'm', 'no_defs': True}\n",
      "country crs,  {'proj': 'moll', 'lon_0': 0, 'x_0': 0, 'y_0': 0, 'ellps': 'WGS84', 'units': 'm', 'no_defs': True} \n",
      "\n",
      "watershed crs {}\n",
      "country crs,  {'proj': 'moll', 'lon_0': 0, 'x_0': 0, 'y_0': 0, 'ellps': 'WGS84', 'units': 'm', 'no_defs': True}\n",
      "watershed crs {'proj': 'moll', 'lon_0': 0, 'x_0': 0, 'y_0': 0, 'ellps': 'WGS84', 'units': 'm', 'no_defs': True}\n",
      "country crs,  {'proj': 'moll', 'lon_0': 0, 'x_0': 0, 'y_0': 0, 'ellps': 'WGS84', 'units': 'm', 'no_defs': True} \n",
      "\n",
      "watershed crs {}\n",
      "country crs,  {'proj': 'moll', 'lon_0': 0, 'x_0': 0, 'y_0': 0, 'ellps': 'WGS84', 'units': 'm', 'no_defs': True}\n",
      "watershed crs {'proj': 'moll', 'lon_0': 0, 'x_0': 0, 'y_0': 0, 'ellps': 'WGS84', 'units': 'm', 'no_defs': True}\n",
      "country crs,  {'proj': 'moll', 'lon_0': 0, 'x_0': 0, 'y_0': 0, 'ellps': 'WGS84', 'units': 'm', 'no_defs': True} \n",
      "\n",
      "watershed crs {}\n",
      "country crs,  {'proj': 'moll', 'lon_0': 0, 'x_0': 0, 'y_0': 0, 'ellps': 'WGS84', 'units': 'm', 'no_defs': True}\n",
      "watershed crs {'proj': 'moll', 'lon_0': 0, 'x_0': 0, 'y_0': 0, 'ellps': 'WGS84', 'units': 'm', 'no_defs': True}\n",
      "country crs,  {'proj': 'moll', 'lon_0': 0, 'x_0': 0, 'y_0': 0, 'ellps': 'WGS84', 'units': 'm', 'no_defs': True} \n",
      "\n",
      "Done _countries ../data/interim/effluent_N_treated_countries \n",
      "\n",
      "Done _countries ../data/interim/effluent_N_countries \n",
      "\n",
      "Done _countries ../data/interim/effluent_N_septic_countries \n",
      "\n",
      "Done _countries ../data/interim/effluent_N_open_countries \n",
      "\n",
      "1484.06729054451\n"
     ]
    }
   ],
   "source": [
    "# Run Everything\n",
    "##############################################################################################################\n",
    "parallel_loop(run_zonal, EFFLUENT_RSTS, 4)"
   ]
  },
  {
   "cell_type": "code",
   "execution_count": null,
   "metadata": {},
   "outputs": [],
   "source": [
    "# Test\n",
    "##############################################################################################################\n",
    "# rst = EFFLUENT_RSTS[0]"
   ]
  },
  {
   "cell_type": "code",
   "execution_count": null,
   "metadata": {},
   "outputs": [],
   "source": [
    "# COUNTRIES, WATERSHEDS = open_data()"
   ]
  },
  {
   "cell_type": "code",
   "execution_count": null,
   "metadata": {},
   "outputs": [],
   "source": [
    "# test_polys = COUNTRIES"
   ]
  },
  {
   "cell_type": "code",
   "execution_count": null,
   "metadata": {},
   "outputs": [],
   "source": [
    "# test_polys = test_polys[test_polys['ISO3'] != 'ATA']"
   ]
  },
  {
   "cell_type": "code",
   "execution_count": null,
   "metadata": {},
   "outputs": [],
   "source": [
    "# zs_feats = zonal_stats(test_polys, rst, stats= 'sum', geojson_out=True)\n",
    "\n",
    "# # Turn into geo data frame and rename column\n",
    "# zgdf = gpd.GeoDataFrame.from_features(zs_feats, crs=test_polys.crs)\n",
    "# zgdf = zgdf.rename(columns={'sum': 'effluent'})\n",
    "# zgdf.effluent = zgdf.effluent.fillna(0)"
   ]
  },
  {
   "cell_type": "code",
   "execution_count": null,
   "metadata": {},
   "outputs": [],
   "source": [
    "# zgdf"
   ]
  }
 ],
 "metadata": {
  "kernelspec": {
   "display_name": "geo",
   "language": "python",
   "name": "geo"
  },
  "language_info": {
   "codemirror_mode": {
    "name": "ipython",
    "version": 3
   },
   "file_extension": ".py",
   "mimetype": "text/x-python",
   "name": "python",
   "nbconvert_exporter": "python",
   "pygments_lexer": "ipython3",
   "version": "3.6.7"
  }
 },
 "nbformat": 4,
 "nbformat_minor": 2
}
