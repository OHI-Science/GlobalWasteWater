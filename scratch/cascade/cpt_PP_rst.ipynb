{
 "cells": [
  {
   "cell_type": "markdown",
   "metadata": {},
   "source": [
    "# PP RST\n",
    "By Cascade Tuholske 2020.05.26\n",
    "\n",
    "Goal is to burn pourpoints into a raster and then mask out the inland pourpoints and then match pourpoint ids\n",
    "with the watershed basins. \n",
    "\n",
    "**UPDATE**<br>\n",
    "Follow these steps\n",
    "https://www.earthdatascience.org/courses/use-data-open-source-python/spatial-data-applications/lidar-remote-sensing-uncertainty/extract-data-from-raster/\n",
    "\n",
    "**UPDATE**<br>\n",
    "New plan - turn watersheds into a raster first. Then use that raster to mask pourpoints\n",
    "\n",
    "**UPDATE**<br>\n",
    "Turn disolved gadm36_ISO3_dissolve.shp into a raster to mask out major water bodies and then go from there to reduce inland pour points. If we use the watersheds, then we have pourpoints that go into the great lakes.\n",
    "\n",
    "**UPDATE**<br>\n",
    "Taking the watersheds and the lake hydro sheds to make our mask, then will erode it.\n",
    "\n",
    "**UPDATE**<br>\n",
    "Adding a new raster that is custom made to mask out the few remaining inland pixels"
   ]
  },
  {
   "cell_type": "code",
   "execution_count": null,
   "metadata": {},
   "outputs": [],
   "source": [
    "#### Dependencies \n",
    "import geopandas as gpd\n",
    "import numpy as np\n",
    "import pandas as pd\n",
    "import rasterio \n",
    "import matplotlib.pyplot as plt\n",
    "from shapely.geometry import Point\n",
    "from multiprocessing import Pool, Queue, Process\n",
    "import time \n",
    "import os\n",
    "import multiprocessing as mp\n",
    "from rasterio import features\n",
    "from skimage.morphology import erosion\n",
    "from skimage.morphology import dilation\n",
    "from rasterstats import zonal_stats, gen_zonal_stats\n",
    "from glob import glob"
   ]
  },
  {
   "cell_type": "code",
   "execution_count": null,
   "metadata": {},
   "outputs": [],
   "source": [
    "#### Name out put\n",
    "DATA_IN = '/home/cascade/projects/wastewater/data/'\n",
    "FN_OUT = DATA_IN+'interim/PP_rst.tif'\n",
    "\n",
    "PP_FN = 'raw/pour_points/global_plume_2007_2010.shp'\n"
   ]
  },
  {
   "cell_type": "code",
   "execution_count": null,
   "metadata": {},
   "outputs": [],
   "source": [
    "#### load files\n",
    "PP = gpd.read_file(DATA_IN+PP_FN)\n"
   ]
  },
  {
   "cell_type": "code",
   "execution_count": null,
   "metadata": {
    "scrolled": true
   },
   "outputs": [],
   "source": [
    "### reproject PP ... have to load twice. Do not know why\n",
    "# PP = PP.to_crs({'init': 'epsg:4326'}) # switch crs\n",
    "# PP.drop(['SUM_FERTC','SUM_PESTC', 'SUM_IMPV'], axis= 1, inplace = True)\n",
    "# PP.head()"
   ]
  },
  {
   "cell_type": "markdown",
   "metadata": {},
   "source": [
    "# Watershed Raster"
   ]
  },
  {
   "cell_type": "code",
   "execution_count": null,
   "metadata": {},
   "outputs": [],
   "source": [
    "# Open watershed basins polygons and stack em\n",
    "\n",
    "basins_dir = glob(DATA_IN+'interim/basins_crs/*59004.shp')\n",
    "\n",
    "columns= (['ID',\n",
    " 'GRIDCODE',\n",
    " 'inspect',\n",
    " 'area',\n",
    " 'PNTPOLYCNT',\n",
    " 'basin_id',\n",
    " 'MWa_in_km2',\n",
    " 'geometry'])\n",
    "\n",
    "polys = pd.DataFrame(columns = columns)\n",
    "\n",
    "for shp_fn in basins_dir:\n",
    "    basins = pd.DataFrame(gpd.read_file(shp_fn))\n",
    "    polys = polys.append(basins, sort = False)"
   ]
  },
  {
   "cell_type": "code",
   "execution_count": null,
   "metadata": {},
   "outputs": [],
   "source": [
    "polys.loc[:,'true'] = 1 # true column is 1 meaning there is an inland watershed there"
   ]
  },
  {
   "cell_type": "code",
   "execution_count": null,
   "metadata": {},
   "outputs": [],
   "source": [
    "# Open Effluent Raster for meta data\n",
    "data = 'N_treated' # name of data: N, open, septic, treated \n",
    "data_type = 'N' # FIO or N in directory name\n",
    "fn_in = \"effluent_\"+data\n",
    "data_dir = \"/home/cascade/projects/wastewater/data/interim/\"\n",
    "effluent_fn = os.path.join(data_dir, fn_in+'.tif')\n",
    "rst = rasterio.open(effluent_fn)\n"
   ]
  },
  {
   "cell_type": "code",
   "execution_count": null,
   "metadata": {},
   "outputs": [],
   "source": [
    "# Update Meta Data\n",
    "meta = rst.meta\n",
    "meta['dtype'] = \"uint8\"\n",
    "meta['nodata'] = 99 # NA as 99"
   ]
  },
  {
   "cell_type": "code",
   "execution_count": null,
   "metadata": {},
   "outputs": [],
   "source": [
    "out_arr = rst.read(1) # get an array to burn shapes\n",
    "out_arr.fill(0) # revalue rst to an Nan Value before burning in polygons\n",
    "out_arr = out_arr.astype('uint8') # change dtype for file size\n",
    "fn_out = DATA_IN+'interim/watersheds_mask.tif'\n",
    "\n",
    "# extract geom and values to burn\n",
    "shapes = ((geom,value) for geom, value in zip(polys['geometry'], polys['true']))\n",
    "\n",
    "# burn shapes intp an array\n",
    "burned = features.rasterize(shapes=shapes, fill=0, out=out_arr, transform=rst.transform, all_touched=True)\n",
    "\n",
    "# write our raster to disk\n",
    "with rasterio.open(fn_out, 'w', **meta) as out:\n",
    "    out.write_band(1, burned)\n",
    "\n",
    "print(fn_out + \"  saved!\")"
   ]
  },
  {
   "cell_type": "code",
   "execution_count": null,
   "metadata": {},
   "outputs": [],
   "source": [
    "def burn_rst(rst_in, polys, fn_out):\n",
    "    \"\"\" Function burns polygons into a bianary raster\n",
    "    \"\"\"\n",
    "    \n",
    "    # Get array as template\n",
    "    rst = rasterio.open(rst_in)\n",
    "    out_arr = rst.read(1) # get an array to burn shapes\n",
    "    out_arr.fill(0) # revalue rst to an Nan Value before burning in polygons\n",
    "    out_arr = out_arr.astype('uint8') # change dtype for file size\n",
    "    \n",
    "    # Update Meta Data\n",
    "    meta = rst.meta\n",
    "    meta['dtype'] = \"uint8\"\n",
    "    meta['nodata'] = 99 # NA as 99\n",
    "    \n",
    "    # extract geom and values to burn\n",
    "    shapes = ((geom,value) for geom, value in zip(polys['geometry'], polys['true']))\n",
    "\n",
    "    # burn shapes intp an array\n",
    "    burned = features.rasterize(shapes=shapes, fill=0, out=out_arr, transform=rst.transform, all_touched=True)\n",
    "\n",
    "    # write our raster to disk\n",
    "    with rasterio.open(fn_out, 'w', **meta) as out:\n",
    "        out.write_band(1, burned)\n",
    "\n",
    "    print(fn_out + \"  saved!\")\n",
    "    "
   ]
  },
  {
   "cell_type": "markdown",
   "metadata": {},
   "source": [
    "# Hydro Lake Raster"
   ]
  },
  {
   "cell_type": "code",
   "execution_count": null,
   "metadata": {},
   "outputs": [],
   "source": [
    "lakes_fn = DATA_IN+'raw/HydroLAKES_polys_v10_shp/HydroLAKES_polys_v10.shp'\n",
    "lakes = gpd.read_file(lakes_fn)"
   ]
  },
  {
   "cell_type": "code",
   "execution_count": null,
   "metadata": {},
   "outputs": [],
   "source": [
    "# try to get to espg:59004\n",
    "# crs = {'proj': 'moll', 'lon_0' :0, 'x_0': 0, 'y_0' :0, 'datum': 'WGS84', 'units': 'm', 'no_defs' : True}\n",
    "crs = {'proj': 'moll', 'lon_0' :0, 'x_0': 0, 'y_0' :0, 'datum': 'WGS84', 'units': 'm', 'no_defs' : True}\n",
    "print(lakes.crs)\n",
    "lakes = lakes.to_crs(crs) # switch crs\n",
    "print(lakes.crs)\n"
   ]
  },
  {
   "cell_type": "code",
   "execution_count": null,
   "metadata": {},
   "outputs": [],
   "source": [
    "# Geodataframe\n",
    "polys = gpd.GeoDataFrame(lakes[['geometry']])"
   ]
  },
  {
   "cell_type": "code",
   "execution_count": null,
   "metadata": {},
   "outputs": [],
   "source": [
    "polys.loc[:,'true'] = 1 # true column is 1 meaning there is an inland watershed there"
   ]
  },
  {
   "cell_type": "code",
   "execution_count": null,
   "metadata": {},
   "outputs": [],
   "source": [
    "# Open Effluent Raster for meta data\n",
    "data = 'N_treated' # name of data: N, open, septic, treated \n",
    "data_type = 'N' # FIO or N in directory name\n",
    "fn_in = \"effluent_\"+data\n",
    "data_dir = \"/home/cascade/projects/wastewater/data/interim/\"\n",
    "effluent_fn = os.path.join(data_dir, fn_in+'.tif')\n",
    "rst = rasterio.open(effluent_fn)\n"
   ]
  },
  {
   "cell_type": "code",
   "execution_count": null,
   "metadata": {},
   "outputs": [],
   "source": [
    "# Update Meta Data\n",
    "meta = rst.meta\n",
    "meta['dtype'] = \"uint8\"\n",
    "meta['nodata'] = 99 # NA as 99"
   ]
  },
  {
   "cell_type": "code",
   "execution_count": null,
   "metadata": {},
   "outputs": [],
   "source": [
    "meta"
   ]
  },
  {
   "cell_type": "code",
   "execution_count": null,
   "metadata": {},
   "outputs": [],
   "source": [
    "out_arr = rst.read(1) # get an array to burn shapes\n",
    "out_arr.fill(0) # revalue rst to an Nan Value before burning in polygons\n",
    "out_arr = out_arr.astype('uint8') # change dtype for file size\n",
    "fn_out = DATA_IN+'interim/lakes_mask.tif'\n",
    "\n",
    "# extract geom and values to burn\n",
    "shapes = ((geom,value) for geom, value in zip(polys['geometry'], polys['true']))\n",
    "\n",
    "# burn shapes intp an array\n",
    "burned = features.rasterize(shapes=shapes, fill=0, out=out_arr, transform=rst.transform, all_touched=True)\n",
    "\n",
    "# write our raster to disk\n",
    "with rasterio.open(fn_out, 'w', **meta) as out:\n",
    "    out.write_band(1, burned)\n",
    "\n",
    "print(fn_out + \"  saved!\")"
   ]
  },
  {
   "cell_type": "markdown",
   "metadata": {},
   "source": [
    "# Custom Polys Raster"
   ]
  },
  {
   "cell_type": "code",
   "execution_count": null,
   "metadata": {},
   "outputs": [],
   "source": [
    "# Open watershed basins polygons and stack em\n",
    "\n",
    "polys_fn = DATA_IN+'interim/inland_water_custom_polys.shp'\n",
    "polys = gpd.read_file(polys_fn)"
   ]
  },
  {
   "cell_type": "code",
   "execution_count": null,
   "metadata": {},
   "outputs": [],
   "source": [
    "polys.loc[:,'true'] = 1 # true column is 1 meaning there is an inland watershed there"
   ]
  },
  {
   "cell_type": "code",
   "execution_count": null,
   "metadata": {},
   "outputs": [],
   "source": [
    "# Open Effluent Raster for meta data\n",
    "data = 'N_treated' # name of data: N, open, septic, treated \n",
    "data_type = 'N' # FIO or N in directory name\n",
    "fn_in = \"effluent_\"+data\n",
    "data_dir = \"/home/cascade/projects/wastewater/data/interim/\"\n",
    "effluent_fn = os.path.join(data_dir, fn_in+'.tif')\n",
    "rst = rasterio.open(effluent_fn)\n"
   ]
  },
  {
   "cell_type": "code",
   "execution_count": null,
   "metadata": {},
   "outputs": [],
   "source": [
    "# Update Meta Data\n",
    "meta = rst.meta\n",
    "meta['dtype'] = \"uint8\"\n",
    "meta['nodata'] = 99 # NA as 99"
   ]
  },
  {
   "cell_type": "code",
   "execution_count": null,
   "metadata": {},
   "outputs": [],
   "source": [
    "out_arr = rst.read(1) # get an array to burn shapes\n",
    "out_arr.fill(0) # revalue rst to an Nan Value before burning in polygons\n",
    "out_arr = out_arr.astype('uint8') # change dtype for file size\n",
    "fn_out = DATA_IN+'interim/custpolys_mask.tif'\n",
    "\n",
    "# extract geom and values to burn\n",
    "shapes = ((geom,value) for geom, value in zip(polys['geometry'], polys['true']))\n",
    "\n",
    "# burn shapes intp an array\n",
    "burned = features.rasterize(shapes=shapes, fill=0, out=out_arr, transform=rst.transform, all_touched=True)\n",
    "\n",
    "# write our raster to disk\n",
    "with rasterio.open(fn_out, 'w', **meta) as out:\n",
    "    out.write_band(1, burned)\n",
    "\n",
    "print(fn_out + \"  saved!\")"
   ]
  },
  {
   "cell_type": "markdown",
   "metadata": {},
   "source": [
    "# Merge Rivers and Lakes and Cust Polys\n",
    "There are some slight holes when you load the polygons. Will try to see what the new raster looks like and then maybe use skimage to fix the holes?"
   ]
  },
  {
   "cell_type": "code",
   "execution_count": null,
   "metadata": {},
   "outputs": [],
   "source": [
    "# Open rasters\n",
    "lake_rst_fn = DATA_IN+'interim/lakes_mask.tif'\n",
    "river_rst_fn = DATA_IN+'interim/watersheds_mask.tif'\n",
    "polys_rst_fn = DATA_IN+'interim/custpolys_mask.tif'\n",
    "\n",
    "lake_rst = rasterio.open(lake_rst_fn)\n",
    "river_rst = rasterio.open(river_rst_fn)\n",
    "poly_rst = rasterio.open(polys_rst_fn)"
   ]
  },
  {
   "cell_type": "code",
   "execution_count": null,
   "metadata": {},
   "outputs": [],
   "source": [
    "# get bands\n",
    "lake_arr = lake_rst.read(1)\n",
    "river_arr = river_rst.read(1)\n",
    "polys_arr = poly_rst.read(1)"
   ]
  },
  {
   "cell_type": "code",
   "execution_count": null,
   "metadata": {},
   "outputs": [],
   "source": [
    "# stack them\n",
    "water_arr = lake_arr + river_arr + polys_arr "
   ]
  },
  {
   "cell_type": "code",
   "execution_count": null,
   "metadata": {},
   "outputs": [],
   "source": [
    "# plot it\n",
    "plt.imshow(water_arr)"
   ]
  },
  {
   "cell_type": "code",
   "execution_count": null,
   "metadata": {
    "scrolled": true
   },
   "outputs": [],
   "source": [
    "# See values\n",
    "print(np.unique(water_arr))"
   ]
  },
  {
   "cell_type": "code",
   "execution_count": null,
   "metadata": {},
   "outputs": [],
   "source": [
    "# revalue to bianary\n",
    "water_arr[water_arr > 0] = 1"
   ]
  },
  {
   "cell_type": "code",
   "execution_count": null,
   "metadata": {},
   "outputs": [],
   "source": [
    "# Open Effluent Raster for meta data\n",
    "data = 'N_treated' # name of data: N, open, septic, treated \n",
    "data_type = 'N' # FIO or N in directory name\n",
    "fn_in = \"effluent_\"+data\n",
    "data_dir = \"/home/cascade/projects/wastewater/data/interim/\"\n",
    "effluent_fn = os.path.join(data_dir, fn_in+'.tif')\n",
    "rst = rasterio.open(effluent_fn)\n"
   ]
  },
  {
   "cell_type": "code",
   "execution_count": null,
   "metadata": {},
   "outputs": [],
   "source": [
    "# Update Meta Data\n",
    "meta = rst.meta\n",
    "meta['dtype'] = \"uint8\"\n",
    "meta['nodata'] = 99 # NA as 99"
   ]
  },
  {
   "cell_type": "code",
   "execution_count": null,
   "metadata": {},
   "outputs": [],
   "source": [
    "# Write it out to check\n",
    "\n",
    "file_out = 'interim/water_mask.tif'\n",
    "with rasterio.open(DATA_IN+file_out, 'w', **meta) as dst:\n",
    "    dst.write_band(1, water_arr)"
   ]
  },
  {
   "cell_type": "markdown",
   "metadata": {},
   "source": [
    "# Erode Coastline"
   ]
  },
  {
   "cell_type": "code",
   "execution_count": null,
   "metadata": {},
   "outputs": [],
   "source": [
    "fn_out = DATA_IN+'interim/water_mask.tif'\n",
    "rst = rasterio.open(fn_out)"
   ]
  },
  {
   "cell_type": "code",
   "execution_count": null,
   "metadata": {},
   "outputs": [],
   "source": [
    "mask = rst.read(1) # Load band 1 "
   ]
  },
  {
   "cell_type": "code",
   "execution_count": null,
   "metadata": {},
   "outputs": [],
   "source": [
    "# erode the coastline inward 10-km (tried with loop, did not work)\n",
    "\n",
    "erode = erosion(mask) # erode land in-ward by 1-km\n",
    "erode = erosion(erode) # erode land in-ward by 1-km\n",
    "erode = erosion(erode) # erode land in-ward by 1-km\n",
    "erode = erosion(erode) # erode land in-ward by 1-km\n",
    "erode = erosion(erode) # erode land in-ward by 1-km\n",
    "erode = erosion(erode) # erode land in-ward by 1-km\n",
    "erode = erosion(erode) # erode land in-ward by 1-km\n",
    "erode = erosion(erode) # erode land in-ward by 1-km\n",
    "erode = erosion(erode) # erode land in-ward by 1-km\n",
    "erode = erosion(erode) # erode land in-ward by 1-km"
   ]
  },
  {
   "cell_type": "code",
   "execution_count": null,
   "metadata": {},
   "outputs": [],
   "source": [
    "# Write it out to check\n",
    "\n",
    "meta = rst.meta.copy() # copy meta data from rst\n",
    "file_out = 'interim/ocean_masks/water_mask-5km.tif'\n",
    "with rasterio.open(DATA_IN+file_out, 'w', **meta) as dst:\n",
    "    dst.write_band(1, erode)"
   ]
  },
  {
   "cell_type": "markdown",
   "metadata": {},
   "source": [
    "# Raster Stats to Find Inland PourPoints\n",
    "This should assign pour points either 0 (coastal - within 5-km of ocean) or 1 (land - >5km inland)"
   ]
  },
  {
   "cell_type": "code",
   "execution_count": null,
   "metadata": {},
   "outputs": [],
   "source": [
    "#Run Zonal Stats\n",
    "fn_out = DATA_IN+'interim/water_mask.tif'\n",
    "oceanmask_fn = DATA_IN+file_out # load 5-km eroded file\n",
    "\n",
    "feature_list = []\n",
    "\n",
    "zs_feats = zonal_stats(PP, oceanmask_fn, stats=\"max\", geojson_out=True, nodata = -999)\n",
    "feature_list.extend(zs_feats)\n",
    "    \n",
    "zgdf = gpd.GeoDataFrame.from_features(feature_list, crs=PP.crs)\n",
    "zgdf = zgdf.rename(columns={'max': 'land-ocean'}) # land = 1, ocean = 0"
   ]
  },
  {
   "cell_type": "code",
   "execution_count": null,
   "metadata": {},
   "outputs": [],
   "source": [
    "len(zgdf)"
   ]
  },
  {
   "cell_type": "code",
   "execution_count": null,
   "metadata": {},
   "outputs": [],
   "source": [
    "zgdf[zgdf['land-ocean'] == 1]"
   ]
  },
  {
   "cell_type": "code",
   "execution_count": null,
   "metadata": {},
   "outputs": [],
   "source": [
    "zgdf.to_file(DATA_IN+'interim/pourpoints_inland.shp')"
   ]
  },
  {
   "cell_type": "code",
   "execution_count": null,
   "metadata": {},
   "outputs": [],
   "source": [
    "print('DOWNLOAD THIS STUFF !')"
   ]
  },
  {
   "cell_type": "markdown",
   "metadata": {},
   "source": [
    "# Match inland PourPoints with Inland Watersheds"
   ]
  },
  {
   "cell_type": "code",
   "execution_count": null,
   "metadata": {},
   "outputs": [],
   "source": [
    "inland_pp = zgdf[zgdf['land-ocean'] == 1] # get inland pourpoints"
   ]
  },
  {
   "cell_type": "code",
   "execution_count": null,
   "metadata": {},
   "outputs": [],
   "source": [
    "# Open watershed basins polygons and stack em\n",
    "\n",
    "basins_dir = glob(DATA_IN+'interim/basins_crs/*59004.shp')\n",
    "\n",
    "columns= (['ID',\n",
    " 'GRIDCODE',\n",
    " 'inspect',\n",
    " 'area',\n",
    " 'PNTPOLYCNT',\n",
    " 'basin_id',\n",
    " 'MWa_in_km2',\n",
    " 'geometry'])\n",
    "\n",
    "watersheds = pd.DataFrame(columns = columns)\n",
    "\n",
    "for shp_fn in basins_dir:\n",
    "    basins = pd.DataFrame(gpd.read_file(shp_fn))\n",
    "    watersheds = watersheds.append(basins, sort = False)\n",
    "    \n"
   ]
  },
  {
   "cell_type": "code",
   "execution_count": null,
   "metadata": {},
   "outputs": [],
   "source": [
    "# Isolate Inland\n",
    "watersheds_inland = watersheds.merge(inland_pp['basin_id'], on = 'basin_id', how = 'inner')\n"
   ]
  },
  {
   "cell_type": "code",
   "execution_count": null,
   "metadata": {},
   "outputs": [],
   "source": [
    "# Back to GPD DF\n",
    "watersheds_inland = gpd.GeoDataFrame(watersheds_inland)\n",
    "print(type(watersheds_inland))\n",
    "print(len(watersheds_inland))"
   ]
  },
  {
   "cell_type": "code",
   "execution_count": null,
   "metadata": {},
   "outputs": [],
   "source": [
    "# Plot them again to check\n",
    "watersheds_inland.plot()"
   ]
  },
  {
   "cell_type": "code",
   "execution_count": null,
   "metadata": {},
   "outputs": [],
   "source": [
    "# Save them and plot them \n",
    "fn_out = DATA_IN+'interim/watersheds_inland.shp'\n",
    "watersheds_inland.to_file(fn_out)"
   ]
  },
  {
   "cell_type": "markdown",
   "metadata": {},
   "source": [
    "# Burn Inland Polygons Into Raster"
   ]
  },
  {
   "cell_type": "code",
   "execution_count": null,
   "metadata": {},
   "outputs": [],
   "source": [
    "# Open Effluent Raster\n",
    "data = 'N_treated' # name of data: N, open, septic, treated \n",
    "data_type = 'N' # FIO or N in directory name\n",
    "fn_in = \"effluent_\"+data\n",
    "data_dir = \"/home/cascade/projects/wastewater/data/interim/\"\n",
    "effluent_fn = os.path.join(data_dir, fn_in+'.tif')\n",
    "rst = rasterio.open(effluent_fn)\n"
   ]
  },
  {
   "cell_type": "code",
   "execution_count": null,
   "metadata": {},
   "outputs": [],
   "source": [
    "# Update Meta Data\n",
    "meta = rst.meta\n",
    "meta['dtype'] = \"uint8\"\n",
    "meta['nodata'] = 99 # NA as 99"
   ]
  },
  {
   "cell_type": "code",
   "execution_count": null,
   "metadata": {},
   "outputs": [],
   "source": [
    "# Get polys\n",
    "polys = watersheds_inland[['geometry']]\n",
    "polys.loc[:,'true'] = 1 # true column is 1 meaning there is an inland watershed there"
   ]
  },
  {
   "cell_type": "code",
   "execution_count": null,
   "metadata": {},
   "outputs": [],
   "source": [
    "out_arr = rst.read(1) # get an array to burn shapes\n",
    "out_arr.fill(0) # revalue rst to an Nan Value before burning in polygons\n",
    "out_arr = out_arr.astype('uint8') # change dtype for file size\n",
    "fn_out = DATA_IN+'interim/inlandwatersheds_mask.tif'\n",
    "\n",
    "# extract geom and values to burn\n",
    "shapes = ((geom,value) for geom, value in zip(polys['geometry'], polys['true']))\n",
    "\n",
    "# burn shapes intp an array\n",
    "burned = features.rasterize(shapes=shapes, fill=0, out=out_arr, transform=rst.transform, all_touched=True)\n",
    "\n",
    "# write our raster to disk\n",
    "with rasterio.open(fn_out, 'w', **meta) as out:\n",
    "    out.write_band(1, burned)\n",
    "\n",
    "print(fn_out + \"  saved!\")"
   ]
  },
  {
   "cell_type": "markdown",
   "metadata": {},
   "source": [
    "# Write it out as a .py file"
   ]
  },
  {
   "cell_type": "code",
   "execution_count": 1,
   "metadata": {},
   "outputs": [
    {
     "name": "stdout",
     "output_type": "stream",
     "text": [
      "Starting watersheds\n",
      "Burning Watershed\n",
      "/home/cascade/projects/wastewater/data/interim/watersheds_mask.tif  saved!\n",
      "Watershed Rst Done\n",
      "Starting hydrolakes\n",
      "{'init': 'epsg:4326'}\n",
      "{'proj': 'moll', 'lon_0': 0, 'x_0': 0, 'y_0': 0, 'datum': 'WGS84', 'units': 'm', 'no_defs': True}\n",
      "Burning Lakes\n",
      "/home/cascade/projects/wastewater/data/interim/lakes_mask.tif  saved!\n",
      "Lakes Rst Done\n",
      "Starting custom\n",
      "Burning custom\n",
      "/home/cascade/projects/wastewater/data/interim/custpolys_mask.tif  saved!\n",
      "custom Rst Done\n",
      "merging all rasters - ocean/land\n",
      "Burning oceanland\n",
      "oceanland Rst Done\n",
      "erode start\n",
      "erode saved!\n",
      "starting inland zonal stats\n",
      "num inland pp is: 142652\n",
      "inland pp saved as shapes\n",
      "matching pp w/ watersheds\n",
      "<class 'geopandas.geodataframe.GeoDataFrame'>\n",
      "7784\n",
      "inland watersheds identified & and saved\n",
      "Burning Watershed\n",
      "/home/cascade/projects/wastewater/data/interim/inlandwatersheds_mask.tif  saved!\n",
      "inlandwatersheds Rst Done\n",
      "ALL DONE - YEW!\n"
     ]
    }
   ],
   "source": [
    "##############################################################################################################\n",
    "####\n",
    "####   Pour Point Rst\n",
    "####   By Cascade Tuholske June 2020\n",
    "####\n",
    "####   This script takes hydrosheds and hydrolakes polygons\n",
    "####   to make a mask of land/water to mask outline pourpoints.\n",
    "####   Inland pourpoints, are pour points that are >10 km from\n",
    "####   a coastline. \n",
    "####\n",
    "####   Note: this could be sped up by removing a lot of the\n",
    "####   output functions that save rasters, but I want to be\n",
    "####   able to view each step easily so I am leaving them in\n",
    "####   for now. \n",
    "####\n",
    "##############################################################################################################\n",
    "\n",
    "#### Dependencies \n",
    "##############################################################################################################\n",
    "\n",
    "import geopandas as gpd\n",
    "import numpy as np\n",
    "import pandas as pd\n",
    "import rasterio \n",
    "import matplotlib.pyplot as plt\n",
    "from shapely.geometry import Point\n",
    "from multiprocessing import Pool, Queue, Process\n",
    "import time \n",
    "import os\n",
    "import multiprocessing as mp\n",
    "from rasterio import features\n",
    "from skimage.morphology import erosion\n",
    "from skimage.morphology import dilation\n",
    "from rasterstats import zonal_stats, gen_zonal_stats\n",
    "from glob import glob\n",
    "\n",
    "#### Functions\n",
    "##############################################################################################################\n",
    "\n",
    "def burn_rst(rst_in, polys, fn_out):\n",
    "    \"\"\" Function burns polygons into a bianary raster, polys must have a value column labeled 'true'\n",
    "    Args:\n",
    "        rst_in = file path to raster for template\n",
    "        polys = polygons to burn int, values column must be labeled 'true'\n",
    "        fn_out = file path for burned raster\n",
    "    \"\"\"\n",
    "    \n",
    "    # Get array as template\n",
    "    rst = rasterio.open(rst_in)\n",
    "    out_arr = rst.read(1) # get an array to burn shapes\n",
    "    out_arr.fill(0) # revalue rst to an Nan Value before burning in polygons\n",
    "    out_arr = out_arr.astype('uint8') # change dtype for file size\n",
    "    \n",
    "    # Update Meta Data\n",
    "    meta = rst.meta\n",
    "    meta['dtype'] = \"uint8\"\n",
    "    meta['nodata'] = 99 # NA as 99\n",
    "    \n",
    "    # extract geom and values to burn\n",
    "    shapes = ((geom,value) for geom, value in zip(polys['geometry'], polys['true']))\n",
    "\n",
    "    # burn shapes intp an array\n",
    "    burned = features.rasterize(shapes=shapes, fill=0, out=out_arr, transform=rst.transform, all_touched=True)\n",
    "\n",
    "    # write our raster to disk\n",
    "    with rasterio.open(fn_out, 'w', **meta) as out:\n",
    "        out.write_band(1, burned)\n",
    "\n",
    "    print(fn_out + \"  saved!\")\n",
    "    \n",
    "#### File Names and Paths & Arguments\n",
    "##############################################################################################################\n",
    "\n",
    "DATA_IN = '/home/cascade/projects/wastewater/data/'\n",
    "RST_FN = DATA_IN+'interim/effluent_N_treated.tif' # Template to burn all other rasters \n",
    "\n",
    "#### Watersheds Raster \n",
    "##############################################################################################################\n",
    "\n",
    "# Open watershed basins polygons and stack em\n",
    "print('Starting watersheds')\n",
    "basins_dir = glob(DATA_IN+'interim/basins_crs/*59004.shp')\n",
    "\n",
    "# empty df to stack all the watershed polys\n",
    "columns= (['ID','GRIDCODE','inspect','area','PNTPOLYCNT','basin_id','MWa_in_km2','geometry'])\n",
    "watersheds = pd.DataFrame(columns = columns)\n",
    "\n",
    "# # Open watershed polys\n",
    "for shp_fn in basins_dir:\n",
    "    basins = pd.DataFrame(gpd.read_file(shp_fn))\n",
    "    watersheds = watersheds.append(basins, sort = False)\n",
    "\n",
    "watersheds.loc[:,'true'] = 1 # true column is 1 meaning there is an inland watershed there\n",
    "\n",
    "# burn raster\n",
    "fn_out = fn_out = DATA_IN+'interim/watersheds_mask.tif'\n",
    "print('Burning Watershed')\n",
    "burn_rst(RST_FN, watersheds, fn_out)\n",
    "print('Watershed Rst Done')\n",
    "\n",
    "#### Hydro Lakes Raster \n",
    "##############################################################################################################\n",
    "\n",
    "# Open HydroLakes polys\n",
    "print('Starting hydrolakes')\n",
    "lakes_fn = DATA_IN+'raw/HydroLAKES_polys_v10_shp/HydroLAKES_polys_v10.shp'\n",
    "lakes = gpd.read_file(lakes_fn)\n",
    "\n",
    "# Reproject  to espg:59004\n",
    "crs = {'proj': 'moll', 'lon_0' :0, 'x_0': 0, 'y_0' :0, 'datum': 'WGS84', 'units': 'm', 'no_defs' : True}\n",
    "print(lakes.crs)\n",
    "lakes = lakes.to_crs(crs) # switch crs\n",
    "print(lakes.crs)\n",
    "\n",
    "# Geodataframe\n",
    "lakes = gpd.GeoDataFrame(lakes[['geometry']])\n",
    "lakes.loc[:,'true'] = 1 # true column is 1 meaning there is an inland watershed there\n",
    "\n",
    "# burn raster\n",
    "fn_out = fn_out = DATA_IN+'interim/lakes_mask.tif'\n",
    "print('Burning Lakes')\n",
    "burn_rst(RST_FN, lakes, fn_out)\n",
    "print('Lakes Rst Done')\n",
    "\n",
    "#### Custom Polys Rst -- These polys were drawn manually in QGIS to remove mis-matched pixels w/\n",
    "#### the lakes and rivers polys\n",
    "##############################################################################################################\n",
    "\n",
    "# Open watershed basins polygons and stack em\n",
    "print('Starting custom')\n",
    "polys_fn = DATA_IN+'interim/inland_water_custom_polys.shp'\n",
    "polys = gpd.read_file(polys_fn)\n",
    "polys.loc[:,'true'] = 1 # true column is 1 meaning there is an inland watershed there\n",
    "\n",
    "# burn raster\n",
    "fn_out = DATA_IN+'interim/custpolys_mask.tif'\n",
    "print('Burning custom')\n",
    "burn_rst(RST_FN, polys, fn_out)\n",
    "print('custom Rst Done')\n",
    "\n",
    "#### Merge Rivers and Lakes and Custom rasters\n",
    "##############################################################################################################\n",
    "\n",
    "print('merging all rasters - ocean/land')\n",
    "# Open rasters\n",
    "lake_rst_fn = DATA_IN+'interim/lakes_mask.tif'\n",
    "river_rst_fn = DATA_IN+'interim/watersheds_mask.tif'\n",
    "polys_rst_fn = DATA_IN+'interim/custpolys_mask.tif'\n",
    "\n",
    "lake_rst = rasterio.open(lake_rst_fn)\n",
    "river_rst = rasterio.open(river_rst_fn)\n",
    "poly_rst = rasterio.open(polys_rst_fn)\n",
    "\n",
    "# get bands\n",
    "lake_arr = lake_rst.read(1)\n",
    "river_arr = river_rst.read(1)\n",
    "polys_arr = poly_rst.read(1)\n",
    "\n",
    "# stack them\n",
    "water_arr = lake_arr + river_arr + polys_arr \n",
    "\n",
    "# revalue to bianary\n",
    "water_arr[water_arr > 0] = 1\n",
    "\n",
    "# write raster\n",
    "fn_out = 'interim/oceanland_mask.tif'\n",
    "meta = lake_rst.meta # get meta\n",
    "print('Burning oceanland')\n",
    "with rasterio.open(DATA_IN+fn_out, 'w', **meta) as dst:\n",
    "    dst.write_band(1, water_arr)\n",
    "print('oceanland Rst Done')\n",
    "\n",
    "#### Erode Coastline\n",
    "##############################################################################################################\n",
    "\n",
    "# open ocean/land rst\n",
    "print('erode start')\n",
    "fn_in = DATA_IN+'interim/oceanland_mask.tif'\n",
    "rst = rasterio.open(fn_in)\n",
    "mask = rst.read(1) # Load band 1 \n",
    "\n",
    "# erode the coastline inward 10-km (tried with loop, did not work)\n",
    "erode = erosion(mask) # erode land in-ward by 1-km\n",
    "erode = erosion(erode) # erode land in-ward by 1-km\n",
    "erode = erosion(erode) # erode land in-ward by 1-km\n",
    "erode = erosion(erode) # erode land in-ward by 1-km\n",
    "erode = erosion(erode) # erode land in-ward by 1-km\n",
    "erode = erosion(erode) # erode land in-ward by 1-km\n",
    "erode = erosion(erode) # erode land in-ward by 1-km\n",
    "erode = erosion(erode) # erode land in-ward by 1-km\n",
    "erode = erosion(erode) # erode land in-ward by 1-km\n",
    "erode = erosion(erode) # erode land in-ward by 1-km\n",
    "\n",
    "# write out\n",
    "meta = rst.meta # get meta\n",
    "fn_out = 'interim/oceanland_mask-10km.tif'\n",
    "with rasterio.open(DATA_IN+fn_out, 'w', **meta) as dst:\n",
    "    dst.write_band(1, erode)\n",
    "print('erode saved!')\n",
    "\n",
    "#### Raster Stats to Find Inland PourPoints\n",
    "##############################################################################################################\n",
    "print('starting inland zonal stats')\n",
    "\n",
    "#### Open pourpoints\n",
    "PP_FN = 'raw/pour_points/global_plume_2007_2010.shp'\n",
    "PP = gpd.read_file(DATA_IN+PP_FN)\n",
    "PP = gpd.read_file(DATA_IN+PP_FN) # have to open PP twice, I have no clue why\n",
    "\n",
    "# Run Zonal Stats\n",
    "fn_in = 'interim/oceanland_mask-10km.tif'\n",
    "oceanmask_fn = DATA_IN+fn_in # load 5-km eroded file\n",
    "\n",
    "feature_list = [] # empty list for features\n",
    "\n",
    "zs_feats = zonal_stats(PP, oceanmask_fn, stats=\"max\", geojson_out=True, nodata = -999)\n",
    "feature_list.extend(zs_feats)\n",
    "    \n",
    "zgdf = gpd.GeoDataFrame.from_features(feature_list, crs=PP.crs)\n",
    "zgdf = zgdf.rename(columns={'max': 'land-ocean'}) # land = 1, ocean \n",
    "\n",
    "print('num pp is:', len(zgdf))\n",
    "\n",
    "# make a value column to burn later & save points\n",
    "zgdf[zgdf['land-ocean'] == 1] \n",
    "\n",
    "# save\n",
    "fn_out = 'interim/pourpoints_inland.shp'\n",
    "zgdf.to_file(DATA_IN+fn_out)\n",
    "print('inland pp saved as shapes')\n",
    "\n",
    "#### Match inland PourPoints with Inland Watersheds & Burn Rst\n",
    "##############################################################################################################\n",
    "print('matching pp w/ watersheds')\n",
    "\n",
    "# get inland pourpoints\n",
    "inland_pp = zgdf[zgdf['land-ocean'] == 1] \n",
    "\n",
    "# Isolate Inland\n",
    "watersheds_inland = watersheds.merge(inland_pp['basin_id'], on = 'basin_id', how = 'inner')\n",
    "\n",
    "# Back to GPD DF\n",
    "watersheds_inland = gpd.GeoDataFrame(watersheds_inland)\n",
    "print(type(watersheds_inland))\n",
    "print('num inland watersheds is: ', len(watersheds_inland))\n",
    "\n",
    "# Save them and plot them \n",
    "fn_out = DATA_IN+'interim/watersheds_inland.shp'\n",
    "watersheds_inland.to_file(fn_out)\n",
    "print('inland watersheds identified & and saved')\n",
    "\n",
    "# burn raster\n",
    "fn_out = fn_out = DATA_IN+'interim/inlandwatersheds_mask.tif'\n",
    "print('Burning Watershed')\n",
    "burn_rst(RST_FN, watersheds_inland, fn_out)\n",
    "print('inlandwatersheds Rst Done')\n",
    "\n",
    "#### All done\n",
    "print('ALL DONE - YEW!')"
   ]
  }
 ],
 "metadata": {
  "kernelspec": {
   "display_name": "geo",
   "language": "python",
   "name": "geo"
  },
  "language_info": {
   "codemirror_mode": {
    "name": "ipython",
    "version": 3
   },
   "file_extension": ".py",
   "mimetype": "text/x-python",
   "name": "python",
   "nbconvert_exporter": "python",
   "pygments_lexer": "ipython3",
   "version": "3.6.7"
  }
 },
 "nbformat": 4,
 "nbformat_minor": 2
}
