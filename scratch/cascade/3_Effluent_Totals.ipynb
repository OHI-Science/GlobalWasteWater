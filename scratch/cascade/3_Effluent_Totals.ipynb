{
 "cells": [
  {
   "cell_type": "markdown",
   "metadata": {},
   "source": [
    "# Effluent Totals\n",
    "\n",
    "Notebook that can be turned into a python script to caluclate zonal stats for effluent totals for each watershed and then connec them to pour points (taken from Jared's python and then R script).\n",
    "\n",
    "The watersheds are in different CRS and thus cannot be stacked. They will be converted to espg 54009, which will make some coastal issues, but on the whole this is the best we can do.\n",
    "\n",
    "By Cascade Tuholske 2019-11-11"
   ]
  },
  {
   "cell_type": "markdown",
   "metadata": {},
   "source": [
    "#### Dependencies"
   ]
  },
  {
   "cell_type": "code",
   "execution_count": 1,
   "metadata": {},
   "outputs": [],
   "source": [
    "from rasterstats import zonal_stats, gen_zonal_stats\n",
    "import numpy as np\n",
    "import pandas as pd\n",
    "import geopandas as gpd\n",
    "import rasterio\n",
    "import os\n",
    "import matplotlib.pyplot as plt"
   ]
  },
  {
   "cell_type": "markdown",
   "metadata": {},
   "source": [
    "#### Load Files"
   ]
  },
  {
   "cell_type": "code",
   "execution_count": null,
   "metadata": {},
   "outputs": [],
   "source": [
    "### File Paths from Jared's work\n",
    "\n",
    "# data_dir = \"/home/shares/ohi/git-annex/land-based/wastewater\"\n",
    "# intermediate_dir = os.path.join(data_dir, \"intermediate_files\")\n",
    "# basins_dir = os.path.join(data_dir, \"basins_laea\")\n",
    "# shps = [os.path.join(basins_dir, fn) for fn in os.listdir(basins_dir) if fn.endswith(\".shp\")]\n",
    "# effluent_fn = os.path.join(intermediate_dir, \"effluent_density.tif\")\n",
    "# output_fn = os.path.join(intermediate_dir, \"effluent_watersheds.shp\")"
   ]
  },
  {
   "cell_type": "code",
   "execution_count": 2,
   "metadata": {},
   "outputs": [],
   "source": [
    "### File Paths on ERI's Tana\n",
    "data_dir = \"/home/cascade/tana-crunch-cascade/projects/wastewater_data/\"\n",
    "data_out = os.path.join(data_dir, 'effluent_output/')\n",
    "basins_dir = os.path.join(data_dir, \"basins_laea/\")\n",
    "shps = [os.path.join(basins_dir, fn) for fn in os.listdir(basins_dir) if fn.endswith(\".shp\")]"
   ]
  },
  {
   "cell_type": "code",
   "execution_count": 3,
   "metadata": {},
   "outputs": [],
   "source": [
    "### This is from my ERL paper, it should work for the GHS\n",
    "# https://github.com/cascadet/AfricaUrbanPop/blob/master/notebooks/jupyter/ERL19/Step4_Zonal_Stats.ipynb \n",
    "# Update - this dict is the correct for espg 54009, which is not in fiona, but works fine.\n",
    "# see this for more details: https://epsg.io/54009\n",
    "\n",
    "new_crs = {'proj': 'moll', 'lon_0': 0, 'x_0': 0, 'y_0': 0, 'ellps': 'WGS84', 'units': 'm', 'no_defs': True}\n"
   ]
  },
  {
   "cell_type": "markdown",
   "metadata": {},
   "source": [
    "#### Get Geom to write out files"
   ]
  },
  {
   "cell_type": "code",
   "execution_count": 4,
   "metadata": {
    "scrolled": true
   },
   "outputs": [],
   "source": [
    "# Get geometry for watersheds to write out \n",
    "\n",
    "geom_out = []\n",
    "basin_id_list = []\n",
    "area_list = []\n",
    "for shp_fn in shps: \n",
    "    shp_fn = gpd.read_file(shp_fn).to_crs(new_crs) # switches them all to espg 54009\n",
    "    basin_id = shp_fn['basin_id']\n",
    "    geom = shp_fn['geometry']\n",
    "    area = shp_fn['area']\n",
    "    basin_id_list.extend(basin_id)\n",
    "    geom_out.extend(geom)\n",
    "    area_list.extend(area)"
   ]
  },
  {
   "cell_type": "code",
   "execution_count": 5,
   "metadata": {},
   "outputs": [],
   "source": [
    "# Make Dataframe to write out\n",
    "\n",
    "out_shape = gpd.GeoDataFrame()\n",
    "out_shape['geometry'] = geom_out\n",
    "out_shape['basin_id'] = basin_id_list\n",
    "out_shape['area'] = area_list"
   ]
  },
  {
   "cell_type": "code",
   "execution_count": 6,
   "metadata": {},
   "outputs": [
    {
     "data": {
      "text/html": [
       "<div>\n",
       "<style scoped>\n",
       "    .dataframe tbody tr th:only-of-type {\n",
       "        vertical-align: middle;\n",
       "    }\n",
       "\n",
       "    .dataframe tbody tr th {\n",
       "        vertical-align: top;\n",
       "    }\n",
       "\n",
       "    .dataframe thead th {\n",
       "        text-align: right;\n",
       "    }\n",
       "</style>\n",
       "<table border=\"1\" class=\"dataframe\">\n",
       "  <thead>\n",
       "    <tr style=\"text-align: right;\">\n",
       "      <th></th>\n",
       "      <th>geometry</th>\n",
       "      <th>basin_id</th>\n",
       "      <th>area</th>\n",
       "    </tr>\n",
       "  </thead>\n",
       "  <tbody>\n",
       "    <tr>\n",
       "      <td>0</td>\n",
       "      <td>POLYGON ((-356308.6389525828 8620069.033341438...</td>\n",
       "      <td>na_00290</td>\n",
       "      <td>40.702340</td>\n",
       "    </tr>\n",
       "    <tr>\n",
       "      <td>1</td>\n",
       "      <td>POLYGON ((-362320.4720292822 8619938.450495133...</td>\n",
       "      <td>na_00324</td>\n",
       "      <td>34.019866</td>\n",
       "    </tr>\n",
       "    <tr>\n",
       "      <td>2</td>\n",
       "      <td>POLYGON ((-362329.4240370803 8615917.121968336...</td>\n",
       "      <td>na_00326</td>\n",
       "      <td>19.439924</td>\n",
       "    </tr>\n",
       "    <tr>\n",
       "      <td>3</td>\n",
       "      <td>POLYGON ((-366820.9812789893 8627844.924102537...</td>\n",
       "      <td>na_00344</td>\n",
       "      <td>38.879847</td>\n",
       "    </tr>\n",
       "    <tr>\n",
       "      <td>4</td>\n",
       "      <td>POLYGON ((-366830.082407455 8619434.593115462,...</td>\n",
       "      <td>na_00345</td>\n",
       "      <td>23.692407</td>\n",
       "    </tr>\n",
       "  </tbody>\n",
       "</table>\n",
       "</div>"
      ],
      "text/plain": [
       "                                            geometry  basin_id       area\n",
       "0  POLYGON ((-356308.6389525828 8620069.033341438...  na_00290  40.702340\n",
       "1  POLYGON ((-362320.4720292822 8619938.450495133...  na_00324  34.019866\n",
       "2  POLYGON ((-362329.4240370803 8615917.121968336...  na_00326  19.439924\n",
       "3  POLYGON ((-366820.9812789893 8627844.924102537...  na_00344  38.879847\n",
       "4  POLYGON ((-366830.082407455 8619434.593115462,...  na_00345  23.692407"
      ]
     },
     "execution_count": 6,
     "metadata": {},
     "output_type": "execute_result"
    }
   ],
   "source": [
    "out_shape.head()"
   ]
  },
  {
   "cell_type": "markdown",
   "metadata": {},
   "source": [
    "## Run zonal stats\n",
    "\n",
    "Jared's code does not seem to be working. Producing -inf and NAs, going to try my code from the Africa project\n",
    "\n",
    "**Be sure to switch l, m, h files since I did not write it as a loop**"
   ]
  },
  {
   "cell_type": "code",
   "execution_count": 7,
   "metadata": {},
   "outputs": [],
   "source": [
    "### Outputs for l, m, h density - change eaddch time\n",
    "\n",
    "col = 'Nitrogen'\n",
    "effluent_fn = os.path.join(data_dir, \"nitrogen.tif\")\n",
    "output_fn = os.path.join(data_out, \"N_effluent_watersheds_all.shp\")"
   ]
  },
  {
   "cell_type": "markdown",
   "metadata": {},
   "source": [
    "#### Check CRS first"
   ]
  },
  {
   "cell_type": "code",
   "execution_count": 8,
   "metadata": {
    "scrolled": false
   },
   "outputs": [
    {
     "name": "stdout",
     "output_type": "stream",
     "text": [
      "Shape crs \n",
      "  {'proj': 'laea', 'lat_0': 45, 'lon_0': -100, 'x_0': 0, 'y_0': 0, 'datum': 'WGS84', 'units': 'm', 'no_defs': True}\n",
      "Raster crs \n",
      " PROJCS[\"Mollweide\",GEOGCS[\"GCS_WGS_1984\",DATUM[\"D_unknown\",SPHEROID[\"WGS84\",6378137,298.257223563]],PRIMEM[\"Greenwich\",0],UNIT[\"Degree\",0.017453292519943295]],PROJECTION[\"Mollweide\"],PARAMETER[\"central_meridian\",0],PARAMETER[\"false_easting\",0],PARAMETER[\"false_northing\",0],UNIT[\"Meter\",1]]\n"
     ]
    }
   ],
   "source": [
    "### Check crs of .tif and shape files\n",
    "\n",
    "shp_test = gpd.read_file(shps[0])\n",
    "print('Shape crs \\n ', shp_test.crs)\n",
    "rst_test = rasterio.open(effluent_fn)\n",
    "print('Raster crs \\n', rst_test.crs)"
   ]
  },
  {
   "cell_type": "code",
   "execution_count": 9,
   "metadata": {
    "scrolled": true
   },
   "outputs": [
    {
     "data": {
      "text/html": [
       "<div>\n",
       "<style scoped>\n",
       "    .dataframe tbody tr th:only-of-type {\n",
       "        vertical-align: middle;\n",
       "    }\n",
       "\n",
       "    .dataframe tbody tr th {\n",
       "        vertical-align: top;\n",
       "    }\n",
       "\n",
       "    .dataframe thead th {\n",
       "        text-align: right;\n",
       "    }\n",
       "</style>\n",
       "<table border=\"1\" class=\"dataframe\">\n",
       "  <thead>\n",
       "    <tr style=\"text-align: right;\">\n",
       "      <th></th>\n",
       "      <th>ID</th>\n",
       "      <th>GRIDCODE</th>\n",
       "      <th>area</th>\n",
       "      <th>inspect</th>\n",
       "      <th>PNTPOLYCNT</th>\n",
       "      <th>basin_id</th>\n",
       "      <th>MWa_in_km2</th>\n",
       "      <th>geometry</th>\n",
       "    </tr>\n",
       "  </thead>\n",
       "  <tbody>\n",
       "    <tr>\n",
       "      <td>0</td>\n",
       "      <td>290</td>\n",
       "      <td>665</td>\n",
       "      <td>40.702340</td>\n",
       "      <td>0</td>\n",
       "      <td>1</td>\n",
       "      <td>na_00290</td>\n",
       "      <td>40.403478</td>\n",
       "      <td>POLYGON ((1032315.728811994 4811186.203128001,...</td>\n",
       "    </tr>\n",
       "    <tr>\n",
       "      <td>1</td>\n",
       "      <td>324</td>\n",
       "      <td>726</td>\n",
       "      <td>34.019866</td>\n",
       "      <td>0</td>\n",
       "      <td>1</td>\n",
       "      <td>na_00324</td>\n",
       "      <td>33.798580</td>\n",
       "      <td>POLYGON ((1032315.728811999 4808068.5178, 1032...</td>\n",
       "    </tr>\n",
       "    <tr>\n",
       "      <td>2</td>\n",
       "      <td>326</td>\n",
       "      <td>824</td>\n",
       "      <td>19.439924</td>\n",
       "      <td>0</td>\n",
       "      <td>1</td>\n",
       "      <td>na_00326</td>\n",
       "      <td>19.316744</td>\n",
       "      <td>POLYGON ((1040109.942132005 4808068.5178, 1040...</td>\n",
       "    </tr>\n",
       "    <tr>\n",
       "      <td>3</td>\n",
       "      <td>344</td>\n",
       "      <td>794</td>\n",
       "      <td>38.879847</td>\n",
       "      <td>0</td>\n",
       "      <td>1</td>\n",
       "      <td>na_00344</td>\n",
       "      <td>38.650259</td>\n",
       "      <td>POLYGON ((1016727.302172 4805730.253804, 10159...</td>\n",
       "    </tr>\n",
       "    <tr>\n",
       "      <td>4</td>\n",
       "      <td>345</td>\n",
       "      <td>762</td>\n",
       "      <td>23.692407</td>\n",
       "      <td>0</td>\n",
       "      <td>1</td>\n",
       "      <td>na_00345</td>\n",
       "      <td>23.539958</td>\n",
       "      <td>POLYGON ((1033095.150143997 4805730.253804001,...</td>\n",
       "    </tr>\n",
       "  </tbody>\n",
       "</table>\n",
       "</div>"
      ],
      "text/plain": [
       "    ID  GRIDCODE       area  inspect  PNTPOLYCNT  basin_id  MWa_in_km2  \\\n",
       "0  290       665  40.702340        0           1  na_00290   40.403478   \n",
       "1  324       726  34.019866        0           1  na_00324   33.798580   \n",
       "2  326       824  19.439924        0           1  na_00326   19.316744   \n",
       "3  344       794  38.879847        0           1  na_00344   38.650259   \n",
       "4  345       762  23.692407        0           1  na_00345   23.539958   \n",
       "\n",
       "                                            geometry  \n",
       "0  POLYGON ((1032315.728811994 4811186.203128001,...  \n",
       "1  POLYGON ((1032315.728811999 4808068.5178, 1032...  \n",
       "2  POLYGON ((1040109.942132005 4808068.5178, 1040...  \n",
       "3  POLYGON ((1016727.302172 4805730.253804, 10159...  \n",
       "4  POLYGON ((1033095.150143997 4805730.253804001,...  "
      ]
     },
     "execution_count": 9,
     "metadata": {},
     "output_type": "execute_result"
    }
   ],
   "source": [
    "shp_test.head()"
   ]
  },
  {
   "cell_type": "code",
   "execution_count": null,
   "metadata": {},
   "outputs": [],
   "source": [
    "# Get's a runtime warning because of the values are float 32 I think\n",
    "# His code doesn't work for me\n",
    "\n",
    "# feature_list = []\n",
    "# for shp_fn in shps:\n",
    "#     watersheds = gpd.read_file(shp_fn).to_crs(new_crs) #### Need to double check this w/ JC\n",
    "#     zs_feats = zonal_stats(watersheds, effluent_fn, stats=\"sum count\", geojson_out=True)\n",
    "#     feature_list.extend(zs_feats)\n",
    "#     print('One shape is done')\n",
    "    \n",
    "# zgdf = gpd.GeoDataFrame.from_features(feature_list, crs=watersheds.crs)\n",
    "# zgdf = zgdf.rename(columns={'sum': 'effluent'})\n",
    "# zgdf.effluent = zgdf.effluent.fillna(0)\n",
    "# zgdf.to_file(output_fn)\n"
   ]
  },
  {
   "cell_type": "code",
   "execution_count": 10,
   "metadata": {},
   "outputs": [],
   "source": [
    "def zone_stat(raster, band, polygon, stats, touched):\n",
    "    \"\"\"\n",
    "    This function will calculate the zonal stats for each polygon within a raster\n",
    "    requires gpd_df, raster, object and nodata value\n",
    "    \n",
    "    Args: raster = input raster\n",
    "          band = band of raster\n",
    "          polygon = polygons to calc zonal stats \n",
    "          stats = stat to calculate as string\n",
    "          touched = True or False, to include pixels intersected w/ polygons\n",
    "    \"\"\"\n",
    "    \n",
    "    band = raster.read(band)\n",
    "    band[band < 0] = 0 # Fix missing data\n",
    "    zone_stat = zonal_stats(polygon, band, affine=raster.meta['transform'], \n",
    "                            nodata = -3.4e+38, stats = stats, all_touched = touched)\n",
    "    return zone_stat"
   ]
  },
  {
   "cell_type": "markdown",
   "metadata": {},
   "source": [
    "### run loop"
   ]
  },
  {
   "cell_type": "code",
   "execution_count": 11,
   "metadata": {},
   "outputs": [
    {
     "name": "stdout",
     "output_type": "stream",
     "text": [
      "One shape is done\n",
      "One shape is done\n",
      "One shape is done\n",
      "One shape is done\n",
      "One shape is done\n",
      "One shape is done\n",
      "One shape is done\n",
      "finished!\n"
     ]
    }
   ],
   "source": [
    "### Calc Zonal Stats\n",
    "### Running sontal stats with all touched = True https://pythonhosted.org/rasterstats/manual.html#statistics\n",
    "\n",
    "rst = rasterio.open(effluent_fn) # Open raster\n",
    "feature_list = []\n",
    "\n",
    "for shp_fn in shps:\n",
    "    watersheds = gpd.read_file(shp_fn).to_crs(new_crs) \n",
    "    zs_feats = zone_stat(rst, 1, watersheds, 'sum', True)\n",
    "    feature_list.extend(zs_feats)\n",
    "    print('One shape is done')\n",
    "print('finished!')"
   ]
  },
  {
   "cell_type": "code",
   "execution_count": 12,
   "metadata": {},
   "outputs": [],
   "source": [
    "# Remove Nans and set to log scale if desired \n",
    "\n",
    "out_shape[col] = pd.DataFrame.from_dict(feature_list)\n",
    "out_shape[col] = out_shape[[col]].replace(0, np.nan) # Set zeros to NAN, can run as log if needed\n",
    "out_shape[col] = out_shape[col].fillna(0)"
   ]
  },
  {
   "cell_type": "code",
   "execution_count": 13,
   "metadata": {},
   "outputs": [
    {
     "data": {
      "text/html": [
       "<div>\n",
       "<style scoped>\n",
       "    .dataframe tbody tr th:only-of-type {\n",
       "        vertical-align: middle;\n",
       "    }\n",
       "\n",
       "    .dataframe tbody tr th {\n",
       "        vertical-align: top;\n",
       "    }\n",
       "\n",
       "    .dataframe thead th {\n",
       "        text-align: right;\n",
       "    }\n",
       "</style>\n",
       "<table border=\"1\" class=\"dataframe\">\n",
       "  <thead>\n",
       "    <tr style=\"text-align: right;\">\n",
       "      <th></th>\n",
       "      <th>geometry</th>\n",
       "      <th>basin_id</th>\n",
       "      <th>area</th>\n",
       "      <th>Nitrogen</th>\n",
       "    </tr>\n",
       "  </thead>\n",
       "  <tbody>\n",
       "    <tr>\n",
       "      <td>0</td>\n",
       "      <td>POLYGON ((-356308.6389525828 8620069.033341438...</td>\n",
       "      <td>na_00290</td>\n",
       "      <td>40.702340</td>\n",
       "      <td>0.0</td>\n",
       "    </tr>\n",
       "    <tr>\n",
       "      <td>1</td>\n",
       "      <td>POLYGON ((-362320.4720292822 8619938.450495133...</td>\n",
       "      <td>na_00324</td>\n",
       "      <td>34.019866</td>\n",
       "      <td>0.0</td>\n",
       "    </tr>\n",
       "    <tr>\n",
       "      <td>2</td>\n",
       "      <td>POLYGON ((-362329.4240370803 8615917.121968336...</td>\n",
       "      <td>na_00326</td>\n",
       "      <td>19.439924</td>\n",
       "      <td>0.0</td>\n",
       "    </tr>\n",
       "    <tr>\n",
       "      <td>3</td>\n",
       "      <td>POLYGON ((-366820.9812789893 8627844.924102537...</td>\n",
       "      <td>na_00344</td>\n",
       "      <td>38.879847</td>\n",
       "      <td>0.0</td>\n",
       "    </tr>\n",
       "    <tr>\n",
       "      <td>4</td>\n",
       "      <td>POLYGON ((-366830.082407455 8619434.593115462,...</td>\n",
       "      <td>na_00345</td>\n",
       "      <td>23.692407</td>\n",
       "      <td>0.0</td>\n",
       "    </tr>\n",
       "  </tbody>\n",
       "</table>\n",
       "</div>"
      ],
      "text/plain": [
       "                                            geometry  basin_id       area  \\\n",
       "0  POLYGON ((-356308.6389525828 8620069.033341438...  na_00290  40.702340   \n",
       "1  POLYGON ((-362320.4720292822 8619938.450495133...  na_00324  34.019866   \n",
       "2  POLYGON ((-362329.4240370803 8615917.121968336...  na_00326  19.439924   \n",
       "3  POLYGON ((-366820.9812789893 8627844.924102537...  na_00344  38.879847   \n",
       "4  POLYGON ((-366830.082407455 8619434.593115462,...  na_00345  23.692407   \n",
       "\n",
       "   Nitrogen  \n",
       "0       0.0  \n",
       "1       0.0  \n",
       "2       0.0  \n",
       "3       0.0  \n",
       "4       0.0  "
      ]
     },
     "execution_count": 13,
     "metadata": {},
     "output_type": "execute_result"
    }
   ],
   "source": [
    "out_shape.head()"
   ]
  },
  {
   "cell_type": "code",
   "execution_count": 14,
   "metadata": {
    "scrolled": false
   },
   "outputs": [
    {
     "data": {
      "text/plain": [
       "2190522004526.2288"
      ]
     },
     "execution_count": 14,
     "metadata": {},
     "output_type": "execute_result"
    }
   ],
   "source": [
    "out_shape[col].max()"
   ]
  },
  {
   "cell_type": "markdown",
   "metadata": {},
   "source": [
    "#### Area and pct"
   ]
  },
  {
   "cell_type": "code",
   "execution_count": null,
   "metadata": {},
   "outputs": [],
   "source": [
    "# Effluent by pct\n",
    "\n",
    "out_shape['Nitrogen_pct'] = out_shape['Nitrogen'] / out_shape['Nitrogen'].sum() "
   ]
  },
  {
   "cell_type": "code",
   "execution_count": null,
   "metadata": {},
   "outputs": [],
   "source": [
    "# Effluent by pct\n",
    "\n",
    "\n",
    "out_shape['Nitrogen_area'] = out_shape['Nitrogen'] / out_shape['area']\n",
    "\n",
    "print('done')"
   ]
  },
  {
   "cell_type": "code",
   "execution_count": null,
   "metadata": {},
   "outputs": [],
   "source": [
    "out_shape.head()"
   ]
  },
  {
   "cell_type": "markdown",
   "metadata": {},
   "source": [
    "#### Save"
   ]
  },
  {
   "cell_type": "code",
   "execution_count": null,
   "metadata": {},
   "outputs": [],
   "source": [
    "# Save it\n",
    "# out_shape.to_file(output_fn)"
   ]
  },
  {
   "cell_type": "code",
   "execution_count": null,
   "metadata": {},
   "outputs": [],
   "source": [
    "# save out a sub-set\n",
    "\n",
    "# Dropping all the tiny tiny fractional watersheds \n",
    "\n",
    "out_shape_sub = out_shape[out_shape['Nitrogen'] >1]\n",
    "print(len(out_shape_sub))"
   ]
  },
  {
   "cell_type": "code",
   "execution_count": null,
   "metadata": {
    "scrolled": false
   },
   "outputs": [],
   "source": [
    "out_shape_sub.head()"
   ]
  },
  {
   "cell_type": "code",
   "execution_count": null,
   "metadata": {},
   "outputs": [],
   "source": [
    "# Write out \n",
    "out_shape.to_file(data_out+'Nitrogen_effluent_watersheds.shp')\n",
    "out_shape_sub.to_file(data_out+'Nitrogen_effluent_watersheds_sub.shp')"
   ]
  },
  {
   "cell_type": "markdown",
   "metadata": {},
   "source": [
    "# Pour Points"
   ]
  },
  {
   "cell_type": "code",
   "execution_count": null,
   "metadata": {},
   "outputs": [],
   "source": [
    "pour_points = gpd.read_file(data_dir+'pour_points/'+'global_plume_2007_2010.shp') # Open Pour Points"
   ]
  },
  {
   "cell_type": "code",
   "execution_count": null,
   "metadata": {
    "scrolled": true
   },
   "outputs": [],
   "source": [
    "pour_points.head()"
   ]
  },
  {
   "cell_type": "code",
   "execution_count": null,
   "metadata": {},
   "outputs": [],
   "source": [
    "## Join Watershed Effluent Values to Pour Points\n",
    "print(len(pour_points))\n",
    "pp_merge_all = out_shape.drop(columns = 'geometry')\n",
    "pp_merge_all = pd.merge(pp_merge_all, pour_points, on = 'basin_id', how = 'inner') # <<--- one gets dropped\n",
    "print(len(pp_merge_all))"
   ]
  },
  {
   "cell_type": "code",
   "execution_count": null,
   "metadata": {},
   "outputs": [],
   "source": [
    "pp_merge_all.head()"
   ]
  },
  {
   "cell_type": "code",
   "execution_count": null,
   "metadata": {},
   "outputs": [],
   "source": [
    "## Join Watershed Effluent Values to Pour Points\n",
    "print(len(pour_points))\n",
    "pp_merge_sub = out_shape_sub.drop(columns = 'geometry')\n",
    "pp_merge_sub = pd.merge(pp_merge_sub, pour_points, on = 'basin_id', how = 'inner') # <<--- one gets dropped\n",
    "print(len(pp_merge_sub))"
   ]
  },
  {
   "cell_type": "code",
   "execution_count": null,
   "metadata": {},
   "outputs": [],
   "source": [
    "pp_merge_sub.head()"
   ]
  },
  {
   "cell_type": "code",
   "execution_count": null,
   "metadata": {},
   "outputs": [],
   "source": [
    "### Write out pour points\n",
    "\n",
    "pp_merge_all.to_file(data_out+'Nitrogen_pour_point_totals_all.shp')\n",
    "pp_merge_sub.to_file(data_out+'Nitrogen_pour_point_totals_sub.shp')"
   ]
  },
  {
   "cell_type": "markdown",
   "metadata": {},
   "source": [
    "# Write out top 100 Watersheds"
   ]
  },
  {
   "cell_type": "markdown",
   "metadata": {},
   "source": [
    "#### Totals"
   ]
  },
  {
   "cell_type": "code",
   "execution_count": null,
   "metadata": {},
   "outputs": [],
   "source": [
    "pp_merge_sub_sort = pp_merge_sub.sort_values(by = 'Nitrogen', ascending = False)[0:100]"
   ]
  },
  {
   "cell_type": "code",
   "execution_count": null,
   "metadata": {},
   "outputs": [],
   "source": [
    "pp_merge_sub_sort.to_file(data_out+'Nitrogen_pour_point_totals_sub100.shp')"
   ]
  },
  {
   "cell_type": "code",
   "execution_count": null,
   "metadata": {},
   "outputs": [],
   "source": [
    "out_shape_sub_sort = out_shape_sub.sort_values(by = 'Nitrogen', ascending = False)[0:100]\n",
    "out_shape_sub_sort.to_file(data_out+'Nitrogen_effluent_watersheds_sub100.shp')"
   ]
  },
  {
   "cell_type": "markdown",
   "metadata": {},
   "source": [
    "#### By area"
   ]
  },
  {
   "cell_type": "code",
   "execution_count": null,
   "metadata": {},
   "outputs": [],
   "source": [
    "pp_merge_sub_sort = pp_merge_sub.sort_values(by = 'Nitrogen_area', ascending = False)[0:100]"
   ]
  },
  {
   "cell_type": "code",
   "execution_count": null,
   "metadata": {},
   "outputs": [],
   "source": [
    "pp_merge_sub_sort.to_file(data_out+'Nitrogen_pour_point_area_sub100.shp')"
   ]
  },
  {
   "cell_type": "code",
   "execution_count": null,
   "metadata": {},
   "outputs": [],
   "source": [
    "out_shape_sub_sort = out_shape_sub.sort_values(by = 'Nitrogen_area', ascending = False)[0:100]\n",
    "out_shape_sub_sort.to_file(data_out+'Nitrogen_effluent_watersheds_area_sub100.shp')"
   ]
  }
 ],
 "metadata": {
  "kernelspec": {
   "display_name": "geo",
   "language": "python",
   "name": "geo"
  },
  "language_info": {
   "codemirror_mode": {
    "name": "ipython",
    "version": 3
   },
   "file_extension": ".py",
   "mimetype": "text/x-python",
   "name": "python",
   "nbconvert_exporter": "python",
   "pygments_lexer": "ipython3",
   "version": "3.6.7"
  }
 },
 "nbformat": 4,
 "nbformat_minor": 2
}
