{
 "cells": [
  {
   "cell_type": "code",
   "execution_count": 1,
   "metadata": {},
   "outputs": [],
   "source": [
    "##############################################################################################################\n",
    "####\n",
    "####   Final Data\n",
    "####   By Cascade Tuholske June 2020\n",
    "####\n",
    "####   Merge watershed and country effluent files together\n",
    "####   for final dataset.\n",
    "####\n",
    "##############################################################################################################"
   ]
  },
  {
   "cell_type": "code",
   "execution_count": 2,
   "metadata": {},
   "outputs": [],
   "source": [
    "import pandas as pd\n",
    "from glob import glob\n",
    "import geopandas as gpd\n",
    "import numpy as np"
   ]
  },
  {
   "cell_type": "code",
   "execution_count": 3,
   "metadata": {},
   "outputs": [],
   "source": [
    "# Files and File Paths\n",
    "##############################################################################################################\n",
    "DATA_IN = '../data/'"
   ]
  },
  {
   "cell_type": "code",
   "execution_count": 4,
   "metadata": {},
   "outputs": [],
   "source": [
    "# Functions\n",
    "##############################################################################################################\n",
    "def dir_n_files():\n",
    "    \n",
    "    \"Get file paths for countries and watersheds, open pourpoints\"\n",
    "    \n",
    "    countries = glob(DATA_IN+'interim/*countries.shp')\n",
    "    watersheds = glob(DATA_IN+'interim/*watersheds.shp')\n",
    "    pp = gpd.read_file(DATA_IN+'raw/pour_points/global_plume_2007_2010.shp')\n",
    "    \n",
    "    return countries, watersheds, pp \n",
    "\n",
    "def merge_data(shps_list, geog, col):\n",
    "    \"\"\" Function merges effluent columns and calc pct N of total\n",
    "    Args:\n",
    "        shps_list = list of file paths to shapes\n",
    "        geog = watersheds or countries as a str\n",
    "        col = column label for merge('basin_id for watersheds or 'poly_id' for countries)\n",
    "    \"\"\"\n",
    "\n",
    "    print(geog)\n",
    "    # empty df to fill \n",
    "    df = pd.DataFrame()\n",
    "    counter = 0\n",
    "    \n",
    "    for i, shp in enumerate(shps_list): \n",
    "\n",
    "        # get data type\n",
    "        data = shp.split('interim/effluent_N_')[1].split(geog+'.shp')[0]\n",
    "        data = data+'N'\n",
    "\n",
    "        # rename watersheds column tot total\n",
    "        if data == 'N':\n",
    "            data = 'tot_N'\n",
    "        print(data)\n",
    "\n",
    "        # open data\n",
    "        gdf = gpd.read_file(shp)\n",
    "        gdf.rename(columns={'effluent': data}, inplace=True)\n",
    "        \n",
    "        # add columns to gdf \n",
    "        if geog == 'countries':\n",
    "            gdf['poly_id'] = list(range(len(gdf)))\n",
    "            \n",
    "        # populate df for merge\n",
    "        if counter == i:\n",
    "            df[col] = gdf[col]\n",
    "            df['geometry'] = gdf['geometry']\n",
    "            \n",
    "            # add ISO3 to df\n",
    "            if geog == 'countries':\n",
    "                df['ISO3'] = gdf['ISO3']\n",
    "\n",
    "        # merge data\n",
    "        df = df.merge(gdf[[col, data]], on = col, how = 'inner')\n",
    "    \n",
    "    # Calc Pct\n",
    "    df['open_N_pct'] = df['open_N'] / df['tot_N'] * 100\n",
    "    df['septic_N_pct'] = df['septic_N'] / df['tot_N'] * 100\n",
    "    df['treated_N_pct'] = df['treated_N'] / df['tot_N'] * 100\n",
    "    df['tot_pct'] = df['tot_N'] / df['tot_N'] * 100\n",
    "    \n",
    "    gdf_out = gpd.GeoDataFrame(df)\n",
    "    \n",
    "    return gdf_out"
   ]
  },
  {
   "cell_type": "code",
   "execution_count": 5,
   "metadata": {},
   "outputs": [
    {
     "name": "stdout",
     "output_type": "stream",
     "text": [
      "countries\n",
      "tot_N\n",
      "treated_N\n",
      "open_N\n",
      "septic_N\n",
      "watersheds\n",
      "open_N\n",
      "septic_N\n",
      "treated_N\n",
      "tot_N\n"
     ]
    }
   ],
   "source": [
    "# Merge it all\n",
    "##############################################################################################################\n",
    "\n",
    "# Open Files\n",
    "countries, watersheds, pp = dir_n_files()\n",
    "\n",
    "# Run it\n",
    "countries_final = merge_data(countries, 'countries', 'poly_id')\n",
    "watersheds_final = merge_data(watersheds, 'watersheds', 'basin_id')"
   ]
  },
  {
   "cell_type": "code",
   "execution_count": 10,
   "metadata": {},
   "outputs": [],
   "source": [
    "# Merge PP\n",
    "pp_out = pp[['basin_id', 'geometry']]"
   ]
  },
  {
   "cell_type": "code",
   "execution_count": 13,
   "metadata": {},
   "outputs": [],
   "source": [
    "pp_out = pp_out.merge(watersheds_final.drop(columns = 'geometry'), on = 'basin_id', how = 'inner')"
   ]
  },
  {
   "cell_type": "code",
   "execution_count": 17,
   "metadata": {},
   "outputs": [],
   "source": [
    "# Save it all\n",
    "##############################################################################################################\n",
    "\n",
    "# Countries\n",
    "fn_out = DATA_IN+'processed/N_effluent_output/effluent_N_countries_all.shp'\n",
    "countries_final.to_file(fn_out)\n",
    "\n",
    "# watersheds\n",
    "fn_out = DATA_IN+'processed/N_effluent_output/effluent_N_watersheds_all.shp'\n",
    "watersheds_final.to_file(fn_out)\n",
    "\n",
    "# pp\n",
    "fn_out = DATA_IN+'processed/N_effluent_output/effluent_N_pourpoints_all.shp'\n",
    "pp_out.to_file(fn_out)"
   ]
  }
 ],
 "metadata": {
  "kernelspec": {
   "display_name": "geo",
   "language": "python",
   "name": "geo"
  },
  "language_info": {
   "codemirror_mode": {
    "name": "ipython",
    "version": 3
   },
   "file_extension": ".py",
   "mimetype": "text/x-python",
   "name": "python",
   "nbconvert_exporter": "python",
   "pygments_lexer": "ipython3",
   "version": "3.6.7"
  }
 },
 "nbformat": 4,
 "nbformat_minor": 2
}
