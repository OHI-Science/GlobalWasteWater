{
 "cells": [
  {
   "cell_type": "markdown",
   "metadata": {},
   "source": [
    "# Population Raster Exploration\n",
    "\n",
    "This notebook is to explore the Global Human Settlement Layer Data.\n",
    "\n",
    "1. First goal is to get the GHS-Mod (https://ghsl.jrc.ec.europa.eu/download.php?ds=smod) recategorized as rural & urban.\n",
    "2. Maybe create a stacked raster with the GHS-Pop 2015 (https://ghsl.jrc.ec.europa.eu/ghs_pop2019.php) stacked on top of the urban/rural GHS-SMOD\n",
    "\n",
    "Note, that the fils I am working with right now crs is in World Mollweide (EPSG:54009) at 1km spatial res.\n",
    "\n",
    "Built with conda env geo37\n",
    "\n",
    "By Cascade Tuholske 2019-08-09"
   ]
  },
  {
   "cell_type": "markdown",
   "metadata": {},
   "source": [
    "#### Dependencies"
   ]
  },
  {
   "cell_type": "code",
   "execution_count": 1,
   "metadata": {},
   "outputs": [],
   "source": [
    "import rasterio\n",
    "import pandas as pd\n",
    "import numpy as np\n",
    "import geopandas as gpd\n",
    "from matplotlib import pyplot"
   ]
  },
  {
   "cell_type": "markdown",
   "metadata": {},
   "source": [
    "#### Open Files"
   ]
  },
  {
   "cell_type": "code",
   "execution_count": 2,
   "metadata": {},
   "outputs": [],
   "source": [
    "# File Paths\n",
    "DATA_IN = '../tuholske_data/raw/EU_JRC/'\n",
    "DATA_OUT = '../tuholske_data/interim/'"
   ]
  },
  {
   "cell_type": "code",
   "execution_count": 3,
   "metadata": {},
   "outputs": [],
   "source": [
    "# Files\n",
    "pop2015_fn = 'GHS_POP_E2015_GLOBE_R2019A_54009_1K_V1_0/GHS_POP_E2015_GLOBE_R2019A_54009_1K_V1_0.tif'\n",
    "smod2015_fn = 'GHS_SMOD_POP2015_GLOBE_R2019A_54009_1K_V1_0/GHS_SMOD_POP2015_GLOBE_R2019A_54009_1K_V1_0.tif'"
   ]
  },
  {
   "cell_type": "code",
   "execution_count": 4,
   "metadata": {},
   "outputs": [],
   "source": [
    "pop2015 = rasterio.open(DATA_IN+pop2015_fn)\n",
    "smod2015 = rasterio.open(DATA_IN+smod2015_fn)"
   ]
  },
  {
   "cell_type": "markdown",
   "metadata": {},
   "source": [
    "#### Check Meta Data"
   ]
  },
  {
   "cell_type": "code",
   "execution_count": null,
   "metadata": {
    "scrolled": true
   },
   "outputs": [],
   "source": [
    "print(pop2015.meta)\n",
    "print(smod2015.meta)"
   ]
  },
  {
   "cell_type": "markdown",
   "metadata": {},
   "source": [
    "## Mask Smod"
   ]
  },
  {
   "cell_type": "code",
   "execution_count": null,
   "metadata": {},
   "outputs": [],
   "source": [
    "def array_mask(arr, mask, value):\n",
    "    \"\"\" Function masks arrays based on a boolian array of zeros and 1s\n",
    "    \"\"\"\n",
    "    \n",
    "    m = np.ma.masked_where(mask== value, arr)\n",
    "    m = np.ma.filled(m, 0)\n",
    "    \n",
    "    return m"
   ]
  },
  {
   "cell_type": "code",
   "execution_count": 12,
   "metadata": {},
   "outputs": [],
   "source": [
    "# get arrays\n",
    "\n",
    "smod_arr = smod2015.read(1)"
   ]
  },
  {
   "cell_type": "code",
   "execution_count": null,
   "metadata": {},
   "outputs": [],
   "source": [
    "# Look up SMOD classes \n",
    "\n",
    "# Classes 30 – 23 – 22 – 21 if aggregated form the “urban domain”, 13 – 12 – 11 form the “rural domain”\n",
    "# 10 is WATER\n",
    "# See GHS WhitePaper for info: https://ghsl.jrc.ec.europa.eu/documents/GHSL_Data_Package_2019.pdf?t=1478q532234372\n",
    "\n",
    "np.unique(smod_arr)"
   ]
  },
  {
   "cell_type": "code",
   "execution_count": 13,
   "metadata": {},
   "outputs": [
    {
     "name": "stdout",
     "output_type": "stream",
     "text": [
      "[-200   10  111  222]\n"
     ]
    }
   ],
   "source": [
    "# Make masks\n",
    "# Codess: -200 = NaN, 10 = Water, 111 = Rural, 222 = Urban\n",
    "\n",
    "# rural set to 1, urban set to 2\n",
    "smod_arr[(smod_arr > 10) & (smod_arr < 21)] = 111  # RURAL \n",
    "smod_arr[(smod_arr >= 21) & (smod_arr < 111)] = 222 # URBAN \n",
    "\n",
    "print(np.unique(smod_arr))"
   ]
  },
  {
   "cell_type": "code",
   "execution_count": 14,
   "metadata": {},
   "outputs": [],
   "source": [
    "# Write out new urban/rural array as geo tif\n",
    "\n",
    "def raster_write(meta, array, file_out):\n",
    "    \"\"\" function to write out a raster file with an np array\n",
    "    requires meta data for raster, np array & file out path and name\n",
    "    \"\"\"\n",
    "    \n",
    "    kwargs = meta\n",
    "\n",
    "    # Update kwargs (change in data type)\n",
    "    kwargs.update(dtype=rasterio.float32, count = 1)\n",
    "\n",
    "    with rasterio.open(file_out, 'w', **kwargs) as dst:\n",
    "        dst.write_band(1, array.astype(rasterio.float32))\n"
   ]
  },
  {
   "cell_type": "code",
   "execution_count": 15,
   "metadata": {},
   "outputs": [],
   "source": [
    "meta = smod2015.meta\n",
    "out_fn = smod2015_fn = DATA_OUT+'GHS_SMOD_POP2015_GLOBE_R2019A_54009_1K_V1_0_Urban-Rural.tif'"
   ]
  },
  {
   "cell_type": "code",
   "execution_count": 16,
   "metadata": {},
   "outputs": [],
   "source": [
    "# raster_write(meta, smod_arr, out_fn)"
   ]
  }
 ],
 "metadata": {
  "kernelspec": {
   "display_name": "Python 3",
   "language": "python",
   "name": "python3"
  },
  "language_info": {
   "codemirror_mode": {
    "name": "ipython",
    "version": 3
   },
   "file_extension": ".py",
   "mimetype": "text/x-python",
   "name": "python",
   "nbconvert_exporter": "python",
   "pygments_lexer": "ipython3",
   "version": "3.7.3"
  }
 },
 "nbformat": 4,
 "nbformat_minor": 2
}
