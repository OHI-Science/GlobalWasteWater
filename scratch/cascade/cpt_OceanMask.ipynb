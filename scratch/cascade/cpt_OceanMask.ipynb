{
 "cells": [
  {
   "cell_type": "markdown",
   "metadata": {},
   "source": [
    "# Ocean Mask\n",
    "\n",
    "Notebook to change values of the ocean_mask.tif file. Goals is to make a few versions and see why the plume model is currently pluming onto land.\n",
    "\n",
    "Cascade Tuholske 2020.01.19\n",
    "\n",
    "- ocean_mask_orginal.tif : ocean = 1, land = 0 ... first step is to switch the zeros and ones for ocean/land and see if the plume will work. It came from: `/home/shares/ohi/marine_threats/impact_layers_2013_redo/impact_layers/work/land_based/scripts_and_intermediary_layers/[0]_og_input/ocean_mask`\n",
    "\n",
    "- **The ocean_mask we want to use in the plume models : ocean = 1, land = nan.**\n",
    "\n",
    "The notebook also allows for the isolation of the coastline from the ocean mask (see below). This will **NOT** be used with the river raster because it needs to be in ESPG:54009, where as the ocean mask is in ESPG:4326.\n",
    "\n"
   ]
  },
  {
   "cell_type": "code",
   "execution_count": 9,
   "metadata": {},
   "outputs": [],
   "source": [
    "import numpy as np\n",
    "import pandas as pd\n",
    "import rasterio\n",
    "import geopandas as gpd\n",
    "from rasterio import features\n",
    "from shapely.geometry import shape\n",
    "import matplotlib.pyplot as plt"
   ]
  },
  {
   "cell_type": "code",
   "execution_count": 2,
   "metadata": {},
   "outputs": [],
   "source": [
    "DATA_IN = '/home/cascade/projects/wastewater/data/interim/ocean_masks/'\n",
    "DATA_OUT = '/home/cascade/projects/wastewater/data/interim/ocean_masks/'"
   ]
  },
  {
   "cell_type": "markdown",
   "metadata": {},
   "source": [
    "# Switch Zeros & Ones"
   ]
  },
  {
   "cell_type": "code",
   "execution_count": null,
   "metadata": {},
   "outputs": [],
   "source": [
    "FN_IN = 'ocean_mask_orginal.tif'"
   ]
  },
  {
   "cell_type": "code",
   "execution_count": null,
   "metadata": {},
   "outputs": [],
   "source": [
    "org = rasterio.open(DATA_IN+FN_IN)"
   ]
  },
  {
   "cell_type": "code",
   "execution_count": null,
   "metadata": {
    "scrolled": true
   },
   "outputs": [],
   "source": [
    "org.meta"
   ]
  },
  {
   "cell_type": "code",
   "execution_count": null,
   "metadata": {},
   "outputs": [],
   "source": [
    "org_arr = org.read(1)"
   ]
  },
  {
   "cell_type": "code",
   "execution_count": null,
   "metadata": {},
   "outputs": [],
   "source": [
    "print('len land (0) is ', len(org_arr[org_arr == 0]))\n",
    "print('len ocean (1) is ', len(org_arr[org_arr == 1]))"
   ]
  },
  {
   "cell_type": "code",
   "execution_count": null,
   "metadata": {},
   "outputs": [],
   "source": [
    "### Switch zeros and ones\n",
    "\n",
    "mask = org.read(1)\n",
    "mask[mask == 1] = 2 # set ocean from 1 to 2 \n",
    "mask[mask == 0] = 3 # set land from 0 to 3\n",
    "\n",
    "mask[mask == 2] = 0 # set ocean from 2 to 0\n",
    "mask[mask == 3] = 1 # set land from 3 to 1"
   ]
  },
  {
   "cell_type": "code",
   "execution_count": null,
   "metadata": {},
   "outputs": [],
   "source": [
    "### write it out\n",
    "\n",
    "# Get met & update type\n",
    "kwargs = org.meta\n",
    "#kwargs.update({'dtype' : 'float64'})\n",
    "\n",
    "\n",
    "file_out = DATA_OUT+'ocean_mask_land1.tif'\n",
    "\n",
    "with rasterio.open(file_out, 'w', **kwargs) as dst:\n",
    "    dst.write_band(1, mask)"
   ]
  },
  {
   "cell_type": "code",
   "execution_count": null,
   "metadata": {},
   "outputs": [],
   "source": [
    "### Set land to null and keep ocean as 1\n",
    "\n",
    "mask = org.read(1)\n",
    "mask = mask.astype(float)\n",
    "mask[mask==0] = np.nan # land from 0 to nan"
   ]
  },
  {
   "cell_type": "code",
   "execution_count": null,
   "metadata": {
    "scrolled": true
   },
   "outputs": [],
   "source": [
    "# print('len land is (1)', len(mask[mask == 1]))\n",
    "# print('len ocean is (0)', len(mask[mask == 0]))\n",
    "\n",
    "print('len ocean is (1)', len(mask[mask == 1]))\n",
    "print('len land is (nan)', len(mask[np.isnan(mask)]))"
   ]
  },
  {
   "cell_type": "code",
   "execution_count": null,
   "metadata": {},
   "outputs": [],
   "source": [
    "org.meta"
   ]
  },
  {
   "cell_type": "code",
   "execution_count": null,
   "metadata": {},
   "outputs": [],
   "source": [
    "### write it out\n",
    "\n",
    "# Get met & update data type to allow nan\n",
    "kwargs = org.meta\n",
    "kwargs.update({'dtype' : 'float64'})\n",
    "\n",
    "\n",
    "file_out = DATA_OUT+'ocean_mask_landnull.tif'\n",
    "\n",
    "with rasterio.open(file_out, 'w', **kwargs) as dst:\n",
    "    dst.write_band(1, mask)"
   ]
  },
  {
   "cell_type": "code",
   "execution_count": null,
   "metadata": {},
   "outputs": [],
   "source": [
    "### Check it \n",
    "landnull = rasterio.open(file_out)"
   ]
  },
  {
   "cell_type": "code",
   "execution_count": null,
   "metadata": {},
   "outputs": [],
   "source": [
    "landnull.read(1)"
   ]
  },
  {
   "cell_type": "markdown",
   "metadata": {},
   "source": [
    "# Isolate coastlines within ocean masks\n",
    "\n",
    "Here we use sk-image to erode the ocean mask by one pixel, then we subtract this eroded ocean mask from the original, leaving just the coastlines. \n",
    "\n",
    "The coastline will be integrated in with the rivers raster (see cpt_RiverRaster.ipynb"
   ]
  },
  {
   "cell_type": "code",
   "execution_count": null,
   "metadata": {},
   "outputs": [],
   "source": [
    "from skimage.morphology import erosion"
   ]
  },
  {
   "cell_type": "code",
   "execution_count": null,
   "metadata": {},
   "outputs": [],
   "source": [
    "### Set ocean to zero and land to one\n",
    "\n",
    "mask = org.read(1)\n",
    "mask[mask == 1] = 2 # set ocean from 1 to 2 \n",
    "mask[mask == 0] = 3 # set land from 0 to 3\n",
    "\n",
    "mask[mask == 2] = 0 # set ocean from 2 to 0\n",
    "mask[mask == 3] = 1 # set land from 3 to 1"
   ]
  },
  {
   "cell_type": "code",
   "execution_count": null,
   "metadata": {},
   "outputs": [],
   "source": [
    "a = mask # get land values set to 1"
   ]
  },
  {
   "cell_type": "code",
   "execution_count": null,
   "metadata": {},
   "outputs": [],
   "source": [
    "b = erosion(mask) # erode land in-ward by 1-km"
   ]
  },
  {
   "cell_type": "code",
   "execution_count": null,
   "metadata": {},
   "outputs": [],
   "source": [
    "# write it out to check it\n",
    "\n",
    "kwargs = org.meta\n",
    "\n",
    "file_out = DATA_OUT+'ocean_mask_land1_erosion1.tif'\n",
    "with rasterio.open(file_out, 'w', **kwargs) as dst:\n",
    "    dst.write_band(1, b)"
   ]
  },
  {
   "cell_type": "code",
   "execution_count": null,
   "metadata": {},
   "outputs": [],
   "source": [
    "# Isolate coastline values\n",
    "\n",
    "a[a == 1] = 2 # up the values and then subtract\n",
    "c = a - b"
   ]
  },
  {
   "cell_type": "code",
   "execution_count": null,
   "metadata": {},
   "outputs": [],
   "source": [
    "np.unique(c)"
   ]
  },
  {
   "cell_type": "code",
   "execution_count": null,
   "metadata": {},
   "outputs": [],
   "source": [
    "# We want to keep 2 as the coastline\n",
    "c[c == 1] = 0"
   ]
  },
  {
   "cell_type": "code",
   "execution_count": null,
   "metadata": {},
   "outputs": [],
   "source": [
    "np.unique(c)"
   ]
  },
  {
   "cell_type": "code",
   "execution_count": null,
   "metadata": {},
   "outputs": [],
   "source": [
    "# write it out to check it\n",
    "\n",
    "kwargs = org.meta\n",
    "\n",
    "file_out = DATA_OUT+'ocean_mask_coastline.tif'\n",
    "with rasterio.open(file_out, 'w', **kwargs) as dst:\n",
    "    dst.write_band(1, c)"
   ]
  },
  {
   "cell_type": "markdown",
   "metadata": {},
   "source": [
    "# Coastlines into polygons "
   ]
  },
  {
   "cell_type": "code",
   "execution_count": 5,
   "metadata": {},
   "outputs": [],
   "source": [
    "FN_IN = 'ocean_mask_land1.tif'"
   ]
  },
  {
   "cell_type": "code",
   "execution_count": 6,
   "metadata": {},
   "outputs": [],
   "source": [
    "coastline = rasterio.open(DATA_IN+FN_IN)"
   ]
  },
  {
   "cell_type": "code",
   "execution_count": 13,
   "metadata": {},
   "outputs": [
    {
     "data": {
      "text/plain": [
       "<matplotlib.image.AxesImage at 0x7f549c2299e8>"
      ]
     },
     "execution_count": 13,
     "metadata": {},
     "output_type": "execute_result"
    },
    {
     "data": {
      "image/png": "[encoded data removed]",
      "text/plain": [
       "<Figure size 432x288 with 1 Axes>"
      ]
     },
     "metadata": {
      "needs_background": "light"
     },
     "output_type": "display_data"
    }
   ],
   "source": [
    "plt.imshow(coastline.read(1))"
   ]
  },
  {
   "cell_type": "code",
   "execution_count": null,
   "metadata": {},
   "outputs": [],
   "source": [
    "import numpy as np\n",
    "import fiona\n",
    "import rasterio\n",
    "import rasterio.features\n",
    "from shapely.geometry import shape, mapping\n",
    "from shapely.geometry.multipolygon import MultiPolygon\n",
    "\n",
    "# Read input band with Rasterio\n",
    "with rasterio.open(DATA_IN+FN_IN) as src:\n",
    "    crs = src.crs\n",
    "    src_band = src.read(1)\n",
    "    # Keep track of unique pixel values in the input band\n",
    "    unique_values = np.unique(src_band)\n",
    "    # Polygonize with Rasterio. `shapes()` returns an iterable\n",
    "    # of (geom, value) as tuples\n",
    "    shapes = list(rasterio.features.shapes(src_band, transform=src.transform))\n",
    "\n",
    "\n",
    "shp_schema = {\n",
    "    'geometry': 'MultiPolygon',\n",
    "    'properties': {'pixelvalue': 'int'}\n",
    "}\n",
    "\n",
    "# Get a list of all polygons for a given pixel value\n",
    "# and create a MultiPolygon geometry with shapely.\n",
    "# Then write the record to an output shapefile with fiona.\n",
    "# We make use of the `shape()` and `mapping()` functions from\n",
    "# shapely to translate between the GeoJSON-like dict format\n",
    "# and the shapely geometry type.\n",
    "with fiona.open('output.shp', 'w', 'ESRI Shapefile', shp_schema, crs) as shp:\n",
    "    for pixel_value in unique_values:\n",
    "        polygons = [shape(geom) for geom, value in shapes\n",
    "                    if value == pixel_value]\n",
    "        multipolygon = MultiPolygon(polygons)\n",
    "        shp.write({\n",
    "            'geometry': mapping(multipolygon),\n",
    "            'properties': {'pixelvalue': int(pixel_value)}\n",
    "        })"
   ]
  }
 ],
 "metadata": {
  "kernelspec": {
   "display_name": "geo",
   "language": "python",
   "name": "geo"
  },
  "language_info": {
   "codemirror_mode": {
    "name": "ipython",
    "version": 3
   },
   "file_extension": ".py",
   "mimetype": "text/x-python",
   "name": "python",
   "nbconvert_exporter": "python",
   "pygments_lexer": "ipython3",
   "version": "3.6.7"
  }
 },
 "nbformat": 4,
 "nbformat_minor": 2
}
