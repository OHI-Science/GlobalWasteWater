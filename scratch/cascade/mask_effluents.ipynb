{
 "cells": [
  {
   "cell_type": "code",
   "execution_count": 1,
   "metadata": {},
   "outputs": [],
   "source": [
    "##############################################################################################################\n",
    "####\n",
    "####   Mask Effluents\n",
    "####   By Cascade Tuholske June 2020\n",
    "####\n",
    "####   This script masks inland watersheds from the \n",
    "####   effluent rasters and makes float64 tif\n",
    "####   files to run the zonal stats on\n",
    "####\n",
    "##############################################################################################################"
   ]
  },
  {
   "cell_type": "code",
   "execution_count": 2,
   "metadata": {},
   "outputs": [],
   "source": [
    "#### Dependencies \n",
    "##############################################################################################################\n",
    "import numpy as np\n",
    "import pandas as pd\n",
    "import geopandas as gpd\n",
    "import rasterio\n",
    "import matplotlib.pyplot as plt "
   ]
  },
  {
   "cell_type": "code",
   "execution_count": 3,
   "metadata": {},
   "outputs": [],
   "source": [
    "#### File Paths and FN\n",
    "# effluent rsts\n",
    "DATA_IN = '/home/cascade/projects/wastewater/data/'\n",
    "MASK_FN = DATA_IN+'interim/inlandwatersheds_mask.tif'\n",
    "effluent_rsts = [DATA_IN+'interim/effluent_N.tif', DATA_IN+'interim/effluent_N_treated.tif', \n",
    "                 DATA_IN+'interim/effluent_N_septic.tif', DATA_IN+'interim/effluent_N_open.tif']\n"
   ]
  },
  {
   "cell_type": "code",
   "execution_count": 4,
   "metadata": {},
   "outputs": [],
   "source": [
    "def mask_effluent(effluent_fn, mask_fn, out_fn):\n",
    "    \n",
    "    \"\"\"Function opens effluent raster and masks inland watershed pixels\\\n",
    "    Args:\n",
    "        effluent_fn = effluent raster fn\n",
    "        mask_fn = mask raster fn\n",
    "        out_fn = file name out\n",
    "    \"\"\"\n",
    "    \n",
    "    # Open effluent raster\n",
    "    rst = rasterio.open(effluent_fn)\n",
    "    meta = rst.meta\n",
    "    band = rst.read(1)\n",
    "    \n",
    "    # mask inland watersheds\n",
    "    mask = rasterio.open(mask_fn).read(1)\n",
    "    mask[mask == 1] = 2 # revalue mask so inland watersheds are = 0 \n",
    "    mask[mask == 0] = 1\n",
    "    mask[mask == 2] = 0\n",
    "    \n",
    "    band_out = band * mask \n",
    "    \n",
    "    print(band_out.max())\n",
    "\n",
    "    #Save new data type and mask out\n",
    "    with rasterio.open(out_fn, 'w', **meta) as dst:\n",
    "        dst.write(band_out, 1)\n",
    "    \n",
    "    print('Done', out_fn)"
   ]
  },
  {
   "cell_type": "code",
   "execution_count": 5,
   "metadata": {},
   "outputs": [
    {
     "name": "stdout",
     "output_type": "stream",
     "text": [
      "effluent_N\n",
      "Starting mask /home/cascade/projects/wastewater/data/interim/effluent_N.tif\n",
      "1271872000.0\n",
      "Done /home/cascade/projects/wastewater/data/interim/effluent_N_mask.tif\n",
      "\n",
      "\n",
      "effluent_N_treated\n",
      "Starting mask /home/cascade/projects/wastewater/data/interim/effluent_N_treated.tif\n",
      "176486930.0\n",
      "Done /home/cascade/projects/wastewater/data/interim/effluent_N_treated_mask.tif\n",
      "\n",
      "\n",
      "effluent_N_septic\n",
      "Starting mask /home/cascade/projects/wastewater/data/interim/effluent_N_septic.tif\n",
      "89186190.0\n",
      "Done /home/cascade/projects/wastewater/data/interim/effluent_N_septic_mask.tif\n",
      "\n",
      "\n",
      "effluent_N_open\n",
      "Starting mask /home/cascade/projects/wastewater/data/interim/effluent_N_open.tif\n",
      "1263654800.0\n",
      "Done /home/cascade/projects/wastewater/data/interim/effluent_N_open_mask.tif\n",
      "\n",
      "\n"
     ]
    }
   ],
   "source": [
    "# effluent rsts\n",
    "effluent_rsts = [DATA_IN+'interim/effluent_N.tif', DATA_IN+'interim/effluent_N_treated.tif', \n",
    "                 DATA_IN+'interim/effluent_N_septic.tif', DATA_IN+'interim/effluent_N_open.tif']\n",
    "\n",
    "# Make masked rasters\n",
    "for rst in effluent_rsts:\n",
    "    \n",
    "    # Get data type\n",
    "    data = rst.split('interim/')[1].split('.')[0]\n",
    "    print(data)\n",
    "\n",
    "    # Raster Mask 64 \n",
    "    print('Starting mask', rst)\n",
    "    rst_out = DATA_IN+'interim/'+data+'_mask.tif'\n",
    "    mask_effluent(rst, MASK_FN, rst_out)\n",
    "    \n",
    "    print('\\n')\n",
    "\n"
   ]
  },
  {
   "cell_type": "code",
   "execution_count": 9,
   "metadata": {},
   "outputs": [],
   "source": [
    "from glob import glob\n",
    "\n",
    "# Open watershed basins polygons and stack em\n",
    "basins_dir = glob(DATA_IN+'interim/basins_crs/*59004.shp')\n",
    "\n",
    "# empty df to stack all the watershed polys\n",
    "columns= (['ID','GRIDCODE','inspect','area','PNTPOLYCNT','basin_id','MWa_in_km2','geometry'])\n",
    "watersheds = pd.DataFrame(columns = columns)\n",
    "\n",
    "# Open watershed polys\n",
    "for shp_fn in basins_dir:\n",
    "    basins = pd.DataFrame(gpd.read_file(shp_fn))\n",
    "    watersheds = watersheds.append(basins, sort = False)\n",
    "\n",
    "# watersheds = gpd.GeoDataFrame(watersheds) # to geo data frame\n",
    "# watersheds.crs = countries.crs # Set crs\n",
    "\n",
    "# Drop inland watersheds w/ pourpoints file\n",
    "inland_pp_fn = DATA_IN+'interim/pourpoints_inland.shp'\n",
    "inland_pp = gpd.read_file(inland_pp_fn)\n",
    "inland_pp = inland_pp[inland_pp['land-ocean'] == 0] # drop inland watersheds \n",
    "inland_pp = inland_pp['basin_id']\n",
    "watersheds = watersheds.merge(inland_pp, on = 'basin_id', how = 'inner') # merge in\n",
    "\n",
    "# Drop inland watersheds w/ pourpoints file\n",
    "inland_pp_fn = DATA_IN+'interim/pourpoints_inland.shp'\n",
    "inland_pp = gpd.read_file(inland_pp_fn)\n",
    "inland_pp = inland_pp[inland_pp['land-ocean'] == 0] # drop inland watersheds \n",
    "inland_pp = inland_pp['basin_id']\n",
    "watersheds = watersheds.merge(inland_pp, on = 'basin_id', how = 'inner') # merge in"
   ]
  },
  {
   "cell_type": "code",
   "execution_count": 13,
   "metadata": {},
   "outputs": [],
   "source": [
    "watersheds = gpd.GeoDataFrame(watersheds) # to geo data frame\n",
    "\n",
    "fn_out = DATA_IN+'interim/watersheds_coastal.shp'\n",
    "watersheds.to_file(fn_out)\n"
   ]
  }
 ],
 "metadata": {
  "kernelspec": {
   "display_name": "geo",
   "language": "python",
   "name": "geo"
  },
  "language_info": {
   "codemirror_mode": {
    "name": "ipython",
    "version": 3
   },
   "file_extension": ".py",
   "mimetype": "text/x-python",
   "name": "python",
   "nbconvert_exporter": "python",
   "pygments_lexer": "ipython3",
   "version": "3.6.7"
  }
 },
 "nbformat": 4,
 "nbformat_minor": 2
}
